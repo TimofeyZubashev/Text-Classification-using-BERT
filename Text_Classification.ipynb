{
  "nbformat": 4,
  "nbformat_minor": 0,
  "metadata": {
    "colab": {
      "provenance": []
    },
    "kernelspec": {
      "name": "python3",
      "display_name": "Python 3"
    },
    "language_info": {
      "name": "python"
    },
    "widgets": {
      "application/vnd.jupyter.widget-state+json": {
        "57ab76e0419f42efa739eecfd87dc961": {
          "model_module": "@jupyter-widgets/controls",
          "model_name": "HBoxModel",
          "model_module_version": "1.5.0",
          "state": {
            "_dom_classes": [],
            "_model_module": "@jupyter-widgets/controls",
            "_model_module_version": "1.5.0",
            "_model_name": "HBoxModel",
            "_view_count": null,
            "_view_module": "@jupyter-widgets/controls",
            "_view_module_version": "1.5.0",
            "_view_name": "HBoxView",
            "box_style": "",
            "children": [
              "IPY_MODEL_386abdf1f620444b9bf724e1ea6f877c",
              "IPY_MODEL_892d615ca5cc4ee69aa3a8b98d73f759",
              "IPY_MODEL_e144c9d65e9c43d8998a4aaca2e4be3d"
            ],
            "layout": "IPY_MODEL_d82dc5f4a2424b2b9a516d7e68bbe9c8"
          }
        },
        "386abdf1f620444b9bf724e1ea6f877c": {
          "model_module": "@jupyter-widgets/controls",
          "model_name": "HTMLModel",
          "model_module_version": "1.5.0",
          "state": {
            "_dom_classes": [],
            "_model_module": "@jupyter-widgets/controls",
            "_model_module_version": "1.5.0",
            "_model_name": "HTMLModel",
            "_view_count": null,
            "_view_module": "@jupyter-widgets/controls",
            "_view_module_version": "1.5.0",
            "_view_name": "HTMLView",
            "description": "",
            "description_tooltip": null,
            "layout": "IPY_MODEL_d931ccfff7864cbca0f4c7e1e85f2bee",
            "placeholder": "​",
            "style": "IPY_MODEL_eb1fa2800b454923b2925f561e36295c",
            "value": "config.json: 100%"
          }
        },
        "892d615ca5cc4ee69aa3a8b98d73f759": {
          "model_module": "@jupyter-widgets/controls",
          "model_name": "FloatProgressModel",
          "model_module_version": "1.5.0",
          "state": {
            "_dom_classes": [],
            "_model_module": "@jupyter-widgets/controls",
            "_model_module_version": "1.5.0",
            "_model_name": "FloatProgressModel",
            "_view_count": null,
            "_view_module": "@jupyter-widgets/controls",
            "_view_module_version": "1.5.0",
            "_view_name": "ProgressView",
            "bar_style": "success",
            "description": "",
            "description_tooltip": null,
            "layout": "IPY_MODEL_80456196dd7448f0b7cee7c63be23d83",
            "max": 285,
            "min": 0,
            "orientation": "horizontal",
            "style": "IPY_MODEL_ce9fd385dd0f4c87ba9df8ccc842b546",
            "value": 285
          }
        },
        "e144c9d65e9c43d8998a4aaca2e4be3d": {
          "model_module": "@jupyter-widgets/controls",
          "model_name": "HTMLModel",
          "model_module_version": "1.5.0",
          "state": {
            "_dom_classes": [],
            "_model_module": "@jupyter-widgets/controls",
            "_model_module_version": "1.5.0",
            "_model_name": "HTMLModel",
            "_view_count": null,
            "_view_module": "@jupyter-widgets/controls",
            "_view_module_version": "1.5.0",
            "_view_name": "HTMLView",
            "description": "",
            "description_tooltip": null,
            "layout": "IPY_MODEL_ee2401eba29646f084e10d297eff3a59",
            "placeholder": "​",
            "style": "IPY_MODEL_ab5b5d8920064945bbf2d30fd0515bf7",
            "value": " 285/285 [00:00&lt;00:00, 7.06kB/s]"
          }
        },
        "d82dc5f4a2424b2b9a516d7e68bbe9c8": {
          "model_module": "@jupyter-widgets/base",
          "model_name": "LayoutModel",
          "model_module_version": "1.2.0",
          "state": {
            "_model_module": "@jupyter-widgets/base",
            "_model_module_version": "1.2.0",
            "_model_name": "LayoutModel",
            "_view_count": null,
            "_view_module": "@jupyter-widgets/base",
            "_view_module_version": "1.2.0",
            "_view_name": "LayoutView",
            "align_content": null,
            "align_items": null,
            "align_self": null,
            "border": null,
            "bottom": null,
            "display": null,
            "flex": null,
            "flex_flow": null,
            "grid_area": null,
            "grid_auto_columns": null,
            "grid_auto_flow": null,
            "grid_auto_rows": null,
            "grid_column": null,
            "grid_gap": null,
            "grid_row": null,
            "grid_template_areas": null,
            "grid_template_columns": null,
            "grid_template_rows": null,
            "height": null,
            "justify_content": null,
            "justify_items": null,
            "left": null,
            "margin": null,
            "max_height": null,
            "max_width": null,
            "min_height": null,
            "min_width": null,
            "object_fit": null,
            "object_position": null,
            "order": null,
            "overflow": null,
            "overflow_x": null,
            "overflow_y": null,
            "padding": null,
            "right": null,
            "top": null,
            "visibility": null,
            "width": null
          }
        },
        "d931ccfff7864cbca0f4c7e1e85f2bee": {
          "model_module": "@jupyter-widgets/base",
          "model_name": "LayoutModel",
          "model_module_version": "1.2.0",
          "state": {
            "_model_module": "@jupyter-widgets/base",
            "_model_module_version": "1.2.0",
            "_model_name": "LayoutModel",
            "_view_count": null,
            "_view_module": "@jupyter-widgets/base",
            "_view_module_version": "1.2.0",
            "_view_name": "LayoutView",
            "align_content": null,
            "align_items": null,
            "align_self": null,
            "border": null,
            "bottom": null,
            "display": null,
            "flex": null,
            "flex_flow": null,
            "grid_area": null,
            "grid_auto_columns": null,
            "grid_auto_flow": null,
            "grid_auto_rows": null,
            "grid_column": null,
            "grid_gap": null,
            "grid_row": null,
            "grid_template_areas": null,
            "grid_template_columns": null,
            "grid_template_rows": null,
            "height": null,
            "justify_content": null,
            "justify_items": null,
            "left": null,
            "margin": null,
            "max_height": null,
            "max_width": null,
            "min_height": null,
            "min_width": null,
            "object_fit": null,
            "object_position": null,
            "order": null,
            "overflow": null,
            "overflow_x": null,
            "overflow_y": null,
            "padding": null,
            "right": null,
            "top": null,
            "visibility": null,
            "width": null
          }
        },
        "eb1fa2800b454923b2925f561e36295c": {
          "model_module": "@jupyter-widgets/controls",
          "model_name": "DescriptionStyleModel",
          "model_module_version": "1.5.0",
          "state": {
            "_model_module": "@jupyter-widgets/controls",
            "_model_module_version": "1.5.0",
            "_model_name": "DescriptionStyleModel",
            "_view_count": null,
            "_view_module": "@jupyter-widgets/base",
            "_view_module_version": "1.2.0",
            "_view_name": "StyleView",
            "description_width": ""
          }
        },
        "80456196dd7448f0b7cee7c63be23d83": {
          "model_module": "@jupyter-widgets/base",
          "model_name": "LayoutModel",
          "model_module_version": "1.2.0",
          "state": {
            "_model_module": "@jupyter-widgets/base",
            "_model_module_version": "1.2.0",
            "_model_name": "LayoutModel",
            "_view_count": null,
            "_view_module": "@jupyter-widgets/base",
            "_view_module_version": "1.2.0",
            "_view_name": "LayoutView",
            "align_content": null,
            "align_items": null,
            "align_self": null,
            "border": null,
            "bottom": null,
            "display": null,
            "flex": null,
            "flex_flow": null,
            "grid_area": null,
            "grid_auto_columns": null,
            "grid_auto_flow": null,
            "grid_auto_rows": null,
            "grid_column": null,
            "grid_gap": null,
            "grid_row": null,
            "grid_template_areas": null,
            "grid_template_columns": null,
            "grid_template_rows": null,
            "height": null,
            "justify_content": null,
            "justify_items": null,
            "left": null,
            "margin": null,
            "max_height": null,
            "max_width": null,
            "min_height": null,
            "min_width": null,
            "object_fit": null,
            "object_position": null,
            "order": null,
            "overflow": null,
            "overflow_x": null,
            "overflow_y": null,
            "padding": null,
            "right": null,
            "top": null,
            "visibility": null,
            "width": null
          }
        },
        "ce9fd385dd0f4c87ba9df8ccc842b546": {
          "model_module": "@jupyter-widgets/controls",
          "model_name": "ProgressStyleModel",
          "model_module_version": "1.5.0",
          "state": {
            "_model_module": "@jupyter-widgets/controls",
            "_model_module_version": "1.5.0",
            "_model_name": "ProgressStyleModel",
            "_view_count": null,
            "_view_module": "@jupyter-widgets/base",
            "_view_module_version": "1.2.0",
            "_view_name": "StyleView",
            "bar_color": null,
            "description_width": ""
          }
        },
        "ee2401eba29646f084e10d297eff3a59": {
          "model_module": "@jupyter-widgets/base",
          "model_name": "LayoutModel",
          "model_module_version": "1.2.0",
          "state": {
            "_model_module": "@jupyter-widgets/base",
            "_model_module_version": "1.2.0",
            "_model_name": "LayoutModel",
            "_view_count": null,
            "_view_module": "@jupyter-widgets/base",
            "_view_module_version": "1.2.0",
            "_view_name": "LayoutView",
            "align_content": null,
            "align_items": null,
            "align_self": null,
            "border": null,
            "bottom": null,
            "display": null,
            "flex": null,
            "flex_flow": null,
            "grid_area": null,
            "grid_auto_columns": null,
            "grid_auto_flow": null,
            "grid_auto_rows": null,
            "grid_column": null,
            "grid_gap": null,
            "grid_row": null,
            "grid_template_areas": null,
            "grid_template_columns": null,
            "grid_template_rows": null,
            "height": null,
            "justify_content": null,
            "justify_items": null,
            "left": null,
            "margin": null,
            "max_height": null,
            "max_width": null,
            "min_height": null,
            "min_width": null,
            "object_fit": null,
            "object_position": null,
            "order": null,
            "overflow": null,
            "overflow_x": null,
            "overflow_y": null,
            "padding": null,
            "right": null,
            "top": null,
            "visibility": null,
            "width": null
          }
        },
        "ab5b5d8920064945bbf2d30fd0515bf7": {
          "model_module": "@jupyter-widgets/controls",
          "model_name": "DescriptionStyleModel",
          "model_module_version": "1.5.0",
          "state": {
            "_model_module": "@jupyter-widgets/controls",
            "_model_module_version": "1.5.0",
            "_model_name": "DescriptionStyleModel",
            "_view_count": null,
            "_view_module": "@jupyter-widgets/base",
            "_view_module_version": "1.2.0",
            "_view_name": "StyleView",
            "description_width": ""
          }
        },
        "fdb14c8e602f4e169bcbcce7e9fd0f3c": {
          "model_module": "@jupyter-widgets/controls",
          "model_name": "HBoxModel",
          "model_module_version": "1.5.0",
          "state": {
            "_dom_classes": [],
            "_model_module": "@jupyter-widgets/controls",
            "_model_module_version": "1.5.0",
            "_model_name": "HBoxModel",
            "_view_count": null,
            "_view_module": "@jupyter-widgets/controls",
            "_view_module_version": "1.5.0",
            "_view_name": "HBoxView",
            "box_style": "",
            "children": [
              "IPY_MODEL_0bceb2619afe46119b548adc6febbd78",
              "IPY_MODEL_9fa494b73d7c43dc9ca95f40a168ec38",
              "IPY_MODEL_2c2b2ec08b664b42849d9eb1e5d2ed72"
            ],
            "layout": "IPY_MODEL_df074b3ca6cc4b8b815720380572906b"
          }
        },
        "0bceb2619afe46119b548adc6febbd78": {
          "model_module": "@jupyter-widgets/controls",
          "model_name": "HTMLModel",
          "model_module_version": "1.5.0",
          "state": {
            "_dom_classes": [],
            "_model_module": "@jupyter-widgets/controls",
            "_model_module_version": "1.5.0",
            "_model_name": "HTMLModel",
            "_view_count": null,
            "_view_module": "@jupyter-widgets/controls",
            "_view_module_version": "1.5.0",
            "_view_name": "HTMLView",
            "description": "",
            "description_tooltip": null,
            "layout": "IPY_MODEL_7eccc62c2bc843b58a30420c6f639a58",
            "placeholder": "​",
            "style": "IPY_MODEL_09245e0a426e4811a025c4dee4a4694a",
            "value": "vocab.txt: 100%"
          }
        },
        "9fa494b73d7c43dc9ca95f40a168ec38": {
          "model_module": "@jupyter-widgets/controls",
          "model_name": "FloatProgressModel",
          "model_module_version": "1.5.0",
          "state": {
            "_dom_classes": [],
            "_model_module": "@jupyter-widgets/controls",
            "_model_module_version": "1.5.0",
            "_model_name": "FloatProgressModel",
            "_view_count": null,
            "_view_module": "@jupyter-widgets/controls",
            "_view_module_version": "1.5.0",
            "_view_name": "ProgressView",
            "bar_style": "success",
            "description": "",
            "description_tooltip": null,
            "layout": "IPY_MODEL_986aa6ea5e974d2fb896fca9bd6a472e",
            "max": 231508,
            "min": 0,
            "orientation": "horizontal",
            "style": "IPY_MODEL_017494d7a0bb4b8eae95610d437525d1",
            "value": 231508
          }
        },
        "2c2b2ec08b664b42849d9eb1e5d2ed72": {
          "model_module": "@jupyter-widgets/controls",
          "model_name": "HTMLModel",
          "model_module_version": "1.5.0",
          "state": {
            "_dom_classes": [],
            "_model_module": "@jupyter-widgets/controls",
            "_model_module_version": "1.5.0",
            "_model_name": "HTMLModel",
            "_view_count": null,
            "_view_module": "@jupyter-widgets/controls",
            "_view_module_version": "1.5.0",
            "_view_name": "HTMLView",
            "description": "",
            "description_tooltip": null,
            "layout": "IPY_MODEL_888f12d2c6154089828e74073ecca636",
            "placeholder": "​",
            "style": "IPY_MODEL_add8c12bf9e6451db50d48b96bd65ab7",
            "value": " 232k/232k [00:00&lt;00:00, 1.52MB/s]"
          }
        },
        "df074b3ca6cc4b8b815720380572906b": {
          "model_module": "@jupyter-widgets/base",
          "model_name": "LayoutModel",
          "model_module_version": "1.2.0",
          "state": {
            "_model_module": "@jupyter-widgets/base",
            "_model_module_version": "1.2.0",
            "_model_name": "LayoutModel",
            "_view_count": null,
            "_view_module": "@jupyter-widgets/base",
            "_view_module_version": "1.2.0",
            "_view_name": "LayoutView",
            "align_content": null,
            "align_items": null,
            "align_self": null,
            "border": null,
            "bottom": null,
            "display": null,
            "flex": null,
            "flex_flow": null,
            "grid_area": null,
            "grid_auto_columns": null,
            "grid_auto_flow": null,
            "grid_auto_rows": null,
            "grid_column": null,
            "grid_gap": null,
            "grid_row": null,
            "grid_template_areas": null,
            "grid_template_columns": null,
            "grid_template_rows": null,
            "height": null,
            "justify_content": null,
            "justify_items": null,
            "left": null,
            "margin": null,
            "max_height": null,
            "max_width": null,
            "min_height": null,
            "min_width": null,
            "object_fit": null,
            "object_position": null,
            "order": null,
            "overflow": null,
            "overflow_x": null,
            "overflow_y": null,
            "padding": null,
            "right": null,
            "top": null,
            "visibility": null,
            "width": null
          }
        },
        "7eccc62c2bc843b58a30420c6f639a58": {
          "model_module": "@jupyter-widgets/base",
          "model_name": "LayoutModel",
          "model_module_version": "1.2.0",
          "state": {
            "_model_module": "@jupyter-widgets/base",
            "_model_module_version": "1.2.0",
            "_model_name": "LayoutModel",
            "_view_count": null,
            "_view_module": "@jupyter-widgets/base",
            "_view_module_version": "1.2.0",
            "_view_name": "LayoutView",
            "align_content": null,
            "align_items": null,
            "align_self": null,
            "border": null,
            "bottom": null,
            "display": null,
            "flex": null,
            "flex_flow": null,
            "grid_area": null,
            "grid_auto_columns": null,
            "grid_auto_flow": null,
            "grid_auto_rows": null,
            "grid_column": null,
            "grid_gap": null,
            "grid_row": null,
            "grid_template_areas": null,
            "grid_template_columns": null,
            "grid_template_rows": null,
            "height": null,
            "justify_content": null,
            "justify_items": null,
            "left": null,
            "margin": null,
            "max_height": null,
            "max_width": null,
            "min_height": null,
            "min_width": null,
            "object_fit": null,
            "object_position": null,
            "order": null,
            "overflow": null,
            "overflow_x": null,
            "overflow_y": null,
            "padding": null,
            "right": null,
            "top": null,
            "visibility": null,
            "width": null
          }
        },
        "09245e0a426e4811a025c4dee4a4694a": {
          "model_module": "@jupyter-widgets/controls",
          "model_name": "DescriptionStyleModel",
          "model_module_version": "1.5.0",
          "state": {
            "_model_module": "@jupyter-widgets/controls",
            "_model_module_version": "1.5.0",
            "_model_name": "DescriptionStyleModel",
            "_view_count": null,
            "_view_module": "@jupyter-widgets/base",
            "_view_module_version": "1.2.0",
            "_view_name": "StyleView",
            "description_width": ""
          }
        },
        "986aa6ea5e974d2fb896fca9bd6a472e": {
          "model_module": "@jupyter-widgets/base",
          "model_name": "LayoutModel",
          "model_module_version": "1.2.0",
          "state": {
            "_model_module": "@jupyter-widgets/base",
            "_model_module_version": "1.2.0",
            "_model_name": "LayoutModel",
            "_view_count": null,
            "_view_module": "@jupyter-widgets/base",
            "_view_module_version": "1.2.0",
            "_view_name": "LayoutView",
            "align_content": null,
            "align_items": null,
            "align_self": null,
            "border": null,
            "bottom": null,
            "display": null,
            "flex": null,
            "flex_flow": null,
            "grid_area": null,
            "grid_auto_columns": null,
            "grid_auto_flow": null,
            "grid_auto_rows": null,
            "grid_column": null,
            "grid_gap": null,
            "grid_row": null,
            "grid_template_areas": null,
            "grid_template_columns": null,
            "grid_template_rows": null,
            "height": null,
            "justify_content": null,
            "justify_items": null,
            "left": null,
            "margin": null,
            "max_height": null,
            "max_width": null,
            "min_height": null,
            "min_width": null,
            "object_fit": null,
            "object_position": null,
            "order": null,
            "overflow": null,
            "overflow_x": null,
            "overflow_y": null,
            "padding": null,
            "right": null,
            "top": null,
            "visibility": null,
            "width": null
          }
        },
        "017494d7a0bb4b8eae95610d437525d1": {
          "model_module": "@jupyter-widgets/controls",
          "model_name": "ProgressStyleModel",
          "model_module_version": "1.5.0",
          "state": {
            "_model_module": "@jupyter-widgets/controls",
            "_model_module_version": "1.5.0",
            "_model_name": "ProgressStyleModel",
            "_view_count": null,
            "_view_module": "@jupyter-widgets/base",
            "_view_module_version": "1.2.0",
            "_view_name": "StyleView",
            "bar_color": null,
            "description_width": ""
          }
        },
        "888f12d2c6154089828e74073ecca636": {
          "model_module": "@jupyter-widgets/base",
          "model_name": "LayoutModel",
          "model_module_version": "1.2.0",
          "state": {
            "_model_module": "@jupyter-widgets/base",
            "_model_module_version": "1.2.0",
            "_model_name": "LayoutModel",
            "_view_count": null,
            "_view_module": "@jupyter-widgets/base",
            "_view_module_version": "1.2.0",
            "_view_name": "LayoutView",
            "align_content": null,
            "align_items": null,
            "align_self": null,
            "border": null,
            "bottom": null,
            "display": null,
            "flex": null,
            "flex_flow": null,
            "grid_area": null,
            "grid_auto_columns": null,
            "grid_auto_flow": null,
            "grid_auto_rows": null,
            "grid_column": null,
            "grid_gap": null,
            "grid_row": null,
            "grid_template_areas": null,
            "grid_template_columns": null,
            "grid_template_rows": null,
            "height": null,
            "justify_content": null,
            "justify_items": null,
            "left": null,
            "margin": null,
            "max_height": null,
            "max_width": null,
            "min_height": null,
            "min_width": null,
            "object_fit": null,
            "object_position": null,
            "order": null,
            "overflow": null,
            "overflow_x": null,
            "overflow_y": null,
            "padding": null,
            "right": null,
            "top": null,
            "visibility": null,
            "width": null
          }
        },
        "add8c12bf9e6451db50d48b96bd65ab7": {
          "model_module": "@jupyter-widgets/controls",
          "model_name": "DescriptionStyleModel",
          "model_module_version": "1.5.0",
          "state": {
            "_model_module": "@jupyter-widgets/controls",
            "_model_module_version": "1.5.0",
            "_model_name": "DescriptionStyleModel",
            "_view_count": null,
            "_view_module": "@jupyter-widgets/base",
            "_view_module_version": "1.2.0",
            "_view_name": "StyleView",
            "description_width": ""
          }
        },
        "427dc139dfa042ad908f0777dbc928b1": {
          "model_module": "@jupyter-widgets/controls",
          "model_name": "HBoxModel",
          "model_module_version": "1.5.0",
          "state": {
            "_dom_classes": [],
            "_model_module": "@jupyter-widgets/controls",
            "_model_module_version": "1.5.0",
            "_model_name": "HBoxModel",
            "_view_count": null,
            "_view_module": "@jupyter-widgets/controls",
            "_view_module_version": "1.5.0",
            "_view_name": "HBoxView",
            "box_style": "",
            "children": [
              "IPY_MODEL_3e8bc8284c30416bb520fc08de8bdfcf",
              "IPY_MODEL_0f1d8fd44a6b42aeb8316ae5c4338cbb",
              "IPY_MODEL_11bbc4ac62ac4873bd2be8d0961f64c9"
            ],
            "layout": "IPY_MODEL_a2b5849c387e4b25913e5fbf2b6a3af1"
          }
        },
        "3e8bc8284c30416bb520fc08de8bdfcf": {
          "model_module": "@jupyter-widgets/controls",
          "model_name": "HTMLModel",
          "model_module_version": "1.5.0",
          "state": {
            "_dom_classes": [],
            "_model_module": "@jupyter-widgets/controls",
            "_model_module_version": "1.5.0",
            "_model_name": "HTMLModel",
            "_view_count": null,
            "_view_module": "@jupyter-widgets/controls",
            "_view_module_version": "1.5.0",
            "_view_name": "HTMLView",
            "description": "",
            "description_tooltip": null,
            "layout": "IPY_MODEL_6cc1faec64514f478516d8bcd37aa480",
            "placeholder": "​",
            "style": "IPY_MODEL_1618d1deffa2458d9a1f5a1dff2d9ef0",
            "value": "pytorch_model.bin: 100%"
          }
        },
        "0f1d8fd44a6b42aeb8316ae5c4338cbb": {
          "model_module": "@jupyter-widgets/controls",
          "model_name": "FloatProgressModel",
          "model_module_version": "1.5.0",
          "state": {
            "_dom_classes": [],
            "_model_module": "@jupyter-widgets/controls",
            "_model_module_version": "1.5.0",
            "_model_name": "FloatProgressModel",
            "_view_count": null,
            "_view_module": "@jupyter-widgets/controls",
            "_view_module_version": "1.5.0",
            "_view_name": "ProgressView",
            "bar_style": "success",
            "description": "",
            "description_tooltip": null,
            "layout": "IPY_MODEL_0ca427dd62d94eb28363091d36efea0b",
            "max": 17756393,
            "min": 0,
            "orientation": "horizontal",
            "style": "IPY_MODEL_22a6f39772674973a669b877d854981c",
            "value": 17756393
          }
        },
        "11bbc4ac62ac4873bd2be8d0961f64c9": {
          "model_module": "@jupyter-widgets/controls",
          "model_name": "HTMLModel",
          "model_module_version": "1.5.0",
          "state": {
            "_dom_classes": [],
            "_model_module": "@jupyter-widgets/controls",
            "_model_module_version": "1.5.0",
            "_model_name": "HTMLModel",
            "_view_count": null,
            "_view_module": "@jupyter-widgets/controls",
            "_view_module_version": "1.5.0",
            "_view_name": "HTMLView",
            "description": "",
            "description_tooltip": null,
            "layout": "IPY_MODEL_f66f409ccc7c453583006faed6788780",
            "placeholder": "​",
            "style": "IPY_MODEL_6ec827e9b16d40a2bd9da705ee790dae",
            "value": " 17.8M/17.8M [00:00&lt;00:00, 41.7MB/s]"
          }
        },
        "a2b5849c387e4b25913e5fbf2b6a3af1": {
          "model_module": "@jupyter-widgets/base",
          "model_name": "LayoutModel",
          "model_module_version": "1.2.0",
          "state": {
            "_model_module": "@jupyter-widgets/base",
            "_model_module_version": "1.2.0",
            "_model_name": "LayoutModel",
            "_view_count": null,
            "_view_module": "@jupyter-widgets/base",
            "_view_module_version": "1.2.0",
            "_view_name": "LayoutView",
            "align_content": null,
            "align_items": null,
            "align_self": null,
            "border": null,
            "bottom": null,
            "display": null,
            "flex": null,
            "flex_flow": null,
            "grid_area": null,
            "grid_auto_columns": null,
            "grid_auto_flow": null,
            "grid_auto_rows": null,
            "grid_column": null,
            "grid_gap": null,
            "grid_row": null,
            "grid_template_areas": null,
            "grid_template_columns": null,
            "grid_template_rows": null,
            "height": null,
            "justify_content": null,
            "justify_items": null,
            "left": null,
            "margin": null,
            "max_height": null,
            "max_width": null,
            "min_height": null,
            "min_width": null,
            "object_fit": null,
            "object_position": null,
            "order": null,
            "overflow": null,
            "overflow_x": null,
            "overflow_y": null,
            "padding": null,
            "right": null,
            "top": null,
            "visibility": null,
            "width": null
          }
        },
        "6cc1faec64514f478516d8bcd37aa480": {
          "model_module": "@jupyter-widgets/base",
          "model_name": "LayoutModel",
          "model_module_version": "1.2.0",
          "state": {
            "_model_module": "@jupyter-widgets/base",
            "_model_module_version": "1.2.0",
            "_model_name": "LayoutModel",
            "_view_count": null,
            "_view_module": "@jupyter-widgets/base",
            "_view_module_version": "1.2.0",
            "_view_name": "LayoutView",
            "align_content": null,
            "align_items": null,
            "align_self": null,
            "border": null,
            "bottom": null,
            "display": null,
            "flex": null,
            "flex_flow": null,
            "grid_area": null,
            "grid_auto_columns": null,
            "grid_auto_flow": null,
            "grid_auto_rows": null,
            "grid_column": null,
            "grid_gap": null,
            "grid_row": null,
            "grid_template_areas": null,
            "grid_template_columns": null,
            "grid_template_rows": null,
            "height": null,
            "justify_content": null,
            "justify_items": null,
            "left": null,
            "margin": null,
            "max_height": null,
            "max_width": null,
            "min_height": null,
            "min_width": null,
            "object_fit": null,
            "object_position": null,
            "order": null,
            "overflow": null,
            "overflow_x": null,
            "overflow_y": null,
            "padding": null,
            "right": null,
            "top": null,
            "visibility": null,
            "width": null
          }
        },
        "1618d1deffa2458d9a1f5a1dff2d9ef0": {
          "model_module": "@jupyter-widgets/controls",
          "model_name": "DescriptionStyleModel",
          "model_module_version": "1.5.0",
          "state": {
            "_model_module": "@jupyter-widgets/controls",
            "_model_module_version": "1.5.0",
            "_model_name": "DescriptionStyleModel",
            "_view_count": null,
            "_view_module": "@jupyter-widgets/base",
            "_view_module_version": "1.2.0",
            "_view_name": "StyleView",
            "description_width": ""
          }
        },
        "0ca427dd62d94eb28363091d36efea0b": {
          "model_module": "@jupyter-widgets/base",
          "model_name": "LayoutModel",
          "model_module_version": "1.2.0",
          "state": {
            "_model_module": "@jupyter-widgets/base",
            "_model_module_version": "1.2.0",
            "_model_name": "LayoutModel",
            "_view_count": null,
            "_view_module": "@jupyter-widgets/base",
            "_view_module_version": "1.2.0",
            "_view_name": "LayoutView",
            "align_content": null,
            "align_items": null,
            "align_self": null,
            "border": null,
            "bottom": null,
            "display": null,
            "flex": null,
            "flex_flow": null,
            "grid_area": null,
            "grid_auto_columns": null,
            "grid_auto_flow": null,
            "grid_auto_rows": null,
            "grid_column": null,
            "grid_gap": null,
            "grid_row": null,
            "grid_template_areas": null,
            "grid_template_columns": null,
            "grid_template_rows": null,
            "height": null,
            "justify_content": null,
            "justify_items": null,
            "left": null,
            "margin": null,
            "max_height": null,
            "max_width": null,
            "min_height": null,
            "min_width": null,
            "object_fit": null,
            "object_position": null,
            "order": null,
            "overflow": null,
            "overflow_x": null,
            "overflow_y": null,
            "padding": null,
            "right": null,
            "top": null,
            "visibility": null,
            "width": null
          }
        },
        "22a6f39772674973a669b877d854981c": {
          "model_module": "@jupyter-widgets/controls",
          "model_name": "ProgressStyleModel",
          "model_module_version": "1.5.0",
          "state": {
            "_model_module": "@jupyter-widgets/controls",
            "_model_module_version": "1.5.0",
            "_model_name": "ProgressStyleModel",
            "_view_count": null,
            "_view_module": "@jupyter-widgets/base",
            "_view_module_version": "1.2.0",
            "_view_name": "StyleView",
            "bar_color": null,
            "description_width": ""
          }
        },
        "f66f409ccc7c453583006faed6788780": {
          "model_module": "@jupyter-widgets/base",
          "model_name": "LayoutModel",
          "model_module_version": "1.2.0",
          "state": {
            "_model_module": "@jupyter-widgets/base",
            "_model_module_version": "1.2.0",
            "_model_name": "LayoutModel",
            "_view_count": null,
            "_view_module": "@jupyter-widgets/base",
            "_view_module_version": "1.2.0",
            "_view_name": "LayoutView",
            "align_content": null,
            "align_items": null,
            "align_self": null,
            "border": null,
            "bottom": null,
            "display": null,
            "flex": null,
            "flex_flow": null,
            "grid_area": null,
            "grid_auto_columns": null,
            "grid_auto_flow": null,
            "grid_auto_rows": null,
            "grid_column": null,
            "grid_gap": null,
            "grid_row": null,
            "grid_template_areas": null,
            "grid_template_columns": null,
            "grid_template_rows": null,
            "height": null,
            "justify_content": null,
            "justify_items": null,
            "left": null,
            "margin": null,
            "max_height": null,
            "max_width": null,
            "min_height": null,
            "min_width": null,
            "object_fit": null,
            "object_position": null,
            "order": null,
            "overflow": null,
            "overflow_x": null,
            "overflow_y": null,
            "padding": null,
            "right": null,
            "top": null,
            "visibility": null,
            "width": null
          }
        },
        "6ec827e9b16d40a2bd9da705ee790dae": {
          "model_module": "@jupyter-widgets/controls",
          "model_name": "DescriptionStyleModel",
          "model_module_version": "1.5.0",
          "state": {
            "_model_module": "@jupyter-widgets/controls",
            "_model_module_version": "1.5.0",
            "_model_name": "DescriptionStyleModel",
            "_view_count": null,
            "_view_module": "@jupyter-widgets/base",
            "_view_module_version": "1.2.0",
            "_view_name": "StyleView",
            "description_width": ""
          }
        }
      }
    }
  },
  "cells": [
    {
      "cell_type": "markdown",
      "source": [
        "Использование обученных моделей для:\n",
        "\n",
        "1) Классификации текстов\n",
        "\n",
        "2) Поиск похожих текстов на слова"
      ],
      "metadata": {
        "id": "mmfyUCovhlhl"
      }
    },
    {
      "cell_type": "markdown",
      "source": [
        "# Готовим DataSet"
      ],
      "metadata": {
        "id": "JBpuWvZZldYi"
      }
    },
    {
      "cell_type": "code",
      "source": [
        "import pandas as pd\n",
        "\n",
        "url = 'https://raw.githubusercontent.com/saurabh3949/Text-Classification-Datasets/master/TREC.train.all'\n",
        "df = pd.read_csv(url, sep='\\t', header=None, names=['Label'],encoding='ISO-8859-1')"
      ],
      "metadata": {
        "id": "HzsdBJdchjiq"
      },
      "execution_count": null,
      "outputs": []
    },
    {
      "cell_type": "code",
      "source": [
        "df['Label'] = df['Label'].apply(lambda x: x.split(\" \"))"
      ],
      "metadata": {
        "id": "EBjyIFcehjlU"
      },
      "execution_count": null,
      "outputs": []
    },
    {
      "cell_type": "code",
      "source": [
        "classes = df['Label'].apply(lambda x: x[0])\n",
        "df['Classes'] = classes"
      ],
      "metadata": {
        "id": "rmc8Qoqzha5Q"
      },
      "execution_count": null,
      "outputs": []
    },
    {
      "cell_type": "code",
      "source": [
        "df['Text'] = df['Label'].apply(lambda x: x[1:])"
      ],
      "metadata": {
        "id": "A2OFREvmha8E"
      },
      "execution_count": null,
      "outputs": []
    },
    {
      "cell_type": "code",
      "source": [
        "df = df.drop(\"Label\", axis = 1)"
      ],
      "metadata": {
        "id": "vZedRbMdha-s"
      },
      "execution_count": null,
      "outputs": []
    },
    {
      "cell_type": "code",
      "source": [
        "df['Text'] = df['Text'].apply(lambda x: \" \".join(x))"
      ],
      "metadata": {
        "id": "ojgFpdl5hbBA"
      },
      "execution_count": null,
      "outputs": []
    },
    {
      "cell_type": "code",
      "source": [
        "df = df.loc[:,[\"Text\",\"Classes\"]]"
      ],
      "metadata": {
        "id": "hLT2YFJBhbDa"
      },
      "execution_count": null,
      "outputs": []
    },
    {
      "cell_type": "code",
      "source": [
        "df_mini = df.iloc[:2000]"
      ],
      "metadata": {
        "id": "NVkbu3yaXZVk"
      },
      "execution_count": null,
      "outputs": []
    },
    {
      "cell_type": "markdown",
      "source": [
        "# Скачиваем модель"
      ],
      "metadata": {
        "id": "FvZkVKEWn3D_"
      }
    },
    {
      "cell_type": "code",
      "source": [
        "import transformers"
      ],
      "metadata": {
        "id": "dLzDd1WunnRw"
      },
      "execution_count": null,
      "outputs": []
    },
    {
      "cell_type": "code",
      "source": [
        "from transformers import AutoTokenizer, AutoModel"
      ],
      "metadata": {
        "id": "MbffH7oI-hi6"
      },
      "execution_count": null,
      "outputs": []
    },
    {
      "cell_type": "code",
      "source": [
        "tokenizer = AutoTokenizer.from_pretrained(\"prajjwal1/bert-tiny\")\n",
        "model = AutoModel.from_pretrained(\"prajjwal1/bert-tiny\")"
      ],
      "metadata": {
        "colab": {
          "base_uri": "https://localhost:8080/",
          "height": 237,
          "referenced_widgets": [
            "57ab76e0419f42efa739eecfd87dc961",
            "386abdf1f620444b9bf724e1ea6f877c",
            "892d615ca5cc4ee69aa3a8b98d73f759",
            "e144c9d65e9c43d8998a4aaca2e4be3d",
            "d82dc5f4a2424b2b9a516d7e68bbe9c8",
            "d931ccfff7864cbca0f4c7e1e85f2bee",
            "eb1fa2800b454923b2925f561e36295c",
            "80456196dd7448f0b7cee7c63be23d83",
            "ce9fd385dd0f4c87ba9df8ccc842b546",
            "ee2401eba29646f084e10d297eff3a59",
            "ab5b5d8920064945bbf2d30fd0515bf7",
            "fdb14c8e602f4e169bcbcce7e9fd0f3c",
            "0bceb2619afe46119b548adc6febbd78",
            "9fa494b73d7c43dc9ca95f40a168ec38",
            "2c2b2ec08b664b42849d9eb1e5d2ed72",
            "df074b3ca6cc4b8b815720380572906b",
            "7eccc62c2bc843b58a30420c6f639a58",
            "09245e0a426e4811a025c4dee4a4694a",
            "986aa6ea5e974d2fb896fca9bd6a472e",
            "017494d7a0bb4b8eae95610d437525d1",
            "888f12d2c6154089828e74073ecca636",
            "add8c12bf9e6451db50d48b96bd65ab7",
            "427dc139dfa042ad908f0777dbc928b1",
            "3e8bc8284c30416bb520fc08de8bdfcf",
            "0f1d8fd44a6b42aeb8316ae5c4338cbb",
            "11bbc4ac62ac4873bd2be8d0961f64c9",
            "a2b5849c387e4b25913e5fbf2b6a3af1",
            "6cc1faec64514f478516d8bcd37aa480",
            "1618d1deffa2458d9a1f5a1dff2d9ef0",
            "0ca427dd62d94eb28363091d36efea0b",
            "22a6f39772674973a669b877d854981c",
            "f66f409ccc7c453583006faed6788780",
            "6ec827e9b16d40a2bd9da705ee790dae"
          ]
        },
        "id": "GMXulaW6-hk-",
        "outputId": "8a06e5e9-53ee-4453-d248-27927d6bb6f0"
      },
      "execution_count": null,
      "outputs": [
        {
          "output_type": "stream",
          "name": "stderr",
          "text": [
            "/usr/local/lib/python3.10/dist-packages/huggingface_hub/utils/_token.py:88: UserWarning: \n",
            "The secret `HF_TOKEN` does not exist in your Colab secrets.\n",
            "To authenticate with the Hugging Face Hub, create a token in your settings tab (https://huggingface.co/settings/tokens), set it as secret in your Google Colab and restart your session.\n",
            "You will be able to reuse this secret in all of your notebooks.\n",
            "Please note that authentication is recommended but still optional to access public models or datasets.\n",
            "  warnings.warn(\n"
          ]
        },
        {
          "output_type": "display_data",
          "data": {
            "text/plain": [
              "config.json:   0%|          | 0.00/285 [00:00<?, ?B/s]"
            ],
            "application/vnd.jupyter.widget-view+json": {
              "version_major": 2,
              "version_minor": 0,
              "model_id": "57ab76e0419f42efa739eecfd87dc961"
            }
          },
          "metadata": {}
        },
        {
          "output_type": "display_data",
          "data": {
            "text/plain": [
              "vocab.txt:   0%|          | 0.00/232k [00:00<?, ?B/s]"
            ],
            "application/vnd.jupyter.widget-view+json": {
              "version_major": 2,
              "version_minor": 0,
              "model_id": "fdb14c8e602f4e169bcbcce7e9fd0f3c"
            }
          },
          "metadata": {}
        },
        {
          "output_type": "display_data",
          "data": {
            "text/plain": [
              "pytorch_model.bin:   0%|          | 0.00/17.8M [00:00<?, ?B/s]"
            ],
            "application/vnd.jupyter.widget-view+json": {
              "version_major": 2,
              "version_minor": 0,
              "model_id": "427dc139dfa042ad908f0777dbc928b1"
            }
          },
          "metadata": {}
        }
      ]
    },
    {
      "cell_type": "markdown",
      "source": [
        "# Тестируем модель"
      ],
      "metadata": {
        "id": "6j1G24Z__Nkx"
      }
    },
    {
      "cell_type": "code",
      "source": [
        "text = \"Replace me by any text you'd like.\""
      ],
      "metadata": {
        "id": "nMtZAWcV_Mm5"
      },
      "execution_count": null,
      "outputs": []
    },
    {
      "cell_type": "code",
      "source": [
        "encoded_input = tokenizer(text, return_tensors='pt')"
      ],
      "metadata": {
        "id": "L-RAl_gj_MpE"
      },
      "execution_count": null,
      "outputs": []
    },
    {
      "cell_type": "code",
      "source": [
        "encoded_input"
      ],
      "metadata": {
        "colab": {
          "base_uri": "https://localhost:8080/"
        },
        "id": "0-C2zRQZ_Qcv",
        "outputId": "ce4aba11-05ec-421e-c307-7caaf6b91168"
      },
      "execution_count": null,
      "outputs": [
        {
          "output_type": "execute_result",
          "data": {
            "text/plain": [
              "{'input_ids': tensor([[ 101, 5672, 2033, 2011, 2151, 3793, 2017, 1005, 1040, 2066, 1012,  102]]), 'token_type_ids': tensor([[0, 0, 0, 0, 0, 0, 0, 0, 0, 0, 0, 0]]), 'attention_mask': tensor([[1, 1, 1, 1, 1, 1, 1, 1, 1, 1, 1, 1]])}"
            ]
          },
          "metadata": {},
          "execution_count": 16
        }
      ]
    },
    {
      "cell_type": "code",
      "source": [
        "output = model(**encoded_input)"
      ],
      "metadata": {
        "id": "xj8OTJNj_Qe7"
      },
      "execution_count": null,
      "outputs": []
    },
    {
      "cell_type": "code",
      "source": [
        "output[1].squeeze(0)"
      ],
      "metadata": {
        "colab": {
          "base_uri": "https://localhost:8080/"
        },
        "id": "qibXUoIS_QhJ",
        "outputId": "4408722a-4e76-4206-f1f2-64e52462ebea"
      },
      "execution_count": null,
      "outputs": [
        {
          "output_type": "execute_result",
          "data": {
            "text/plain": [
              "tensor([-1.0000,  0.1268, -0.9992, -0.4620, -0.9979, -0.8092, -0.9974,  0.5125,\n",
              "         0.0925, -0.1791, -0.3463, -0.0690, -0.1103,  1.0000, -0.8554, -0.9489,\n",
              "         0.8608, -0.0280, -0.9388,  0.9993,  0.9701,  0.0961,  0.9991,  0.8984,\n",
              "        -1.0000, -0.0017, -0.9983,  0.8225,  0.9993, -0.0302, -0.1821, -0.0231,\n",
              "        -0.9867, -0.7341,  0.8197,  0.9998, -0.9358, -0.1245,  0.9200, -0.9990,\n",
              "         0.9792,  0.9913, -0.9997,  0.9827, -0.9999, -0.2473, -0.9997,  0.9990,\n",
              "         0.9927,  0.9964,  0.8801, -0.6949, -0.0670,  0.8253,  0.9987,  0.9969,\n",
              "        -0.9286, -0.8519,  0.9287, -0.3063, -0.1007,  0.4718, -0.9725,  0.9945,\n",
              "        -0.8136, -1.0000,  0.2504,  0.9211,  0.9167,  0.9917,  0.9856,  0.1915,\n",
              "        -0.9998, -0.0468,  0.6239, -0.9931, -0.8944,  0.3323, -0.6123,  0.1455,\n",
              "         0.7395, -0.0462, -0.9951, -1.0000,  0.9997, -0.9338,  0.6063,  0.9734,\n",
              "         0.6361,  0.9630, -0.7342,  0.9905, -0.9952,  0.9931, -0.7291,  0.3992,\n",
              "        -0.9362,  0.8055, -0.9999, -0.9045, -0.9980,  0.8073, -0.9998, -0.9835,\n",
              "        -0.9987,  0.7769, -0.9873, -0.9987,  0.3273,  0.8861,  0.9995,  0.3618,\n",
              "        -0.6319,  0.9938, -1.0000, -0.1473,  0.7845,  0.9429,  0.3414, -0.9018,\n",
              "         0.2633, -1.0000, -0.7056,  0.9629, -0.9999,  0.9128,  0.9939,  0.9857],\n",
              "       grad_fn=<SqueezeBackward1>)"
            ]
          },
          "metadata": {},
          "execution_count": 18
        }
      ]
    },
    {
      "cell_type": "code",
      "source": [
        "import torch\n",
        "@torch.inference_mode()\n",
        "def get_vectors(text):\n",
        "  encoded_input = tokenizer(text, return_tensors='pt')\n",
        "  output = model(**encoded_input)\n",
        "  output = output[1].squeeze(0)\n",
        "  return output"
      ],
      "metadata": {
        "id": "3ljDVrh9ALdE"
      },
      "execution_count": null,
      "outputs": []
    },
    {
      "cell_type": "markdown",
      "source": [
        "# Предобрабываем df"
      ],
      "metadata": {
        "id": "WDBuegmy0776"
      }
    },
    {
      "cell_type": "code",
      "source": [
        "df_mini['Vector'] = df_mini['Text'].apply(lambda x: get_vectors(x).numpy())"
      ],
      "metadata": {
        "id": "f9hKRKEny2Z-"
      },
      "execution_count": null,
      "outputs": []
    },
    {
      "cell_type": "markdown",
      "source": [
        "# Проверим, что похожие классы текстов находятся рядом"
      ],
      "metadata": {
        "id": "nyz9VGiLBO39"
      }
    },
    {
      "cell_type": "code",
      "source": [
        "vectorized_df = pd.DataFrame(df_mini['Vector'].values.tolist())"
      ],
      "metadata": {
        "id": "Z3eM9Z7lCoc8"
      },
      "execution_count": null,
      "outputs": []
    },
    {
      "cell_type": "code",
      "source": [
        "df_mini = pd.concat([df_mini,vectorized_df], axis = 1)"
      ],
      "metadata": {
        "id": "doB96lN2GGyB"
      },
      "execution_count": null,
      "outputs": []
    },
    {
      "cell_type": "code",
      "source": [
        "from sklearn.neighbors import KNeighborsClassifier"
      ],
      "metadata": {
        "id": "Y0csj6-Oy2cJ"
      },
      "execution_count": null,
      "outputs": []
    },
    {
      "cell_type": "code",
      "source": [
        "knn_model = KNeighborsClassifier(n_neighbors = 5, weights = 'distance')"
      ],
      "metadata": {
        "id": "SQ02Tu5bBkZM"
      },
      "execution_count": null,
      "outputs": []
    },
    {
      "cell_type": "code",
      "source": [
        "knn_model.fit(vectorized_df,df_mini['Classes'])"
      ],
      "metadata": {
        "colab": {
          "base_uri": "https://localhost:8080/",
          "height": 74
        },
        "id": "FXo3keRSCNvu",
        "outputId": "5584869d-bb63-4405-c046-c11e0bb7f46f"
      },
      "execution_count": null,
      "outputs": [
        {
          "output_type": "execute_result",
          "data": {
            "text/plain": [
              "KNeighborsClassifier(weights='distance')"
            ],
            "text/html": [
              "<style>#sk-container-id-1 {color: black;background-color: white;}#sk-container-id-1 pre{padding: 0;}#sk-container-id-1 div.sk-toggleable {background-color: white;}#sk-container-id-1 label.sk-toggleable__label {cursor: pointer;display: block;width: 100%;margin-bottom: 0;padding: 0.3em;box-sizing: border-box;text-align: center;}#sk-container-id-1 label.sk-toggleable__label-arrow:before {content: \"▸\";float: left;margin-right: 0.25em;color: #696969;}#sk-container-id-1 label.sk-toggleable__label-arrow:hover:before {color: black;}#sk-container-id-1 div.sk-estimator:hover label.sk-toggleable__label-arrow:before {color: black;}#sk-container-id-1 div.sk-toggleable__content {max-height: 0;max-width: 0;overflow: hidden;text-align: left;background-color: #f0f8ff;}#sk-container-id-1 div.sk-toggleable__content pre {margin: 0.2em;color: black;border-radius: 0.25em;background-color: #f0f8ff;}#sk-container-id-1 input.sk-toggleable__control:checked~div.sk-toggleable__content {max-height: 200px;max-width: 100%;overflow: auto;}#sk-container-id-1 input.sk-toggleable__control:checked~label.sk-toggleable__label-arrow:before {content: \"▾\";}#sk-container-id-1 div.sk-estimator input.sk-toggleable__control:checked~label.sk-toggleable__label {background-color: #d4ebff;}#sk-container-id-1 div.sk-label input.sk-toggleable__control:checked~label.sk-toggleable__label {background-color: #d4ebff;}#sk-container-id-1 input.sk-hidden--visually {border: 0;clip: rect(1px 1px 1px 1px);clip: rect(1px, 1px, 1px, 1px);height: 1px;margin: -1px;overflow: hidden;padding: 0;position: absolute;width: 1px;}#sk-container-id-1 div.sk-estimator {font-family: monospace;background-color: #f0f8ff;border: 1px dotted black;border-radius: 0.25em;box-sizing: border-box;margin-bottom: 0.5em;}#sk-container-id-1 div.sk-estimator:hover {background-color: #d4ebff;}#sk-container-id-1 div.sk-parallel-item::after {content: \"\";width: 100%;border-bottom: 1px solid gray;flex-grow: 1;}#sk-container-id-1 div.sk-label:hover label.sk-toggleable__label {background-color: #d4ebff;}#sk-container-id-1 div.sk-serial::before {content: \"\";position: absolute;border-left: 1px solid gray;box-sizing: border-box;top: 0;bottom: 0;left: 50%;z-index: 0;}#sk-container-id-1 div.sk-serial {display: flex;flex-direction: column;align-items: center;background-color: white;padding-right: 0.2em;padding-left: 0.2em;position: relative;}#sk-container-id-1 div.sk-item {position: relative;z-index: 1;}#sk-container-id-1 div.sk-parallel {display: flex;align-items: stretch;justify-content: center;background-color: white;position: relative;}#sk-container-id-1 div.sk-item::before, #sk-container-id-1 div.sk-parallel-item::before {content: \"\";position: absolute;border-left: 1px solid gray;box-sizing: border-box;top: 0;bottom: 0;left: 50%;z-index: -1;}#sk-container-id-1 div.sk-parallel-item {display: flex;flex-direction: column;z-index: 1;position: relative;background-color: white;}#sk-container-id-1 div.sk-parallel-item:first-child::after {align-self: flex-end;width: 50%;}#sk-container-id-1 div.sk-parallel-item:last-child::after {align-self: flex-start;width: 50%;}#sk-container-id-1 div.sk-parallel-item:only-child::after {width: 0;}#sk-container-id-1 div.sk-dashed-wrapped {border: 1px dashed gray;margin: 0 0.4em 0.5em 0.4em;box-sizing: border-box;padding-bottom: 0.4em;background-color: white;}#sk-container-id-1 div.sk-label label {font-family: monospace;font-weight: bold;display: inline-block;line-height: 1.2em;}#sk-container-id-1 div.sk-label-container {text-align: center;}#sk-container-id-1 div.sk-container {/* jupyter's `normalize.less` sets `[hidden] { display: none; }` but bootstrap.min.css set `[hidden] { display: none !important; }` so we also need the `!important` here to be able to override the default hidden behavior on the sphinx rendered scikit-learn.org. See: https://github.com/scikit-learn/scikit-learn/issues/21755 */display: inline-block !important;position: relative;}#sk-container-id-1 div.sk-text-repr-fallback {display: none;}</style><div id=\"sk-container-id-1\" class=\"sk-top-container\"><div class=\"sk-text-repr-fallback\"><pre>KNeighborsClassifier(weights=&#x27;distance&#x27;)</pre><b>In a Jupyter environment, please rerun this cell to show the HTML representation or trust the notebook. <br />On GitHub, the HTML representation is unable to render, please try loading this page with nbviewer.org.</b></div><div class=\"sk-container\" hidden><div class=\"sk-item\"><div class=\"sk-estimator sk-toggleable\"><input class=\"sk-toggleable__control sk-hidden--visually\" id=\"sk-estimator-id-1\" type=\"checkbox\" checked><label for=\"sk-estimator-id-1\" class=\"sk-toggleable__label sk-toggleable__label-arrow\">KNeighborsClassifier</label><div class=\"sk-toggleable__content\"><pre>KNeighborsClassifier(weights=&#x27;distance&#x27;)</pre></div></div></div></div></div>"
            ]
          },
          "metadata": {},
          "execution_count": 25
        }
      ]
    },
    {
      "cell_type": "code",
      "source": [
        "sample = vectorized_df.iloc[14].values.reshape(1,-1)"
      ],
      "metadata": {
        "id": "GnJvcnSVG7S6"
      },
      "execution_count": null,
      "outputs": []
    },
    {
      "cell_type": "code",
      "source": [
        "dist, neights = knn_model.kneighbors(X = sample,n_neighbors = 10,)"
      ],
      "metadata": {
        "id": "V5amWGHBBkds"
      },
      "execution_count": null,
      "outputs": []
    },
    {
      "cell_type": "code",
      "source": [
        "dist"
      ],
      "metadata": {
        "colab": {
          "base_uri": "https://localhost:8080/"
        },
        "id": "wt5ErD3gJ0Ap",
        "outputId": "47c42abd-0d6f-4011-ad12-5ba5ced7fe3e"
      },
      "execution_count": null,
      "outputs": [
        {
          "output_type": "execute_result",
          "data": {
            "text/plain": [
              "array([[1.68587394e-07, 1.94825020e+00, 2.04396934e+00, 2.29677670e+00,\n",
              "        2.42680546e+00, 2.47501843e+00, 2.48206678e+00, 2.52564580e+00,\n",
              "        2.52796648e+00, 2.53179351e+00]])"
            ]
          },
          "metadata": {},
          "execution_count": 28
        }
      ]
    },
    {
      "cell_type": "code",
      "source": [
        "neights"
      ],
      "metadata": {
        "colab": {
          "base_uri": "https://localhost:8080/"
        },
        "id": "joj-RSkPJ3G2",
        "outputId": "9bad7001-91ea-4296-f6b7-9d2fccc72c62"
      },
      "execution_count": null,
      "outputs": [
        {
          "output_type": "execute_result",
          "data": {
            "text/plain": [
              "array([[  14,  639, 1400,  212,  780, 1179,  418, 1932,  380, 1242]])"
            ]
          },
          "metadata": {},
          "execution_count": 29
        }
      ]
    },
    {
      "cell_type": "code",
      "source": [
        "df_mini['Text'].iloc[14]"
      ],
      "metadata": {
        "colab": {
          "base_uri": "https://localhost:8080/",
          "height": 35
        },
        "id": "qtpdPnErKcb6",
        "outputId": "dd32c238-dfb3-4dfd-d355-2bf98d79bbe1"
      },
      "execution_count": null,
      "outputs": [
        {
          "output_type": "execute_result",
          "data": {
            "text/plain": [
              "'What is considered the costliest disaster the insurance industry has ever faced ?'"
            ],
            "application/vnd.google.colaboratory.intrinsic+json": {
              "type": "string"
            }
          },
          "metadata": {},
          "execution_count": 30
        }
      ]
    },
    {
      "cell_type": "code",
      "source": [
        "df_mini.loc[neights[0],:0]"
      ],
      "metadata": {
        "colab": {
          "base_uri": "https://localhost:8080/",
          "height": 362
        },
        "id": "qu8AcCFwBkgA",
        "outputId": "3e0a3b43-76a4-4803-da03-d477f6846d7d"
      },
      "execution_count": null,
      "outputs": [
        {
          "output_type": "execute_result",
          "data": {
            "text/plain": [
              "                                                   Text Classes  \\\n",
              "14    What is considered the costliest disaster the ...       1   \n",
              "639   What day of the week sees the most fatal car a...       5   \n",
              "1400  What city is often called The Insurance Capita...       4   \n",
              "212   What South American city has the world 's high...       4   \n",
              "780   What Asian country has a bill of rights for co...       4   \n",
              "1179  Where can I find a list of all the companies i...       4   \n",
              "418   What Nevada center has been dubbed The Biggest...       4   \n",
              "1932             What are the biggest Indian airports ?       4   \n",
              "380   Who is the only prime minister of Canada to se...       3   \n",
              "1242      What are the largest breweries in the world ?       4   \n",
              "\n",
              "                                                 Vector         0  \n",
              "14    [-0.9999519, 0.12445439, -0.9993391, 0.9135453... -0.999952  \n",
              "639   [-0.9999501, 0.02241693, -0.9982628, 0.8430316... -0.999950  \n",
              "1400  [-0.9999635, 0.099084005, -0.99963427, 0.96015... -0.999964  \n",
              "212   [-0.99985224, 0.053765573, -0.99742967, 0.9806... -0.999852  \n",
              "780   [-0.99998766, 0.13625109, -0.9993325, 0.959167... -0.999988  \n",
              "1179  [-0.9999839, 0.050414868, -0.99932706, 0.91171... -0.999984  \n",
              "418   [-0.9999876, 0.08403866, -0.99987173, 0.993275... -0.999988  \n",
              "1932  [-0.9999854, 0.033322256, -0.9995017, 0.787485... -0.999985  \n",
              "380   [-0.99999726, 0.20408824, -0.9992403, 0.663108... -0.999997  \n",
              "1242  [-0.99999154, -0.011155554, -0.99971026, 0.959... -0.999992  "
            ],
            "text/html": [
              "\n",
              "  <div id=\"df-f988bfc0-4f2b-4cea-b3ed-8d0bba37ee79\" class=\"colab-df-container\">\n",
              "    <div>\n",
              "<style scoped>\n",
              "    .dataframe tbody tr th:only-of-type {\n",
              "        vertical-align: middle;\n",
              "    }\n",
              "\n",
              "    .dataframe tbody tr th {\n",
              "        vertical-align: top;\n",
              "    }\n",
              "\n",
              "    .dataframe thead th {\n",
              "        text-align: right;\n",
              "    }\n",
              "</style>\n",
              "<table border=\"1\" class=\"dataframe\">\n",
              "  <thead>\n",
              "    <tr style=\"text-align: right;\">\n",
              "      <th></th>\n",
              "      <th>Text</th>\n",
              "      <th>Classes</th>\n",
              "      <th>Vector</th>\n",
              "      <th>0</th>\n",
              "    </tr>\n",
              "  </thead>\n",
              "  <tbody>\n",
              "    <tr>\n",
              "      <th>14</th>\n",
              "      <td>What is considered the costliest disaster the ...</td>\n",
              "      <td>1</td>\n",
              "      <td>[-0.9999519, 0.12445439, -0.9993391, 0.9135453...</td>\n",
              "      <td>-0.999952</td>\n",
              "    </tr>\n",
              "    <tr>\n",
              "      <th>639</th>\n",
              "      <td>What day of the week sees the most fatal car a...</td>\n",
              "      <td>5</td>\n",
              "      <td>[-0.9999501, 0.02241693, -0.9982628, 0.8430316...</td>\n",
              "      <td>-0.999950</td>\n",
              "    </tr>\n",
              "    <tr>\n",
              "      <th>1400</th>\n",
              "      <td>What city is often called The Insurance Capita...</td>\n",
              "      <td>4</td>\n",
              "      <td>[-0.9999635, 0.099084005, -0.99963427, 0.96015...</td>\n",
              "      <td>-0.999964</td>\n",
              "    </tr>\n",
              "    <tr>\n",
              "      <th>212</th>\n",
              "      <td>What South American city has the world 's high...</td>\n",
              "      <td>4</td>\n",
              "      <td>[-0.99985224, 0.053765573, -0.99742967, 0.9806...</td>\n",
              "      <td>-0.999852</td>\n",
              "    </tr>\n",
              "    <tr>\n",
              "      <th>780</th>\n",
              "      <td>What Asian country has a bill of rights for co...</td>\n",
              "      <td>4</td>\n",
              "      <td>[-0.99998766, 0.13625109, -0.9993325, 0.959167...</td>\n",
              "      <td>-0.999988</td>\n",
              "    </tr>\n",
              "    <tr>\n",
              "      <th>1179</th>\n",
              "      <td>Where can I find a list of all the companies i...</td>\n",
              "      <td>4</td>\n",
              "      <td>[-0.9999839, 0.050414868, -0.99932706, 0.91171...</td>\n",
              "      <td>-0.999984</td>\n",
              "    </tr>\n",
              "    <tr>\n",
              "      <th>418</th>\n",
              "      <td>What Nevada center has been dubbed The Biggest...</td>\n",
              "      <td>4</td>\n",
              "      <td>[-0.9999876, 0.08403866, -0.99987173, 0.993275...</td>\n",
              "      <td>-0.999988</td>\n",
              "    </tr>\n",
              "    <tr>\n",
              "      <th>1932</th>\n",
              "      <td>What are the biggest Indian airports ?</td>\n",
              "      <td>4</td>\n",
              "      <td>[-0.9999854, 0.033322256, -0.9995017, 0.787485...</td>\n",
              "      <td>-0.999985</td>\n",
              "    </tr>\n",
              "    <tr>\n",
              "      <th>380</th>\n",
              "      <td>Who is the only prime minister of Canada to se...</td>\n",
              "      <td>3</td>\n",
              "      <td>[-0.99999726, 0.20408824, -0.9992403, 0.663108...</td>\n",
              "      <td>-0.999997</td>\n",
              "    </tr>\n",
              "    <tr>\n",
              "      <th>1242</th>\n",
              "      <td>What are the largest breweries in the world ?</td>\n",
              "      <td>4</td>\n",
              "      <td>[-0.99999154, -0.011155554, -0.99971026, 0.959...</td>\n",
              "      <td>-0.999992</td>\n",
              "    </tr>\n",
              "  </tbody>\n",
              "</table>\n",
              "</div>\n",
              "    <div class=\"colab-df-buttons\">\n",
              "\n",
              "  <div class=\"colab-df-container\">\n",
              "    <button class=\"colab-df-convert\" onclick=\"convertToInteractive('df-f988bfc0-4f2b-4cea-b3ed-8d0bba37ee79')\"\n",
              "            title=\"Convert this dataframe to an interactive table.\"\n",
              "            style=\"display:none;\">\n",
              "\n",
              "  <svg xmlns=\"http://www.w3.org/2000/svg\" height=\"24px\" viewBox=\"0 -960 960 960\">\n",
              "    <path d=\"M120-120v-720h720v720H120Zm60-500h600v-160H180v160Zm220 220h160v-160H400v160Zm0 220h160v-160H400v160ZM180-400h160v-160H180v160Zm440 0h160v-160H620v160ZM180-180h160v-160H180v160Zm440 0h160v-160H620v160Z\"/>\n",
              "  </svg>\n",
              "    </button>\n",
              "\n",
              "  <style>\n",
              "    .colab-df-container {\n",
              "      display:flex;\n",
              "      gap: 12px;\n",
              "    }\n",
              "\n",
              "    .colab-df-convert {\n",
              "      background-color: #E8F0FE;\n",
              "      border: none;\n",
              "      border-radius: 50%;\n",
              "      cursor: pointer;\n",
              "      display: none;\n",
              "      fill: #1967D2;\n",
              "      height: 32px;\n",
              "      padding: 0 0 0 0;\n",
              "      width: 32px;\n",
              "    }\n",
              "\n",
              "    .colab-df-convert:hover {\n",
              "      background-color: #E2EBFA;\n",
              "      box-shadow: 0px 1px 2px rgba(60, 64, 67, 0.3), 0px 1px 3px 1px rgba(60, 64, 67, 0.15);\n",
              "      fill: #174EA6;\n",
              "    }\n",
              "\n",
              "    .colab-df-buttons div {\n",
              "      margin-bottom: 4px;\n",
              "    }\n",
              "\n",
              "    [theme=dark] .colab-df-convert {\n",
              "      background-color: #3B4455;\n",
              "      fill: #D2E3FC;\n",
              "    }\n",
              "\n",
              "    [theme=dark] .colab-df-convert:hover {\n",
              "      background-color: #434B5C;\n",
              "      box-shadow: 0px 1px 3px 1px rgba(0, 0, 0, 0.15);\n",
              "      filter: drop-shadow(0px 1px 2px rgba(0, 0, 0, 0.3));\n",
              "      fill: #FFFFFF;\n",
              "    }\n",
              "  </style>\n",
              "\n",
              "    <script>\n",
              "      const buttonEl =\n",
              "        document.querySelector('#df-f988bfc0-4f2b-4cea-b3ed-8d0bba37ee79 button.colab-df-convert');\n",
              "      buttonEl.style.display =\n",
              "        google.colab.kernel.accessAllowed ? 'block' : 'none';\n",
              "\n",
              "      async function convertToInteractive(key) {\n",
              "        const element = document.querySelector('#df-f988bfc0-4f2b-4cea-b3ed-8d0bba37ee79');\n",
              "        const dataTable =\n",
              "          await google.colab.kernel.invokeFunction('convertToInteractive',\n",
              "                                                    [key], {});\n",
              "        if (!dataTable) return;\n",
              "\n",
              "        const docLinkHtml = 'Like what you see? Visit the ' +\n",
              "          '<a target=\"_blank\" href=https://colab.research.google.com/notebooks/data_table.ipynb>data table notebook</a>'\n",
              "          + ' to learn more about interactive tables.';\n",
              "        element.innerHTML = '';\n",
              "        dataTable['output_type'] = 'display_data';\n",
              "        await google.colab.output.renderOutput(dataTable, element);\n",
              "        const docLink = document.createElement('div');\n",
              "        docLink.innerHTML = docLinkHtml;\n",
              "        element.appendChild(docLink);\n",
              "      }\n",
              "    </script>\n",
              "  </div>\n",
              "\n",
              "\n",
              "<div id=\"df-13213c19-9847-4b47-b190-b05a01932adb\">\n",
              "  <button class=\"colab-df-quickchart\" onclick=\"quickchart('df-13213c19-9847-4b47-b190-b05a01932adb')\"\n",
              "            title=\"Suggest charts\"\n",
              "            style=\"display:none;\">\n",
              "\n",
              "<svg xmlns=\"http://www.w3.org/2000/svg\" height=\"24px\"viewBox=\"0 0 24 24\"\n",
              "     width=\"24px\">\n",
              "    <g>\n",
              "        <path d=\"M19 3H5c-1.1 0-2 .9-2 2v14c0 1.1.9 2 2 2h14c1.1 0 2-.9 2-2V5c0-1.1-.9-2-2-2zM9 17H7v-7h2v7zm4 0h-2V7h2v10zm4 0h-2v-4h2v4z\"/>\n",
              "    </g>\n",
              "</svg>\n",
              "  </button>\n",
              "\n",
              "<style>\n",
              "  .colab-df-quickchart {\n",
              "      --bg-color: #E8F0FE;\n",
              "      --fill-color: #1967D2;\n",
              "      --hover-bg-color: #E2EBFA;\n",
              "      --hover-fill-color: #174EA6;\n",
              "      --disabled-fill-color: #AAA;\n",
              "      --disabled-bg-color: #DDD;\n",
              "  }\n",
              "\n",
              "  [theme=dark] .colab-df-quickchart {\n",
              "      --bg-color: #3B4455;\n",
              "      --fill-color: #D2E3FC;\n",
              "      --hover-bg-color: #434B5C;\n",
              "      --hover-fill-color: #FFFFFF;\n",
              "      --disabled-bg-color: #3B4455;\n",
              "      --disabled-fill-color: #666;\n",
              "  }\n",
              "\n",
              "  .colab-df-quickchart {\n",
              "    background-color: var(--bg-color);\n",
              "    border: none;\n",
              "    border-radius: 50%;\n",
              "    cursor: pointer;\n",
              "    display: none;\n",
              "    fill: var(--fill-color);\n",
              "    height: 32px;\n",
              "    padding: 0;\n",
              "    width: 32px;\n",
              "  }\n",
              "\n",
              "  .colab-df-quickchart:hover {\n",
              "    background-color: var(--hover-bg-color);\n",
              "    box-shadow: 0 1px 2px rgba(60, 64, 67, 0.3), 0 1px 3px 1px rgba(60, 64, 67, 0.15);\n",
              "    fill: var(--button-hover-fill-color);\n",
              "  }\n",
              "\n",
              "  .colab-df-quickchart-complete:disabled,\n",
              "  .colab-df-quickchart-complete:disabled:hover {\n",
              "    background-color: var(--disabled-bg-color);\n",
              "    fill: var(--disabled-fill-color);\n",
              "    box-shadow: none;\n",
              "  }\n",
              "\n",
              "  .colab-df-spinner {\n",
              "    border: 2px solid var(--fill-color);\n",
              "    border-color: transparent;\n",
              "    border-bottom-color: var(--fill-color);\n",
              "    animation:\n",
              "      spin 1s steps(1) infinite;\n",
              "  }\n",
              "\n",
              "  @keyframes spin {\n",
              "    0% {\n",
              "      border-color: transparent;\n",
              "      border-bottom-color: var(--fill-color);\n",
              "      border-left-color: var(--fill-color);\n",
              "    }\n",
              "    20% {\n",
              "      border-color: transparent;\n",
              "      border-left-color: var(--fill-color);\n",
              "      border-top-color: var(--fill-color);\n",
              "    }\n",
              "    30% {\n",
              "      border-color: transparent;\n",
              "      border-left-color: var(--fill-color);\n",
              "      border-top-color: var(--fill-color);\n",
              "      border-right-color: var(--fill-color);\n",
              "    }\n",
              "    40% {\n",
              "      border-color: transparent;\n",
              "      border-right-color: var(--fill-color);\n",
              "      border-top-color: var(--fill-color);\n",
              "    }\n",
              "    60% {\n",
              "      border-color: transparent;\n",
              "      border-right-color: var(--fill-color);\n",
              "    }\n",
              "    80% {\n",
              "      border-color: transparent;\n",
              "      border-right-color: var(--fill-color);\n",
              "      border-bottom-color: var(--fill-color);\n",
              "    }\n",
              "    90% {\n",
              "      border-color: transparent;\n",
              "      border-bottom-color: var(--fill-color);\n",
              "    }\n",
              "  }\n",
              "</style>\n",
              "\n",
              "  <script>\n",
              "    async function quickchart(key) {\n",
              "      const quickchartButtonEl =\n",
              "        document.querySelector('#' + key + ' button');\n",
              "      quickchartButtonEl.disabled = true;  // To prevent multiple clicks.\n",
              "      quickchartButtonEl.classList.add('colab-df-spinner');\n",
              "      try {\n",
              "        const charts = await google.colab.kernel.invokeFunction(\n",
              "            'suggestCharts', [key], {});\n",
              "      } catch (error) {\n",
              "        console.error('Error during call to suggestCharts:', error);\n",
              "      }\n",
              "      quickchartButtonEl.classList.remove('colab-df-spinner');\n",
              "      quickchartButtonEl.classList.add('colab-df-quickchart-complete');\n",
              "    }\n",
              "    (() => {\n",
              "      let quickchartButtonEl =\n",
              "        document.querySelector('#df-13213c19-9847-4b47-b190-b05a01932adb button');\n",
              "      quickchartButtonEl.style.display =\n",
              "        google.colab.kernel.accessAllowed ? 'block' : 'none';\n",
              "    })();\n",
              "  </script>\n",
              "</div>\n",
              "    </div>\n",
              "  </div>\n"
            ]
          },
          "metadata": {},
          "execution_count": 31
        }
      ]
    },
    {
      "cell_type": "markdown",
      "source": [
        "# Начинаем эксперементировать с порогом Евклидового расстояния"
      ],
      "metadata": {
        "id": "ZG-euisJLfgv"
      }
    },
    {
      "cell_type": "markdown",
      "source": [
        "По моим личным наблюдениям - порог меньше 1 дает ужасных совершенно не похожих по содержанию соседей\n",
        "\n",
        "Для каждого текста вернем N соседей порог которых меньше 1"
      ],
      "metadata": {
        "id": "u0P-2jggLmmV"
      }
    },
    {
      "cell_type": "code",
      "source": [
        "import numpy as np\n",
        "pd.set_option('display.max_colwidth', 30)"
      ],
      "metadata": {
        "id": "Ws5OKj1KNWhC"
      },
      "execution_count": null,
      "outputs": []
    },
    {
      "cell_type": "code",
      "source": [
        "def get_good_neighbours(idx,threshold:float):\n",
        "  sample = vectorized_df.iloc[idx].values.reshape(1,-1)\n",
        "  dist, neights = knn_model.kneighbors(X = sample,n_neighbors = 10)\n",
        "  dist = dist[0][1:]\n",
        "  neights = neights[0][1:]\n",
        "  if np.where(dist<threshold)[0].size == 0:\n",
        "    return np.nan\n",
        "  else:\n",
        "    result = neights[np.where(dist<threshold)[0]]\n",
        "    return result\n",
        "\n",
        "leng = len(df_mini)\n",
        "df_mini[\"Neigs\"] = 0\n",
        "\n",
        "N = []\n",
        "for idx in range(leng):\n",
        "  N.append(get_good_neighbours(idx,0.9))\n",
        "\n",
        "df_mini[\"Neigs\"] = N"
      ],
      "metadata": {
        "id": "A7a1gkOsBkiW"
      },
      "execution_count": null,
      "outputs": []
    },
    {
      "cell_type": "code",
      "source": [
        "mask = ~df_mini['Neigs'].isna()\n",
        "print(f\"Длина {len(df_mini[mask])}\")"
      ],
      "metadata": {
        "colab": {
          "base_uri": "https://localhost:8080/"
        },
        "id": "IvCiFCW6RGXM",
        "outputId": "65ff6e62-837c-4972-8faf-1be1a146867e"
      },
      "execution_count": null,
      "outputs": [
        {
          "output_type": "stream",
          "name": "stdout",
          "text": [
            "Длина 59\n"
          ]
        }
      ]
    },
    {
      "cell_type": "code",
      "source": [
        "# Получили DataFrame у которого есть какие либо соседи\n",
        "valuation_df = df_mini[mask]"
      ],
      "metadata": {
        "id": "4uur2Ov-RGZp"
      },
      "execution_count": null,
      "outputs": []
    },
    {
      "cell_type": "code",
      "source": [
        "# For each element in text\n",
        "\n",
        "def see_good_texts(valuation_df: pd.DataFrame):\n",
        "\n",
        "  big_box = []\n",
        "  max_similiar_texts = []\n",
        "  for idx,value  in zip(valuation_df['Neigs'].index,valuation_df['Neigs'].values):\n",
        "    a = valuation_df[\"Text\"][idx]\n",
        "\n",
        "    small_box = []\n",
        "    for similar_text_idx in value:\n",
        "      small_box+= [valuation_df[\"Text\"][similar_text_idx]]\n",
        "\n",
        "    chunk = [[a,*small_box]]\n",
        "\n",
        "    chunk_leng = len(chunk[0])\n",
        "    max_similiar_texts.append(chunk_leng)\n",
        "\n",
        "    big_box += chunk\n",
        "\n",
        "  max_similiar_texts = max(max_similiar_texts)\n",
        "\n",
        "  return pd.DataFrame(data = big_box, columns = [\"Orig\"]+[f\"sample{i}\" for i in range(1,max_similiar_texts)], index = valuation_df['Neigs'].index)"
      ],
      "metadata": {
        "id": "s6X2kuOhbVHw"
      },
      "execution_count": null,
      "outputs": []
    },
    {
      "cell_type": "code",
      "source": [
        "comparison_df = see_good_texts(valuation_df)"
      ],
      "metadata": {
        "id": "nJrFT3CddLQn"
      },
      "execution_count": null,
      "outputs": []
    },
    {
      "cell_type": "code",
      "source": [
        "pd.set_option('display.max_colwidth', None)\n",
        "comparison_df"
      ],
      "metadata": {
        "colab": {
          "base_uri": "https://localhost:8080/",
          "height": 1000
        },
        "id": "7tP4TqdvUe26",
        "outputId": "f6225d39-5105-45f2-c765-6e0a4dd5866c"
      },
      "execution_count": null,
      "outputs": [
        {
          "output_type": "execute_result",
          "data": {
            "text/plain": [
              "                                                                                                Orig  \\\n",
              "53                                                         Where did the term `` 86ed '' come from ?   \n",
              "94                                                                         What is `` dew point '' ?   \n",
              "101                                                     What is the origin of the word `` attic '' ?   \n",
              "119                                                       What does the Georgetown `` Hoya '' mean ?   \n",
              "121                                                 Which two products use a tiger as their symbol ?   \n",
              "216                                                                         What is `` snoogans '' ?   \n",
              "325                                          What is the latitude and longitude of El Paso , Texas ?   \n",
              "351                                                     What is the speed of the Mississippi River ?   \n",
              "369                                                     What is the speed of the Mississippi River ?   \n",
              "443                                                                     What does G.M.T. stand for ?   \n",
              "457               What musical instrument did Prewitt play in James Jones 's From Here to Eternity ?   \n",
              "464                                                     What is the speed of the Mississippi River ?   \n",
              "474                                                                            What are Maid-Rites ?   \n",
              "493                       How many degrees cooler is the inside of a cucumber than the air outside ?   \n",
              "518                                                                       What does SIDS stand for ?   \n",
              "543                                                                      What is a fear of thunder ?   \n",
              "586                                                                  What is a fear of being alone ?   \n",
              "599                                              In What city or state do the most gay men live in ?   \n",
              "603                                                           What does the name `` Justin '' mean ?   \n",
              "608                                  What does an average daycare provider get paid in New England ?   \n",
              "713                                                   What was the U.S. highway death toll in 1969 ?   \n",
              "727                       How many degrees cooler is the inside of a cucumber than the air outside ?   \n",
              "741                                  What does an average daycare provider get paid in New England ?   \n",
              "784                                                What is the most heavily caffeinated soft drink ?   \n",
              "827                                                          How much was the minimum wage in 1991 ?   \n",
              "828                                                                      What does NAFTA stand for ?   \n",
              "855                                                          What does the name `` Anthony '' mean ?   \n",
              "886                                                     What is the oldest website on the Internet ?   \n",
              "979                                    What is the current ticket fare from from Cairo to Barbados ?   \n",
              "1007                                                         Where did the term `` 86 '' come from ?   \n",
              "1034                                               How much did the minimum wage amount to in 1991 ?   \n",
              "1042                                                                  What is a fear of being cold ?   \n",
              "1075                                                    What is the oldest website on the Internet ?   \n",
              "1090                                                                        What is a fear of hell ?   \n",
              "1104                                                   What soft drink is most heavily caffeinated ?   \n",
              "1129                                                                        What is a fear of cold ?   \n",
              "1150                                                                       What is a fear of slime ?   \n",
              "1156                                                     What is the origin of the word `` mind '' ?   \n",
              "1361              What musical instrument did Prewitt play in James Jones 's From Here to Eternity ?   \n",
              "1389                                       What war saw battles at Parrot 's Beak and Black Virgin ?   \n",
              "1390                                                  What was the U.S. highway death toll in 1969 ?   \n",
              "1396                                                                      What does e.g. stand for ?   \n",
              "1535                                         What is the latitude and longitude of El Paso , Texas ?   \n",
              "1586                                                         What does the name `` Sabrina '' mean ?   \n",
              "1596                                                                           What are Maid-Rites ?   \n",
              "1623  How much of the nation 's children between the ages of two and eleven watch ` The Simpsons ' ?   \n",
              "1651                                                What city or state do the most gay men live in ?   \n",
              "1685                                                   How much money was the minimum wage in 1991 ?   \n",
              "1717                                                                              What is magnetar ?   \n",
              "1726                                       What war saw battles at Parrot 's Beak and Black Virgin ?   \n",
              "1753                                                                         What is a fear of fur ?   \n",
              "1772         What percentage of children between the ages of two and eleven watch ` The Simpsons ' ?   \n",
              "1784                                                                                 What is moxie ?   \n",
              "1792                                                       What is a person called that likes fire ?   \n",
              "1803                                   What is the current ticket fare from from Cairo to Barbados ?   \n",
              "1876                                                                       What color is `` ash '' ?   \n",
              "1886                                                       What is a person called that likes fire ?   \n",
              "1941                                                                 What is a fear of being dirty ?   \n",
              "1989                                                Which two products use a tiger as their symbol ?   \n",
              "\n",
              "                                                                                             sample1  \\\n",
              "53                                                           Where did the term `` 86 '' come from ?   \n",
              "94                                                                         What color is `` ash '' ?   \n",
              "101                                                      What is the origin of the word `` mind '' ?   \n",
              "119                                                           What does the name `` Justin '' mean ?   \n",
              "121                                                 Which two products use a tiger as their symbol ?   \n",
              "216                                                                        What is `` dew point '' ?   \n",
              "325                                          What is the latitude and longitude of El Paso , Texas ?   \n",
              "351                                                     What is the speed of the Mississippi River ?   \n",
              "369                                                     What is the speed of the Mississippi River ?   \n",
              "443                                                                       What does e.g. stand for ?   \n",
              "457               What musical instrument did Prewitt play in James Jones 's From Here to Eternity ?   \n",
              "464                                                     What is the speed of the Mississippi River ?   \n",
              "474                                                                            What are Maid-Rites ?   \n",
              "493                       How many degrees cooler is the inside of a cucumber than the air outside ?   \n",
              "518                                                                      What does NAFTA stand for ?   \n",
              "543                                                                         What is a fear of hell ?   \n",
              "586                                                                  What is a fear of being dirty ?   \n",
              "599                                                 What city or state do the most gay men live in ?   \n",
              "603                                                          What does the name `` Anthony '' mean ?   \n",
              "608                                  What does an average daycare provider get paid in New England ?   \n",
              "713                                                   What was the U.S. highway death toll in 1969 ?   \n",
              "727                       How many degrees cooler is the inside of a cucumber than the air outside ?   \n",
              "741                                  What does an average daycare provider get paid in New England ?   \n",
              "784                                                    What soft drink is most heavily caffeinated ?   \n",
              "827                                                How much did the minimum wage amount to in 1991 ?   \n",
              "828                                                                       What does SIDS stand for ?   \n",
              "855                                                          What does the name `` Sabrina '' mean ?   \n",
              "886                                                     What is the oldest website on the Internet ?   \n",
              "979                                    What is the current ticket fare from from Cairo to Barbados ?   \n",
              "1007                                                       Where did the term `` 86ed '' come from ?   \n",
              "1034                                                   How much money was the minimum wage in 1991 ?   \n",
              "1042                                                                        What is a fear of cold ?   \n",
              "1075                                                    What is the oldest website on the Internet ?   \n",
              "1090                                                                     What is a fear of thunder ?   \n",
              "1104                                               What is the most heavily caffeinated soft drink ?   \n",
              "1129                                                                  What is a fear of being cold ?   \n",
              "1150                                                                 What is a fear of being dirty ?   \n",
              "1156                                                    What is the origin of the word `` attic '' ?   \n",
              "1361              What musical instrument did Prewitt play in James Jones 's From Here to Eternity ?   \n",
              "1389                                       What war saw battles at Parrot 's Beak and Black Virgin ?   \n",
              "1390                                                  What was the U.S. highway death toll in 1969 ?   \n",
              "1396                                                                    What does G.M.T. stand for ?   \n",
              "1535                                         What is the latitude and longitude of El Paso , Texas ?   \n",
              "1586                                                         What does the name `` Anthony '' mean ?   \n",
              "1596                                                                           What are Maid-Rites ?   \n",
              "1623         What percentage of children between the ages of two and eleven watch ` The Simpsons ' ?   \n",
              "1651                                             In What city or state do the most gay men live in ?   \n",
              "1685                                               How much did the minimum wage amount to in 1991 ?   \n",
              "1717                                                                                 What is moxie ?   \n",
              "1726                                       What war saw battles at Parrot 's Beak and Black Virgin ?   \n",
              "1753                                                                        What is a fear of cold ?   \n",
              "1772  How much of the nation 's children between the ages of two and eleven watch ` The Simpsons ' ?   \n",
              "1784                                                                              What is magnetar ?   \n",
              "1792                                                       What is a person called that likes fire ?   \n",
              "1803                                   What is the current ticket fare from from Cairo to Barbados ?   \n",
              "1876                                                         What does the name `` Anthony '' mean ?   \n",
              "1886                                                       What is a person called that likes fire ?   \n",
              "1941                                                                 What is a fear of being alone ?   \n",
              "1989                                                Which two products use a tiger as their symbol ?   \n",
              "\n",
              "                                           sample2  \\\n",
              "53                                            None   \n",
              "94                        What is `` snoogans '' ?   \n",
              "101                                           None   \n",
              "119        What does the name `` Anthony '' mean ?   \n",
              "121                                           None   \n",
              "216                                           None   \n",
              "325                                           None   \n",
              "351   What is the speed of the Mississippi River ?   \n",
              "369   What is the speed of the Mississippi River ?   \n",
              "443                                           None   \n",
              "457                                           None   \n",
              "464   What is the speed of the Mississippi River ?   \n",
              "474                                           None   \n",
              "493                                           None   \n",
              "518                                           None   \n",
              "543                       What is a fear of cold ?   \n",
              "586                 What is a fear of being cold ?   \n",
              "599                                           None   \n",
              "603        What does the name `` Sabrina '' mean ?   \n",
              "608                                           None   \n",
              "713                                           None   \n",
              "727                                           None   \n",
              "741                                           None   \n",
              "784                                           None   \n",
              "827                                           None   \n",
              "828                                           None   \n",
              "855         What does the name `` Justin '' mean ?   \n",
              "886                                           None   \n",
              "979                                           None   \n",
              "1007                                          None   \n",
              "1034       How much was the minimum wage in 1991 ?   \n",
              "1042               What is a fear of being alone ?   \n",
              "1075                                          None   \n",
              "1090                                          None   \n",
              "1104                                          None   \n",
              "1129                       What is a fear of fur ?   \n",
              "1150                                          None   \n",
              "1156                                          None   \n",
              "1361                                          None   \n",
              "1389                                          None   \n",
              "1390                                          None   \n",
              "1396                                          None   \n",
              "1535                                          None   \n",
              "1586        What does the name `` Justin '' mean ?   \n",
              "1596                                          None   \n",
              "1623                                          None   \n",
              "1651                                          None   \n",
              "1685                                          None   \n",
              "1717                                          None   \n",
              "1726                                          None   \n",
              "1753                                          None   \n",
              "1772                                          None   \n",
              "1784                                          None   \n",
              "1792                                          None   \n",
              "1803                                          None   \n",
              "1876                     What is `` dew point '' ?   \n",
              "1886                                          None   \n",
              "1941                What is a fear of being cold ?   \n",
              "1989                                          None   \n",
              "\n",
              "                                         sample3  \\\n",
              "53                                          None   \n",
              "94                                          None   \n",
              "101                                         None   \n",
              "119                                         None   \n",
              "121                                         None   \n",
              "216                                         None   \n",
              "325                                         None   \n",
              "351                                         None   \n",
              "369                                         None   \n",
              "443                                         None   \n",
              "457                                         None   \n",
              "464                                         None   \n",
              "474                                         None   \n",
              "493                                         None   \n",
              "518                                         None   \n",
              "543               What is a fear of being cold ?   \n",
              "586                                         None   \n",
              "599                                         None   \n",
              "603   What does the Georgetown `` Hoya '' mean ?   \n",
              "608                                         None   \n",
              "713                                         None   \n",
              "727                                         None   \n",
              "741                                         None   \n",
              "784                                         None   \n",
              "827                                         None   \n",
              "828                                         None   \n",
              "855                    What color is `` ash '' ?   \n",
              "886                                         None   \n",
              "979                                         None   \n",
              "1007                                        None   \n",
              "1034                                        None   \n",
              "1042             What is a fear of being dirty ?   \n",
              "1075                                        None   \n",
              "1090                                        None   \n",
              "1104                                        None   \n",
              "1129                 What is a fear of thunder ?   \n",
              "1150                                        None   \n",
              "1156                                        None   \n",
              "1361                                        None   \n",
              "1389                                        None   \n",
              "1390                                        None   \n",
              "1396                                        None   \n",
              "1535                                        None   \n",
              "1586                                        None   \n",
              "1596                                        None   \n",
              "1623                                        None   \n",
              "1651                                        None   \n",
              "1685                                        None   \n",
              "1717                                        None   \n",
              "1726                                        None   \n",
              "1753                                        None   \n",
              "1772                                        None   \n",
              "1784                                        None   \n",
              "1792                                        None   \n",
              "1803                                        None   \n",
              "1876                                        None   \n",
              "1886                                        None   \n",
              "1941                   What is a fear of slime ?   \n",
              "1989                                        None   \n",
              "\n",
              "                                         sample4  \n",
              "53                                          None  \n",
              "94                                          None  \n",
              "101                                         None  \n",
              "119                                         None  \n",
              "121                                         None  \n",
              "216                                         None  \n",
              "325                                         None  \n",
              "351                                         None  \n",
              "369                                         None  \n",
              "443                                         None  \n",
              "457                                         None  \n",
              "464                                         None  \n",
              "474                                         None  \n",
              "493                                         None  \n",
              "518                                         None  \n",
              "543                                         None  \n",
              "586                                         None  \n",
              "599                                         None  \n",
              "603                                         None  \n",
              "608                                         None  \n",
              "713                                         None  \n",
              "727                                         None  \n",
              "741                                         None  \n",
              "784                                         None  \n",
              "827                                         None  \n",
              "828                                         None  \n",
              "855   What does the Georgetown `` Hoya '' mean ?  \n",
              "886                                         None  \n",
              "979                                         None  \n",
              "1007                                        None  \n",
              "1034                                        None  \n",
              "1042                 What is a fear of thunder ?  \n",
              "1075                                        None  \n",
              "1090                                        None  \n",
              "1104                                        None  \n",
              "1129                                        None  \n",
              "1150                                        None  \n",
              "1156                                        None  \n",
              "1361                                        None  \n",
              "1389                                        None  \n",
              "1390                                        None  \n",
              "1396                                        None  \n",
              "1535                                        None  \n",
              "1586                                        None  \n",
              "1596                                        None  \n",
              "1623                                        None  \n",
              "1651                                        None  \n",
              "1685                                        None  \n",
              "1717                                        None  \n",
              "1726                                        None  \n",
              "1753                                        None  \n",
              "1772                                        None  \n",
              "1784                                        None  \n",
              "1792                                        None  \n",
              "1803                                        None  \n",
              "1876                                        None  \n",
              "1886                                        None  \n",
              "1941                                        None  \n",
              "1989                                        None  "
            ],
            "text/html": [
              "\n",
              "  <div id=\"df-8b792296-433a-48a5-852e-84ec91a2abef\" class=\"colab-df-container\">\n",
              "    <div>\n",
              "<style scoped>\n",
              "    .dataframe tbody tr th:only-of-type {\n",
              "        vertical-align: middle;\n",
              "    }\n",
              "\n",
              "    .dataframe tbody tr th {\n",
              "        vertical-align: top;\n",
              "    }\n",
              "\n",
              "    .dataframe thead th {\n",
              "        text-align: right;\n",
              "    }\n",
              "</style>\n",
              "<table border=\"1\" class=\"dataframe\">\n",
              "  <thead>\n",
              "    <tr style=\"text-align: right;\">\n",
              "      <th></th>\n",
              "      <th>Orig</th>\n",
              "      <th>sample1</th>\n",
              "      <th>sample2</th>\n",
              "      <th>sample3</th>\n",
              "      <th>sample4</th>\n",
              "    </tr>\n",
              "  </thead>\n",
              "  <tbody>\n",
              "    <tr>\n",
              "      <th>53</th>\n",
              "      <td>Where did the term `` 86ed '' come from ?</td>\n",
              "      <td>Where did the term `` 86 '' come from ?</td>\n",
              "      <td>None</td>\n",
              "      <td>None</td>\n",
              "      <td>None</td>\n",
              "    </tr>\n",
              "    <tr>\n",
              "      <th>94</th>\n",
              "      <td>What is `` dew point '' ?</td>\n",
              "      <td>What color is `` ash '' ?</td>\n",
              "      <td>What is `` snoogans '' ?</td>\n",
              "      <td>None</td>\n",
              "      <td>None</td>\n",
              "    </tr>\n",
              "    <tr>\n",
              "      <th>101</th>\n",
              "      <td>What is the origin of the word `` attic '' ?</td>\n",
              "      <td>What is the origin of the word `` mind '' ?</td>\n",
              "      <td>None</td>\n",
              "      <td>None</td>\n",
              "      <td>None</td>\n",
              "    </tr>\n",
              "    <tr>\n",
              "      <th>119</th>\n",
              "      <td>What does the Georgetown `` Hoya '' mean ?</td>\n",
              "      <td>What does the name `` Justin '' mean ?</td>\n",
              "      <td>What does the name `` Anthony '' mean ?</td>\n",
              "      <td>None</td>\n",
              "      <td>None</td>\n",
              "    </tr>\n",
              "    <tr>\n",
              "      <th>121</th>\n",
              "      <td>Which two products use a tiger as their symbol ?</td>\n",
              "      <td>Which two products use a tiger as their symbol ?</td>\n",
              "      <td>None</td>\n",
              "      <td>None</td>\n",
              "      <td>None</td>\n",
              "    </tr>\n",
              "    <tr>\n",
              "      <th>216</th>\n",
              "      <td>What is `` snoogans '' ?</td>\n",
              "      <td>What is `` dew point '' ?</td>\n",
              "      <td>None</td>\n",
              "      <td>None</td>\n",
              "      <td>None</td>\n",
              "    </tr>\n",
              "    <tr>\n",
              "      <th>325</th>\n",
              "      <td>What is the latitude and longitude of El Paso , Texas ?</td>\n",
              "      <td>What is the latitude and longitude of El Paso , Texas ?</td>\n",
              "      <td>None</td>\n",
              "      <td>None</td>\n",
              "      <td>None</td>\n",
              "    </tr>\n",
              "    <tr>\n",
              "      <th>351</th>\n",
              "      <td>What is the speed of the Mississippi River ?</td>\n",
              "      <td>What is the speed of the Mississippi River ?</td>\n",
              "      <td>What is the speed of the Mississippi River ?</td>\n",
              "      <td>None</td>\n",
              "      <td>None</td>\n",
              "    </tr>\n",
              "    <tr>\n",
              "      <th>369</th>\n",
              "      <td>What is the speed of the Mississippi River ?</td>\n",
              "      <td>What is the speed of the Mississippi River ?</td>\n",
              "      <td>What is the speed of the Mississippi River ?</td>\n",
              "      <td>None</td>\n",
              "      <td>None</td>\n",
              "    </tr>\n",
              "    <tr>\n",
              "      <th>443</th>\n",
              "      <td>What does G.M.T. stand for ?</td>\n",
              "      <td>What does e.g. stand for ?</td>\n",
              "      <td>None</td>\n",
              "      <td>None</td>\n",
              "      <td>None</td>\n",
              "    </tr>\n",
              "    <tr>\n",
              "      <th>457</th>\n",
              "      <td>What musical instrument did Prewitt play in James Jones 's From Here to Eternity ?</td>\n",
              "      <td>What musical instrument did Prewitt play in James Jones 's From Here to Eternity ?</td>\n",
              "      <td>None</td>\n",
              "      <td>None</td>\n",
              "      <td>None</td>\n",
              "    </tr>\n",
              "    <tr>\n",
              "      <th>464</th>\n",
              "      <td>What is the speed of the Mississippi River ?</td>\n",
              "      <td>What is the speed of the Mississippi River ?</td>\n",
              "      <td>What is the speed of the Mississippi River ?</td>\n",
              "      <td>None</td>\n",
              "      <td>None</td>\n",
              "    </tr>\n",
              "    <tr>\n",
              "      <th>474</th>\n",
              "      <td>What are Maid-Rites ?</td>\n",
              "      <td>What are Maid-Rites ?</td>\n",
              "      <td>None</td>\n",
              "      <td>None</td>\n",
              "      <td>None</td>\n",
              "    </tr>\n",
              "    <tr>\n",
              "      <th>493</th>\n",
              "      <td>How many degrees cooler is the inside of a cucumber than the air outside ?</td>\n",
              "      <td>How many degrees cooler is the inside of a cucumber than the air outside ?</td>\n",
              "      <td>None</td>\n",
              "      <td>None</td>\n",
              "      <td>None</td>\n",
              "    </tr>\n",
              "    <tr>\n",
              "      <th>518</th>\n",
              "      <td>What does SIDS stand for ?</td>\n",
              "      <td>What does NAFTA stand for ?</td>\n",
              "      <td>None</td>\n",
              "      <td>None</td>\n",
              "      <td>None</td>\n",
              "    </tr>\n",
              "    <tr>\n",
              "      <th>543</th>\n",
              "      <td>What is a fear of thunder ?</td>\n",
              "      <td>What is a fear of hell ?</td>\n",
              "      <td>What is a fear of cold ?</td>\n",
              "      <td>What is a fear of being cold ?</td>\n",
              "      <td>None</td>\n",
              "    </tr>\n",
              "    <tr>\n",
              "      <th>586</th>\n",
              "      <td>What is a fear of being alone ?</td>\n",
              "      <td>What is a fear of being dirty ?</td>\n",
              "      <td>What is a fear of being cold ?</td>\n",
              "      <td>None</td>\n",
              "      <td>None</td>\n",
              "    </tr>\n",
              "    <tr>\n",
              "      <th>599</th>\n",
              "      <td>In What city or state do the most gay men live in ?</td>\n",
              "      <td>What city or state do the most gay men live in ?</td>\n",
              "      <td>None</td>\n",
              "      <td>None</td>\n",
              "      <td>None</td>\n",
              "    </tr>\n",
              "    <tr>\n",
              "      <th>603</th>\n",
              "      <td>What does the name `` Justin '' mean ?</td>\n",
              "      <td>What does the name `` Anthony '' mean ?</td>\n",
              "      <td>What does the name `` Sabrina '' mean ?</td>\n",
              "      <td>What does the Georgetown `` Hoya '' mean ?</td>\n",
              "      <td>None</td>\n",
              "    </tr>\n",
              "    <tr>\n",
              "      <th>608</th>\n",
              "      <td>What does an average daycare provider get paid in New England ?</td>\n",
              "      <td>What does an average daycare provider get paid in New England ?</td>\n",
              "      <td>None</td>\n",
              "      <td>None</td>\n",
              "      <td>None</td>\n",
              "    </tr>\n",
              "    <tr>\n",
              "      <th>713</th>\n",
              "      <td>What was the U.S. highway death toll in 1969 ?</td>\n",
              "      <td>What was the U.S. highway death toll in 1969 ?</td>\n",
              "      <td>None</td>\n",
              "      <td>None</td>\n",
              "      <td>None</td>\n",
              "    </tr>\n",
              "    <tr>\n",
              "      <th>727</th>\n",
              "      <td>How many degrees cooler is the inside of a cucumber than the air outside ?</td>\n",
              "      <td>How many degrees cooler is the inside of a cucumber than the air outside ?</td>\n",
              "      <td>None</td>\n",
              "      <td>None</td>\n",
              "      <td>None</td>\n",
              "    </tr>\n",
              "    <tr>\n",
              "      <th>741</th>\n",
              "      <td>What does an average daycare provider get paid in New England ?</td>\n",
              "      <td>What does an average daycare provider get paid in New England ?</td>\n",
              "      <td>None</td>\n",
              "      <td>None</td>\n",
              "      <td>None</td>\n",
              "    </tr>\n",
              "    <tr>\n",
              "      <th>784</th>\n",
              "      <td>What is the most heavily caffeinated soft drink ?</td>\n",
              "      <td>What soft drink is most heavily caffeinated ?</td>\n",
              "      <td>None</td>\n",
              "      <td>None</td>\n",
              "      <td>None</td>\n",
              "    </tr>\n",
              "    <tr>\n",
              "      <th>827</th>\n",
              "      <td>How much was the minimum wage in 1991 ?</td>\n",
              "      <td>How much did the minimum wage amount to in 1991 ?</td>\n",
              "      <td>None</td>\n",
              "      <td>None</td>\n",
              "      <td>None</td>\n",
              "    </tr>\n",
              "    <tr>\n",
              "      <th>828</th>\n",
              "      <td>What does NAFTA stand for ?</td>\n",
              "      <td>What does SIDS stand for ?</td>\n",
              "      <td>None</td>\n",
              "      <td>None</td>\n",
              "      <td>None</td>\n",
              "    </tr>\n",
              "    <tr>\n",
              "      <th>855</th>\n",
              "      <td>What does the name `` Anthony '' mean ?</td>\n",
              "      <td>What does the name `` Sabrina '' mean ?</td>\n",
              "      <td>What does the name `` Justin '' mean ?</td>\n",
              "      <td>What color is `` ash '' ?</td>\n",
              "      <td>What does the Georgetown `` Hoya '' mean ?</td>\n",
              "    </tr>\n",
              "    <tr>\n",
              "      <th>886</th>\n",
              "      <td>What is the oldest website on the Internet ?</td>\n",
              "      <td>What is the oldest website on the Internet ?</td>\n",
              "      <td>None</td>\n",
              "      <td>None</td>\n",
              "      <td>None</td>\n",
              "    </tr>\n",
              "    <tr>\n",
              "      <th>979</th>\n",
              "      <td>What is the current ticket fare from from Cairo to Barbados ?</td>\n",
              "      <td>What is the current ticket fare from from Cairo to Barbados ?</td>\n",
              "      <td>None</td>\n",
              "      <td>None</td>\n",
              "      <td>None</td>\n",
              "    </tr>\n",
              "    <tr>\n",
              "      <th>1007</th>\n",
              "      <td>Where did the term `` 86 '' come from ?</td>\n",
              "      <td>Where did the term `` 86ed '' come from ?</td>\n",
              "      <td>None</td>\n",
              "      <td>None</td>\n",
              "      <td>None</td>\n",
              "    </tr>\n",
              "    <tr>\n",
              "      <th>1034</th>\n",
              "      <td>How much did the minimum wage amount to in 1991 ?</td>\n",
              "      <td>How much money was the minimum wage in 1991 ?</td>\n",
              "      <td>How much was the minimum wage in 1991 ?</td>\n",
              "      <td>None</td>\n",
              "      <td>None</td>\n",
              "    </tr>\n",
              "    <tr>\n",
              "      <th>1042</th>\n",
              "      <td>What is a fear of being cold ?</td>\n",
              "      <td>What is a fear of cold ?</td>\n",
              "      <td>What is a fear of being alone ?</td>\n",
              "      <td>What is a fear of being dirty ?</td>\n",
              "      <td>What is a fear of thunder ?</td>\n",
              "    </tr>\n",
              "    <tr>\n",
              "      <th>1075</th>\n",
              "      <td>What is the oldest website on the Internet ?</td>\n",
              "      <td>What is the oldest website on the Internet ?</td>\n",
              "      <td>None</td>\n",
              "      <td>None</td>\n",
              "      <td>None</td>\n",
              "    </tr>\n",
              "    <tr>\n",
              "      <th>1090</th>\n",
              "      <td>What is a fear of hell ?</td>\n",
              "      <td>What is a fear of thunder ?</td>\n",
              "      <td>None</td>\n",
              "      <td>None</td>\n",
              "      <td>None</td>\n",
              "    </tr>\n",
              "    <tr>\n",
              "      <th>1104</th>\n",
              "      <td>What soft drink is most heavily caffeinated ?</td>\n",
              "      <td>What is the most heavily caffeinated soft drink ?</td>\n",
              "      <td>None</td>\n",
              "      <td>None</td>\n",
              "      <td>None</td>\n",
              "    </tr>\n",
              "    <tr>\n",
              "      <th>1129</th>\n",
              "      <td>What is a fear of cold ?</td>\n",
              "      <td>What is a fear of being cold ?</td>\n",
              "      <td>What is a fear of fur ?</td>\n",
              "      <td>What is a fear of thunder ?</td>\n",
              "      <td>None</td>\n",
              "    </tr>\n",
              "    <tr>\n",
              "      <th>1150</th>\n",
              "      <td>What is a fear of slime ?</td>\n",
              "      <td>What is a fear of being dirty ?</td>\n",
              "      <td>None</td>\n",
              "      <td>None</td>\n",
              "      <td>None</td>\n",
              "    </tr>\n",
              "    <tr>\n",
              "      <th>1156</th>\n",
              "      <td>What is the origin of the word `` mind '' ?</td>\n",
              "      <td>What is the origin of the word `` attic '' ?</td>\n",
              "      <td>None</td>\n",
              "      <td>None</td>\n",
              "      <td>None</td>\n",
              "    </tr>\n",
              "    <tr>\n",
              "      <th>1361</th>\n",
              "      <td>What musical instrument did Prewitt play in James Jones 's From Here to Eternity ?</td>\n",
              "      <td>What musical instrument did Prewitt play in James Jones 's From Here to Eternity ?</td>\n",
              "      <td>None</td>\n",
              "      <td>None</td>\n",
              "      <td>None</td>\n",
              "    </tr>\n",
              "    <tr>\n",
              "      <th>1389</th>\n",
              "      <td>What war saw battles at Parrot 's Beak and Black Virgin ?</td>\n",
              "      <td>What war saw battles at Parrot 's Beak and Black Virgin ?</td>\n",
              "      <td>None</td>\n",
              "      <td>None</td>\n",
              "      <td>None</td>\n",
              "    </tr>\n",
              "    <tr>\n",
              "      <th>1390</th>\n",
              "      <td>What was the U.S. highway death toll in 1969 ?</td>\n",
              "      <td>What was the U.S. highway death toll in 1969 ?</td>\n",
              "      <td>None</td>\n",
              "      <td>None</td>\n",
              "      <td>None</td>\n",
              "    </tr>\n",
              "    <tr>\n",
              "      <th>1396</th>\n",
              "      <td>What does e.g. stand for ?</td>\n",
              "      <td>What does G.M.T. stand for ?</td>\n",
              "      <td>None</td>\n",
              "      <td>None</td>\n",
              "      <td>None</td>\n",
              "    </tr>\n",
              "    <tr>\n",
              "      <th>1535</th>\n",
              "      <td>What is the latitude and longitude of El Paso , Texas ?</td>\n",
              "      <td>What is the latitude and longitude of El Paso , Texas ?</td>\n",
              "      <td>None</td>\n",
              "      <td>None</td>\n",
              "      <td>None</td>\n",
              "    </tr>\n",
              "    <tr>\n",
              "      <th>1586</th>\n",
              "      <td>What does the name `` Sabrina '' mean ?</td>\n",
              "      <td>What does the name `` Anthony '' mean ?</td>\n",
              "      <td>What does the name `` Justin '' mean ?</td>\n",
              "      <td>None</td>\n",
              "      <td>None</td>\n",
              "    </tr>\n",
              "    <tr>\n",
              "      <th>1596</th>\n",
              "      <td>What are Maid-Rites ?</td>\n",
              "      <td>What are Maid-Rites ?</td>\n",
              "      <td>None</td>\n",
              "      <td>None</td>\n",
              "      <td>None</td>\n",
              "    </tr>\n",
              "    <tr>\n",
              "      <th>1623</th>\n",
              "      <td>How much of the nation 's children between the ages of two and eleven watch ` The Simpsons ' ?</td>\n",
              "      <td>What percentage of children between the ages of two and eleven watch ` The Simpsons ' ?</td>\n",
              "      <td>None</td>\n",
              "      <td>None</td>\n",
              "      <td>None</td>\n",
              "    </tr>\n",
              "    <tr>\n",
              "      <th>1651</th>\n",
              "      <td>What city or state do the most gay men live in ?</td>\n",
              "      <td>In What city or state do the most gay men live in ?</td>\n",
              "      <td>None</td>\n",
              "      <td>None</td>\n",
              "      <td>None</td>\n",
              "    </tr>\n",
              "    <tr>\n",
              "      <th>1685</th>\n",
              "      <td>How much money was the minimum wage in 1991 ?</td>\n",
              "      <td>How much did the minimum wage amount to in 1991 ?</td>\n",
              "      <td>None</td>\n",
              "      <td>None</td>\n",
              "      <td>None</td>\n",
              "    </tr>\n",
              "    <tr>\n",
              "      <th>1717</th>\n",
              "      <td>What is magnetar ?</td>\n",
              "      <td>What is moxie ?</td>\n",
              "      <td>None</td>\n",
              "      <td>None</td>\n",
              "      <td>None</td>\n",
              "    </tr>\n",
              "    <tr>\n",
              "      <th>1726</th>\n",
              "      <td>What war saw battles at Parrot 's Beak and Black Virgin ?</td>\n",
              "      <td>What war saw battles at Parrot 's Beak and Black Virgin ?</td>\n",
              "      <td>None</td>\n",
              "      <td>None</td>\n",
              "      <td>None</td>\n",
              "    </tr>\n",
              "    <tr>\n",
              "      <th>1753</th>\n",
              "      <td>What is a fear of fur ?</td>\n",
              "      <td>What is a fear of cold ?</td>\n",
              "      <td>None</td>\n",
              "      <td>None</td>\n",
              "      <td>None</td>\n",
              "    </tr>\n",
              "    <tr>\n",
              "      <th>1772</th>\n",
              "      <td>What percentage of children between the ages of two and eleven watch ` The Simpsons ' ?</td>\n",
              "      <td>How much of the nation 's children between the ages of two and eleven watch ` The Simpsons ' ?</td>\n",
              "      <td>None</td>\n",
              "      <td>None</td>\n",
              "      <td>None</td>\n",
              "    </tr>\n",
              "    <tr>\n",
              "      <th>1784</th>\n",
              "      <td>What is moxie ?</td>\n",
              "      <td>What is magnetar ?</td>\n",
              "      <td>None</td>\n",
              "      <td>None</td>\n",
              "      <td>None</td>\n",
              "    </tr>\n",
              "    <tr>\n",
              "      <th>1792</th>\n",
              "      <td>What is a person called that likes fire ?</td>\n",
              "      <td>What is a person called that likes fire ?</td>\n",
              "      <td>None</td>\n",
              "      <td>None</td>\n",
              "      <td>None</td>\n",
              "    </tr>\n",
              "    <tr>\n",
              "      <th>1803</th>\n",
              "      <td>What is the current ticket fare from from Cairo to Barbados ?</td>\n",
              "      <td>What is the current ticket fare from from Cairo to Barbados ?</td>\n",
              "      <td>None</td>\n",
              "      <td>None</td>\n",
              "      <td>None</td>\n",
              "    </tr>\n",
              "    <tr>\n",
              "      <th>1876</th>\n",
              "      <td>What color is `` ash '' ?</td>\n",
              "      <td>What does the name `` Anthony '' mean ?</td>\n",
              "      <td>What is `` dew point '' ?</td>\n",
              "      <td>None</td>\n",
              "      <td>None</td>\n",
              "    </tr>\n",
              "    <tr>\n",
              "      <th>1886</th>\n",
              "      <td>What is a person called that likes fire ?</td>\n",
              "      <td>What is a person called that likes fire ?</td>\n",
              "      <td>None</td>\n",
              "      <td>None</td>\n",
              "      <td>None</td>\n",
              "    </tr>\n",
              "    <tr>\n",
              "      <th>1941</th>\n",
              "      <td>What is a fear of being dirty ?</td>\n",
              "      <td>What is a fear of being alone ?</td>\n",
              "      <td>What is a fear of being cold ?</td>\n",
              "      <td>What is a fear of slime ?</td>\n",
              "      <td>None</td>\n",
              "    </tr>\n",
              "    <tr>\n",
              "      <th>1989</th>\n",
              "      <td>Which two products use a tiger as their symbol ?</td>\n",
              "      <td>Which two products use a tiger as their symbol ?</td>\n",
              "      <td>None</td>\n",
              "      <td>None</td>\n",
              "      <td>None</td>\n",
              "    </tr>\n",
              "  </tbody>\n",
              "</table>\n",
              "</div>\n",
              "    <div class=\"colab-df-buttons\">\n",
              "\n",
              "  <div class=\"colab-df-container\">\n",
              "    <button class=\"colab-df-convert\" onclick=\"convertToInteractive('df-8b792296-433a-48a5-852e-84ec91a2abef')\"\n",
              "            title=\"Convert this dataframe to an interactive table.\"\n",
              "            style=\"display:none;\">\n",
              "\n",
              "  <svg xmlns=\"http://www.w3.org/2000/svg\" height=\"24px\" viewBox=\"0 -960 960 960\">\n",
              "    <path d=\"M120-120v-720h720v720H120Zm60-500h600v-160H180v160Zm220 220h160v-160H400v160Zm0 220h160v-160H400v160ZM180-400h160v-160H180v160Zm440 0h160v-160H620v160ZM180-180h160v-160H180v160Zm440 0h160v-160H620v160Z\"/>\n",
              "  </svg>\n",
              "    </button>\n",
              "\n",
              "  <style>\n",
              "    .colab-df-container {\n",
              "      display:flex;\n",
              "      gap: 12px;\n",
              "    }\n",
              "\n",
              "    .colab-df-convert {\n",
              "      background-color: #E8F0FE;\n",
              "      border: none;\n",
              "      border-radius: 50%;\n",
              "      cursor: pointer;\n",
              "      display: none;\n",
              "      fill: #1967D2;\n",
              "      height: 32px;\n",
              "      padding: 0 0 0 0;\n",
              "      width: 32px;\n",
              "    }\n",
              "\n",
              "    .colab-df-convert:hover {\n",
              "      background-color: #E2EBFA;\n",
              "      box-shadow: 0px 1px 2px rgba(60, 64, 67, 0.3), 0px 1px 3px 1px rgba(60, 64, 67, 0.15);\n",
              "      fill: #174EA6;\n",
              "    }\n",
              "\n",
              "    .colab-df-buttons div {\n",
              "      margin-bottom: 4px;\n",
              "    }\n",
              "\n",
              "    [theme=dark] .colab-df-convert {\n",
              "      background-color: #3B4455;\n",
              "      fill: #D2E3FC;\n",
              "    }\n",
              "\n",
              "    [theme=dark] .colab-df-convert:hover {\n",
              "      background-color: #434B5C;\n",
              "      box-shadow: 0px 1px 3px 1px rgba(0, 0, 0, 0.15);\n",
              "      filter: drop-shadow(0px 1px 2px rgba(0, 0, 0, 0.3));\n",
              "      fill: #FFFFFF;\n",
              "    }\n",
              "  </style>\n",
              "\n",
              "    <script>\n",
              "      const buttonEl =\n",
              "        document.querySelector('#df-8b792296-433a-48a5-852e-84ec91a2abef button.colab-df-convert');\n",
              "      buttonEl.style.display =\n",
              "        google.colab.kernel.accessAllowed ? 'block' : 'none';\n",
              "\n",
              "      async function convertToInteractive(key) {\n",
              "        const element = document.querySelector('#df-8b792296-433a-48a5-852e-84ec91a2abef');\n",
              "        const dataTable =\n",
              "          await google.colab.kernel.invokeFunction('convertToInteractive',\n",
              "                                                    [key], {});\n",
              "        if (!dataTable) return;\n",
              "\n",
              "        const docLinkHtml = 'Like what you see? Visit the ' +\n",
              "          '<a target=\"_blank\" href=https://colab.research.google.com/notebooks/data_table.ipynb>data table notebook</a>'\n",
              "          + ' to learn more about interactive tables.';\n",
              "        element.innerHTML = '';\n",
              "        dataTable['output_type'] = 'display_data';\n",
              "        await google.colab.output.renderOutput(dataTable, element);\n",
              "        const docLink = document.createElement('div');\n",
              "        docLink.innerHTML = docLinkHtml;\n",
              "        element.appendChild(docLink);\n",
              "      }\n",
              "    </script>\n",
              "  </div>\n",
              "\n",
              "\n",
              "<div id=\"df-4e86c119-f05d-4902-944d-c09f936211aa\">\n",
              "  <button class=\"colab-df-quickchart\" onclick=\"quickchart('df-4e86c119-f05d-4902-944d-c09f936211aa')\"\n",
              "            title=\"Suggest charts\"\n",
              "            style=\"display:none;\">\n",
              "\n",
              "<svg xmlns=\"http://www.w3.org/2000/svg\" height=\"24px\"viewBox=\"0 0 24 24\"\n",
              "     width=\"24px\">\n",
              "    <g>\n",
              "        <path d=\"M19 3H5c-1.1 0-2 .9-2 2v14c0 1.1.9 2 2 2h14c1.1 0 2-.9 2-2V5c0-1.1-.9-2-2-2zM9 17H7v-7h2v7zm4 0h-2V7h2v10zm4 0h-2v-4h2v4z\"/>\n",
              "    </g>\n",
              "</svg>\n",
              "  </button>\n",
              "\n",
              "<style>\n",
              "  .colab-df-quickchart {\n",
              "      --bg-color: #E8F0FE;\n",
              "      --fill-color: #1967D2;\n",
              "      --hover-bg-color: #E2EBFA;\n",
              "      --hover-fill-color: #174EA6;\n",
              "      --disabled-fill-color: #AAA;\n",
              "      --disabled-bg-color: #DDD;\n",
              "  }\n",
              "\n",
              "  [theme=dark] .colab-df-quickchart {\n",
              "      --bg-color: #3B4455;\n",
              "      --fill-color: #D2E3FC;\n",
              "      --hover-bg-color: #434B5C;\n",
              "      --hover-fill-color: #FFFFFF;\n",
              "      --disabled-bg-color: #3B4455;\n",
              "      --disabled-fill-color: #666;\n",
              "  }\n",
              "\n",
              "  .colab-df-quickchart {\n",
              "    background-color: var(--bg-color);\n",
              "    border: none;\n",
              "    border-radius: 50%;\n",
              "    cursor: pointer;\n",
              "    display: none;\n",
              "    fill: var(--fill-color);\n",
              "    height: 32px;\n",
              "    padding: 0;\n",
              "    width: 32px;\n",
              "  }\n",
              "\n",
              "  .colab-df-quickchart:hover {\n",
              "    background-color: var(--hover-bg-color);\n",
              "    box-shadow: 0 1px 2px rgba(60, 64, 67, 0.3), 0 1px 3px 1px rgba(60, 64, 67, 0.15);\n",
              "    fill: var(--button-hover-fill-color);\n",
              "  }\n",
              "\n",
              "  .colab-df-quickchart-complete:disabled,\n",
              "  .colab-df-quickchart-complete:disabled:hover {\n",
              "    background-color: var(--disabled-bg-color);\n",
              "    fill: var(--disabled-fill-color);\n",
              "    box-shadow: none;\n",
              "  }\n",
              "\n",
              "  .colab-df-spinner {\n",
              "    border: 2px solid var(--fill-color);\n",
              "    border-color: transparent;\n",
              "    border-bottom-color: var(--fill-color);\n",
              "    animation:\n",
              "      spin 1s steps(1) infinite;\n",
              "  }\n",
              "\n",
              "  @keyframes spin {\n",
              "    0% {\n",
              "      border-color: transparent;\n",
              "      border-bottom-color: var(--fill-color);\n",
              "      border-left-color: var(--fill-color);\n",
              "    }\n",
              "    20% {\n",
              "      border-color: transparent;\n",
              "      border-left-color: var(--fill-color);\n",
              "      border-top-color: var(--fill-color);\n",
              "    }\n",
              "    30% {\n",
              "      border-color: transparent;\n",
              "      border-left-color: var(--fill-color);\n",
              "      border-top-color: var(--fill-color);\n",
              "      border-right-color: var(--fill-color);\n",
              "    }\n",
              "    40% {\n",
              "      border-color: transparent;\n",
              "      border-right-color: var(--fill-color);\n",
              "      border-top-color: var(--fill-color);\n",
              "    }\n",
              "    60% {\n",
              "      border-color: transparent;\n",
              "      border-right-color: var(--fill-color);\n",
              "    }\n",
              "    80% {\n",
              "      border-color: transparent;\n",
              "      border-right-color: var(--fill-color);\n",
              "      border-bottom-color: var(--fill-color);\n",
              "    }\n",
              "    90% {\n",
              "      border-color: transparent;\n",
              "      border-bottom-color: var(--fill-color);\n",
              "    }\n",
              "  }\n",
              "</style>\n",
              "\n",
              "  <script>\n",
              "    async function quickchart(key) {\n",
              "      const quickchartButtonEl =\n",
              "        document.querySelector('#' + key + ' button');\n",
              "      quickchartButtonEl.disabled = true;  // To prevent multiple clicks.\n",
              "      quickchartButtonEl.classList.add('colab-df-spinner');\n",
              "      try {\n",
              "        const charts = await google.colab.kernel.invokeFunction(\n",
              "            'suggestCharts', [key], {});\n",
              "      } catch (error) {\n",
              "        console.error('Error during call to suggestCharts:', error);\n",
              "      }\n",
              "      quickchartButtonEl.classList.remove('colab-df-spinner');\n",
              "      quickchartButtonEl.classList.add('colab-df-quickchart-complete');\n",
              "    }\n",
              "    (() => {\n",
              "      let quickchartButtonEl =\n",
              "        document.querySelector('#df-4e86c119-f05d-4902-944d-c09f936211aa button');\n",
              "      quickchartButtonEl.style.display =\n",
              "        google.colab.kernel.accessAllowed ? 'block' : 'none';\n",
              "    })();\n",
              "  </script>\n",
              "</div>\n",
              "    </div>\n",
              "  </div>\n"
            ]
          },
          "metadata": {},
          "execution_count": 38
        }
      ]
    },
    {
      "cell_type": "markdown",
      "source": [
        "# Перейдем к классификации текстов"
      ],
      "metadata": {
        "id": "-C6tSXTtj4Ht"
      }
    },
    {
      "cell_type": "code",
      "source": [
        "import pandas as pd\n",
        "\n",
        "url = 'https://raw.githubusercontent.com/saurabh3949/Text-Classification-Datasets/master/TREC.train.all'\n",
        "df = pd.read_csv(url, sep='\\t', header=None, names=['Label'],encoding='ISO-8859-1')"
      ],
      "metadata": {
        "id": "ug2sAjBxAb2u"
      },
      "execution_count": null,
      "outputs": []
    },
    {
      "cell_type": "code",
      "source": [
        "df['Label'] = df['Label'].apply(lambda x: x.split(\" \"))"
      ],
      "metadata": {
        "id": "IJNtdDNfAb2v"
      },
      "execution_count": null,
      "outputs": []
    },
    {
      "cell_type": "code",
      "source": [
        "classes = df['Label'].apply(lambda x: x[0])\n",
        "df['Classes'] = classes"
      ],
      "metadata": {
        "id": "7W_ZS7BFAb2v"
      },
      "execution_count": null,
      "outputs": []
    },
    {
      "cell_type": "code",
      "source": [
        "df['Text'] = df['Label'].apply(lambda x: x[1:])"
      ],
      "metadata": {
        "id": "O_1e04lWAb2v"
      },
      "execution_count": null,
      "outputs": []
    },
    {
      "cell_type": "code",
      "source": [
        "df = df.drop(\"Label\", axis = 1)"
      ],
      "metadata": {
        "id": "W-OjYYiWAb2v"
      },
      "execution_count": null,
      "outputs": []
    },
    {
      "cell_type": "code",
      "source": [
        "df['Text'] = df['Text'].apply(lambda x: \" \".join(x))"
      ],
      "metadata": {
        "id": "pWY4NoxrAb2v"
      },
      "execution_count": null,
      "outputs": []
    },
    {
      "cell_type": "code",
      "source": [
        "df = df.loc[:,[\"Text\",\"Classes\"]]"
      ],
      "metadata": {
        "id": "swwPHomqAb2v"
      },
      "execution_count": null,
      "outputs": []
    },
    {
      "cell_type": "code",
      "source": [
        "import torch\n",
        "from sklearn.metrics import classification_report"
      ],
      "metadata": {
        "id": "zZqNXEEBpEYF"
      },
      "execution_count": null,
      "outputs": []
    },
    {
      "cell_type": "code",
      "source": [
        "import torch\n",
        "@torch.inference_mode()\n",
        "def get_vectors(text):\n",
        "  encoded_input = tokenizer(text, return_tensors='pt')\n",
        "  output = model(**encoded_input)\n",
        "  output = output[1].squeeze(0)\n",
        "  output = output.numpy()\n",
        "  return output"
      ],
      "metadata": {
        "id": "a7U_FzYFn2Xu"
      },
      "execution_count": null,
      "outputs": []
    },
    {
      "cell_type": "code",
      "source": [
        "df[\"Vector\"] = df[\"Text\"].apply(lambda x: get_vectors(x))\n"
      ],
      "metadata": {
        "id": "87xgEJinjtZ3"
      },
      "execution_count": null,
      "outputs": []
    },
    {
      "cell_type": "code",
      "source": [
        "pd.set_option('display.max_colwidth', 20)"
      ],
      "metadata": {
        "id": "8AP63RmFjtcG"
      },
      "execution_count": null,
      "outputs": []
    },
    {
      "cell_type": "code",
      "source": [
        "vectorized_df = pd.DataFrame(df['Vector'].values.tolist())"
      ],
      "metadata": {
        "id": "2D2o6AmGk3pn"
      },
      "execution_count": null,
      "outputs": []
    },
    {
      "cell_type": "code",
      "source": [
        "df = pd.concat([df,vectorized_df], axis = 1)"
      ],
      "metadata": {
        "id": "QvOabc_dk3pn"
      },
      "execution_count": null,
      "outputs": []
    },
    {
      "cell_type": "code",
      "source": [
        "from sklearn.model_selection import train_test_split"
      ],
      "metadata": {
        "id": "_MOVZso_jteY"
      },
      "execution_count": null,
      "outputs": []
    },
    {
      "cell_type": "code",
      "source": [
        "df.head(2)"
      ],
      "metadata": {
        "colab": {
          "base_uri": "https://localhost:8080/",
          "height": 230
        },
        "id": "BQFiMx7enM0a",
        "outputId": "ba0303b4-9f6d-48b7-df5c-23f00bc6d706"
      },
      "execution_count": null,
      "outputs": [
        {
          "output_type": "execute_result",
          "data": {
            "text/plain": [
              "                  Text Classes               Vector         0         1  \\\n",
              "0  How did serfdom ...       0  [-0.99998635, 0.... -0.999986  0.121004   \n",
              "1  What films featu...       1  [-0.9999781, 0.0... -0.999978  0.077666   \n",
              "\n",
              "          2         3         4         5         6  ...       118       119  \\\n",
              "0 -0.999302  0.112896 -0.999741 -0.050388 -0.997083  ...  0.189968 -0.981982   \n",
              "1 -0.999316  0.973250 -0.999605  0.435007 -0.995725  ...  0.117527 -0.993199   \n",
              "\n",
              "        120       121       122       123       124       125       126  \\\n",
              "0  0.307353 -0.999982 -0.640556  0.849185 -0.999947  0.932246  0.979752   \n",
              "1  0.311935 -0.999999 -0.903571  0.902569 -0.999798  0.998968  0.984857   \n",
              "\n",
              "        127  \n",
              "0  0.949779  \n",
              "1  0.816294  \n",
              "\n",
              "[2 rows x 131 columns]"
            ],
            "text/html": [
              "\n",
              "  <div id=\"df-5bad9541-eb69-4149-8558-2664259e11af\" class=\"colab-df-container\">\n",
              "    <div>\n",
              "<style scoped>\n",
              "    .dataframe tbody tr th:only-of-type {\n",
              "        vertical-align: middle;\n",
              "    }\n",
              "\n",
              "    .dataframe tbody tr th {\n",
              "        vertical-align: top;\n",
              "    }\n",
              "\n",
              "    .dataframe thead th {\n",
              "        text-align: right;\n",
              "    }\n",
              "</style>\n",
              "<table border=\"1\" class=\"dataframe\">\n",
              "  <thead>\n",
              "    <tr style=\"text-align: right;\">\n",
              "      <th></th>\n",
              "      <th>Text</th>\n",
              "      <th>Classes</th>\n",
              "      <th>Vector</th>\n",
              "      <th>0</th>\n",
              "      <th>1</th>\n",
              "      <th>2</th>\n",
              "      <th>3</th>\n",
              "      <th>4</th>\n",
              "      <th>5</th>\n",
              "      <th>6</th>\n",
              "      <th>...</th>\n",
              "      <th>118</th>\n",
              "      <th>119</th>\n",
              "      <th>120</th>\n",
              "      <th>121</th>\n",
              "      <th>122</th>\n",
              "      <th>123</th>\n",
              "      <th>124</th>\n",
              "      <th>125</th>\n",
              "      <th>126</th>\n",
              "      <th>127</th>\n",
              "    </tr>\n",
              "  </thead>\n",
              "  <tbody>\n",
              "    <tr>\n",
              "      <th>0</th>\n",
              "      <td>How did serfdom ...</td>\n",
              "      <td>0</td>\n",
              "      <td>[-0.99998635, 0....</td>\n",
              "      <td>-0.999986</td>\n",
              "      <td>0.121004</td>\n",
              "      <td>-0.999302</td>\n",
              "      <td>0.112896</td>\n",
              "      <td>-0.999741</td>\n",
              "      <td>-0.050388</td>\n",
              "      <td>-0.997083</td>\n",
              "      <td>...</td>\n",
              "      <td>0.189968</td>\n",
              "      <td>-0.981982</td>\n",
              "      <td>0.307353</td>\n",
              "      <td>-0.999982</td>\n",
              "      <td>-0.640556</td>\n",
              "      <td>0.849185</td>\n",
              "      <td>-0.999947</td>\n",
              "      <td>0.932246</td>\n",
              "      <td>0.979752</td>\n",
              "      <td>0.949779</td>\n",
              "    </tr>\n",
              "    <tr>\n",
              "      <th>1</th>\n",
              "      <td>What films featu...</td>\n",
              "      <td>1</td>\n",
              "      <td>[-0.9999781, 0.0...</td>\n",
              "      <td>-0.999978</td>\n",
              "      <td>0.077666</td>\n",
              "      <td>-0.999316</td>\n",
              "      <td>0.973250</td>\n",
              "      <td>-0.999605</td>\n",
              "      <td>0.435007</td>\n",
              "      <td>-0.995725</td>\n",
              "      <td>...</td>\n",
              "      <td>0.117527</td>\n",
              "      <td>-0.993199</td>\n",
              "      <td>0.311935</td>\n",
              "      <td>-0.999999</td>\n",
              "      <td>-0.903571</td>\n",
              "      <td>0.902569</td>\n",
              "      <td>-0.999798</td>\n",
              "      <td>0.998968</td>\n",
              "      <td>0.984857</td>\n",
              "      <td>0.816294</td>\n",
              "    </tr>\n",
              "  </tbody>\n",
              "</table>\n",
              "<p>2 rows × 131 columns</p>\n",
              "</div>\n",
              "    <div class=\"colab-df-buttons\">\n",
              "\n",
              "  <div class=\"colab-df-container\">\n",
              "    <button class=\"colab-df-convert\" onclick=\"convertToInteractive('df-5bad9541-eb69-4149-8558-2664259e11af')\"\n",
              "            title=\"Convert this dataframe to an interactive table.\"\n",
              "            style=\"display:none;\">\n",
              "\n",
              "  <svg xmlns=\"http://www.w3.org/2000/svg\" height=\"24px\" viewBox=\"0 -960 960 960\">\n",
              "    <path d=\"M120-120v-720h720v720H120Zm60-500h600v-160H180v160Zm220 220h160v-160H400v160Zm0 220h160v-160H400v160ZM180-400h160v-160H180v160Zm440 0h160v-160H620v160ZM180-180h160v-160H180v160Zm440 0h160v-160H620v160Z\"/>\n",
              "  </svg>\n",
              "    </button>\n",
              "\n",
              "  <style>\n",
              "    .colab-df-container {\n",
              "      display:flex;\n",
              "      gap: 12px;\n",
              "    }\n",
              "\n",
              "    .colab-df-convert {\n",
              "      background-color: #E8F0FE;\n",
              "      border: none;\n",
              "      border-radius: 50%;\n",
              "      cursor: pointer;\n",
              "      display: none;\n",
              "      fill: #1967D2;\n",
              "      height: 32px;\n",
              "      padding: 0 0 0 0;\n",
              "      width: 32px;\n",
              "    }\n",
              "\n",
              "    .colab-df-convert:hover {\n",
              "      background-color: #E2EBFA;\n",
              "      box-shadow: 0px 1px 2px rgba(60, 64, 67, 0.3), 0px 1px 3px 1px rgba(60, 64, 67, 0.15);\n",
              "      fill: #174EA6;\n",
              "    }\n",
              "\n",
              "    .colab-df-buttons div {\n",
              "      margin-bottom: 4px;\n",
              "    }\n",
              "\n",
              "    [theme=dark] .colab-df-convert {\n",
              "      background-color: #3B4455;\n",
              "      fill: #D2E3FC;\n",
              "    }\n",
              "\n",
              "    [theme=dark] .colab-df-convert:hover {\n",
              "      background-color: #434B5C;\n",
              "      box-shadow: 0px 1px 3px 1px rgba(0, 0, 0, 0.15);\n",
              "      filter: drop-shadow(0px 1px 2px rgba(0, 0, 0, 0.3));\n",
              "      fill: #FFFFFF;\n",
              "    }\n",
              "  </style>\n",
              "\n",
              "    <script>\n",
              "      const buttonEl =\n",
              "        document.querySelector('#df-5bad9541-eb69-4149-8558-2664259e11af button.colab-df-convert');\n",
              "      buttonEl.style.display =\n",
              "        google.colab.kernel.accessAllowed ? 'block' : 'none';\n",
              "\n",
              "      async function convertToInteractive(key) {\n",
              "        const element = document.querySelector('#df-5bad9541-eb69-4149-8558-2664259e11af');\n",
              "        const dataTable =\n",
              "          await google.colab.kernel.invokeFunction('convertToInteractive',\n",
              "                                                    [key], {});\n",
              "        if (!dataTable) return;\n",
              "\n",
              "        const docLinkHtml = 'Like what you see? Visit the ' +\n",
              "          '<a target=\"_blank\" href=https://colab.research.google.com/notebooks/data_table.ipynb>data table notebook</a>'\n",
              "          + ' to learn more about interactive tables.';\n",
              "        element.innerHTML = '';\n",
              "        dataTable['output_type'] = 'display_data';\n",
              "        await google.colab.output.renderOutput(dataTable, element);\n",
              "        const docLink = document.createElement('div');\n",
              "        docLink.innerHTML = docLinkHtml;\n",
              "        element.appendChild(docLink);\n",
              "      }\n",
              "    </script>\n",
              "  </div>\n",
              "\n",
              "\n",
              "<div id=\"df-117683c0-d95d-45fa-8df4-550d99df5d3b\">\n",
              "  <button class=\"colab-df-quickchart\" onclick=\"quickchart('df-117683c0-d95d-45fa-8df4-550d99df5d3b')\"\n",
              "            title=\"Suggest charts\"\n",
              "            style=\"display:none;\">\n",
              "\n",
              "<svg xmlns=\"http://www.w3.org/2000/svg\" height=\"24px\"viewBox=\"0 0 24 24\"\n",
              "     width=\"24px\">\n",
              "    <g>\n",
              "        <path d=\"M19 3H5c-1.1 0-2 .9-2 2v14c0 1.1.9 2 2 2h14c1.1 0 2-.9 2-2V5c0-1.1-.9-2-2-2zM9 17H7v-7h2v7zm4 0h-2V7h2v10zm4 0h-2v-4h2v4z\"/>\n",
              "    </g>\n",
              "</svg>\n",
              "  </button>\n",
              "\n",
              "<style>\n",
              "  .colab-df-quickchart {\n",
              "      --bg-color: #E8F0FE;\n",
              "      --fill-color: #1967D2;\n",
              "      --hover-bg-color: #E2EBFA;\n",
              "      --hover-fill-color: #174EA6;\n",
              "      --disabled-fill-color: #AAA;\n",
              "      --disabled-bg-color: #DDD;\n",
              "  }\n",
              "\n",
              "  [theme=dark] .colab-df-quickchart {\n",
              "      --bg-color: #3B4455;\n",
              "      --fill-color: #D2E3FC;\n",
              "      --hover-bg-color: #434B5C;\n",
              "      --hover-fill-color: #FFFFFF;\n",
              "      --disabled-bg-color: #3B4455;\n",
              "      --disabled-fill-color: #666;\n",
              "  }\n",
              "\n",
              "  .colab-df-quickchart {\n",
              "    background-color: var(--bg-color);\n",
              "    border: none;\n",
              "    border-radius: 50%;\n",
              "    cursor: pointer;\n",
              "    display: none;\n",
              "    fill: var(--fill-color);\n",
              "    height: 32px;\n",
              "    padding: 0;\n",
              "    width: 32px;\n",
              "  }\n",
              "\n",
              "  .colab-df-quickchart:hover {\n",
              "    background-color: var(--hover-bg-color);\n",
              "    box-shadow: 0 1px 2px rgba(60, 64, 67, 0.3), 0 1px 3px 1px rgba(60, 64, 67, 0.15);\n",
              "    fill: var(--button-hover-fill-color);\n",
              "  }\n",
              "\n",
              "  .colab-df-quickchart-complete:disabled,\n",
              "  .colab-df-quickchart-complete:disabled:hover {\n",
              "    background-color: var(--disabled-bg-color);\n",
              "    fill: var(--disabled-fill-color);\n",
              "    box-shadow: none;\n",
              "  }\n",
              "\n",
              "  .colab-df-spinner {\n",
              "    border: 2px solid var(--fill-color);\n",
              "    border-color: transparent;\n",
              "    border-bottom-color: var(--fill-color);\n",
              "    animation:\n",
              "      spin 1s steps(1) infinite;\n",
              "  }\n",
              "\n",
              "  @keyframes spin {\n",
              "    0% {\n",
              "      border-color: transparent;\n",
              "      border-bottom-color: var(--fill-color);\n",
              "      border-left-color: var(--fill-color);\n",
              "    }\n",
              "    20% {\n",
              "      border-color: transparent;\n",
              "      border-left-color: var(--fill-color);\n",
              "      border-top-color: var(--fill-color);\n",
              "    }\n",
              "    30% {\n",
              "      border-color: transparent;\n",
              "      border-left-color: var(--fill-color);\n",
              "      border-top-color: var(--fill-color);\n",
              "      border-right-color: var(--fill-color);\n",
              "    }\n",
              "    40% {\n",
              "      border-color: transparent;\n",
              "      border-right-color: var(--fill-color);\n",
              "      border-top-color: var(--fill-color);\n",
              "    }\n",
              "    60% {\n",
              "      border-color: transparent;\n",
              "      border-right-color: var(--fill-color);\n",
              "    }\n",
              "    80% {\n",
              "      border-color: transparent;\n",
              "      border-right-color: var(--fill-color);\n",
              "      border-bottom-color: var(--fill-color);\n",
              "    }\n",
              "    90% {\n",
              "      border-color: transparent;\n",
              "      border-bottom-color: var(--fill-color);\n",
              "    }\n",
              "  }\n",
              "</style>\n",
              "\n",
              "  <script>\n",
              "    async function quickchart(key) {\n",
              "      const quickchartButtonEl =\n",
              "        document.querySelector('#' + key + ' button');\n",
              "      quickchartButtonEl.disabled = true;  // To prevent multiple clicks.\n",
              "      quickchartButtonEl.classList.add('colab-df-spinner');\n",
              "      try {\n",
              "        const charts = await google.colab.kernel.invokeFunction(\n",
              "            'suggestCharts', [key], {});\n",
              "      } catch (error) {\n",
              "        console.error('Error during call to suggestCharts:', error);\n",
              "      }\n",
              "      quickchartButtonEl.classList.remove('colab-df-spinner');\n",
              "      quickchartButtonEl.classList.add('colab-df-quickchart-complete');\n",
              "    }\n",
              "    (() => {\n",
              "      let quickchartButtonEl =\n",
              "        document.querySelector('#df-117683c0-d95d-45fa-8df4-550d99df5d3b button');\n",
              "      quickchartButtonEl.style.display =\n",
              "        google.colab.kernel.accessAllowed ? 'block' : 'none';\n",
              "    })();\n",
              "  </script>\n",
              "</div>\n",
              "    </div>\n",
              "  </div>\n"
            ]
          },
          "metadata": {},
          "execution_count": 61
        }
      ]
    },
    {
      "cell_type": "code",
      "source": [
        "X = df.iloc[:,2:]\n",
        "Y = df[\"Classes\"]"
      ],
      "metadata": {
        "id": "2oIvlG0vjtgr"
      },
      "execution_count": null,
      "outputs": []
    },
    {
      "cell_type": "code",
      "source": [
        "X_train, X_test, y_train, y_test = train_test_split(X, Y, test_size=0.2, random_state=42)"
      ],
      "metadata": {
        "id": "7qDjepuNjtjA"
      },
      "execution_count": null,
      "outputs": []
    },
    {
      "cell_type": "code",
      "source": [
        "X_train = X_train.drop(\"Vector\", axis = 1)\n",
        "X_test = X_test.drop(\"Vector\", axis = 1)"
      ],
      "metadata": {
        "id": "R7kgbj3KY9Di"
      },
      "execution_count": null,
      "outputs": []
    },
    {
      "cell_type": "code",
      "source": [
        "pip install catboost"
      ],
      "metadata": {
        "colab": {
          "base_uri": "https://localhost:8080/"
        },
        "id": "VDoTDf26oD9t",
        "outputId": "4305a1ac-345d-43a8-c293-0172a479e919"
      },
      "execution_count": null,
      "outputs": [
        {
          "output_type": "stream",
          "name": "stdout",
          "text": [
            "Collecting catboost\n",
            "  Downloading catboost-1.2.2-cp310-cp310-manylinux2014_x86_64.whl (98.7 MB)\n",
            "\u001b[2K     \u001b[90m━━━━━━━━━━━━━━━━━━━━━━━━━━━━━━━━━━━━━━━━\u001b[0m \u001b[32m98.7/98.7 MB\u001b[0m \u001b[31m8.1 MB/s\u001b[0m eta \u001b[36m0:00:00\u001b[0m\n",
            "\u001b[?25hRequirement already satisfied: graphviz in /usr/local/lib/python3.10/dist-packages (from catboost) (0.20.1)\n",
            "Requirement already satisfied: matplotlib in /usr/local/lib/python3.10/dist-packages (from catboost) (3.7.1)\n",
            "Requirement already satisfied: numpy>=1.16.0 in /usr/local/lib/python3.10/dist-packages (from catboost) (1.23.5)\n",
            "Requirement already satisfied: pandas>=0.24 in /usr/local/lib/python3.10/dist-packages (from catboost) (1.5.3)\n",
            "Requirement already satisfied: scipy in /usr/local/lib/python3.10/dist-packages (from catboost) (1.11.4)\n",
            "Requirement already satisfied: plotly in /usr/local/lib/python3.10/dist-packages (from catboost) (5.15.0)\n",
            "Requirement already satisfied: six in /usr/local/lib/python3.10/dist-packages (from catboost) (1.16.0)\n",
            "Requirement already satisfied: python-dateutil>=2.8.1 in /usr/local/lib/python3.10/dist-packages (from pandas>=0.24->catboost) (2.8.2)\n",
            "Requirement already satisfied: pytz>=2020.1 in /usr/local/lib/python3.10/dist-packages (from pandas>=0.24->catboost) (2023.3.post1)\n",
            "Requirement already satisfied: contourpy>=1.0.1 in /usr/local/lib/python3.10/dist-packages (from matplotlib->catboost) (1.2.0)\n",
            "Requirement already satisfied: cycler>=0.10 in /usr/local/lib/python3.10/dist-packages (from matplotlib->catboost) (0.12.1)\n",
            "Requirement already satisfied: fonttools>=4.22.0 in /usr/local/lib/python3.10/dist-packages (from matplotlib->catboost) (4.47.2)\n",
            "Requirement already satisfied: kiwisolver>=1.0.1 in /usr/local/lib/python3.10/dist-packages (from matplotlib->catboost) (1.4.5)\n",
            "Requirement already satisfied: packaging>=20.0 in /usr/local/lib/python3.10/dist-packages (from matplotlib->catboost) (23.2)\n",
            "Requirement already satisfied: pillow>=6.2.0 in /usr/local/lib/python3.10/dist-packages (from matplotlib->catboost) (9.4.0)\n",
            "Requirement already satisfied: pyparsing>=2.3.1 in /usr/local/lib/python3.10/dist-packages (from matplotlib->catboost) (3.1.1)\n",
            "Requirement already satisfied: tenacity>=6.2.0 in /usr/local/lib/python3.10/dist-packages (from plotly->catboost) (8.2.3)\n",
            "Installing collected packages: catboost\n",
            "Successfully installed catboost-1.2.2\n"
          ]
        }
      ]
    },
    {
      "cell_type": "code",
      "source": [
        "from catboost import CatBoostClassifier\n",
        "catboost_model = CatBoostClassifier(verbose= False)\n",
        "catboost_model.fit(X_train,y_train)"
      ],
      "metadata": {
        "colab": {
          "base_uri": "https://localhost:8080/"
        },
        "id": "S6ayo0oOjtla",
        "outputId": "5769b9f7-3b47-42a5-a822-990a1f600b6d"
      },
      "execution_count": null,
      "outputs": [
        {
          "output_type": "execute_result",
          "data": {
            "text/plain": [
              "<catboost.core.CatBoostClassifier at 0x78b04b110c10>"
            ]
          },
          "metadata": {},
          "execution_count": 66
        }
      ]
    },
    {
      "cell_type": "code",
      "source": [
        "prediction = catboost_model.predict(X_test)"
      ],
      "metadata": {
        "id": "pCH-VdzzoPsG"
      },
      "execution_count": null,
      "outputs": []
    },
    {
      "cell_type": "code",
      "source": [
        "# So so results :c\n",
        "print(classification_report(y_test,prediction))"
      ],
      "metadata": {
        "colab": {
          "base_uri": "https://localhost:8080/"
        },
        "id": "tMqoH0e_oPub",
        "outputId": "1a54e3ab-e972-4f3d-dc61-65112e79f012"
      },
      "execution_count": null,
      "outputs": [
        {
          "output_type": "stream",
          "name": "stdout",
          "text": [
            "              precision    recall  f1-score   support\n",
            "\n",
            "           0       0.61      0.57      0.59       227\n",
            "           1       0.56      0.60      0.58       246\n",
            "           2       1.00      0.43      0.61        23\n",
            "           3       0.72      0.82      0.77       240\n",
            "           4       0.73      0.69      0.71       166\n",
            "           5       0.62      0.58      0.60       189\n",
            "\n",
            "    accuracy                           0.65      1091\n",
            "   macro avg       0.71      0.62      0.64      1091\n",
            "weighted avg       0.65      0.65      0.65      1091\n",
            "\n"
          ]
        }
      ]
    },
    {
      "cell_type": "markdown",
      "source": [
        "# Попробую использовать нейронную сеть на нашем датасете, чтобы она давала более хороший результат"
      ],
      "metadata": {
        "id": "ky9b4f1RcBeU"
      }
    },
    {
      "cell_type": "code",
      "source": [
        "input = tokenizer(df['Text'][0], return_tensors = \"pt\")\n",
        "model_output = model(**input)['pooler_output']\n",
        "print(model_output.size())"
      ],
      "metadata": {
        "colab": {
          "base_uri": "https://localhost:8080/"
        },
        "id": "hXOoFSMh0PS7",
        "outputId": "2867710e-53c3-418a-9eac-34a5d89101a6"
      },
      "execution_count": null,
      "outputs": [
        {
          "output_type": "stream",
          "name": "stdout",
          "text": [
            "torch.Size([1, 128])\n"
          ]
        }
      ]
    },
    {
      "cell_type": "code",
      "source": [
        "tokenizer = AutoTokenizer.from_pretrained(\"prajjwal1/bert-tiny\")\n",
        "tiny_bert = AutoModel.from_pretrained(\"prajjwal1/bert-tiny\")"
      ],
      "metadata": {
        "id": "eOUARXzv-HRw"
      },
      "execution_count": null,
      "outputs": []
    },
    {
      "cell_type": "code",
      "source": [
        "import torch\n",
        "from torch import nn\n",
        "from torch.optim import Adam\n",
        "\n",
        "# Must create dataloader and apply tokenizer firstly\n",
        "\n",
        "class BertClassification(nn.Module):\n",
        "\n",
        "  def __init__(self,bert_model,num_classes):\n",
        "    super().__init__()\n",
        "    self.bert = bert_model #output of size [1,128]\n",
        "    self.fc = nn.Sequential(nn.Linear(128,20),\n",
        "                            nn.ReLU(),\n",
        "                            nn.Linear(20,num_classes),\n",
        "                            nn.Sigmoid())\n",
        "\n",
        "  def get_vectors(self,x:dict):\n",
        "    vectors = self.bert(**x)['pooler_output'][0]\n",
        "    return vectors\n",
        "\n",
        "  def forward(self,x):\n",
        "    ouput = self.fc(x) # must be tensor of size [6]\n",
        "    return output"
      ],
      "metadata": {
        "id": "Vw56872Rpc5l"
      },
      "execution_count": null,
      "outputs": []
    },
    {
      "cell_type": "code",
      "source": [
        "class BertClassification_V2(nn.Module):\n",
        "\n",
        "  def __init__(self,bert_model,num_classes):\n",
        "    super().__init__()\n",
        "    self.bert = bert_model #output of size [1,128]\n",
        "    self.fc = nn.Sequential(nn.Linear(128,20),\n",
        "                            nn.ReLU(),\n",
        "                            nn.Linear(20,num_classes),\n",
        "                            nn.Sigmoid())\n",
        "\n",
        "  def get_vectors(self,x:dict):\n",
        "    vectors = self.bert(**x)['pooler_output'][0]\n",
        "    return vectors\n",
        "\n",
        "  def forward(self,x):\n",
        "    output = self.get_vectors(x)\n",
        "    output = self.fc(output) # must be tensor of size [6]\n",
        "    return output"
      ],
      "metadata": {
        "id": "HI8GRCI8GzAf"
      },
      "execution_count": null,
      "outputs": []
    },
    {
      "cell_type": "code",
      "source": [
        "model = BertClassification_V2(tiny_bert,6)\n",
        "# device\n",
        "device = torch.device('cuda' if torch.cuda.is_available() else 'cpu')\n",
        "model.to(device)"
      ],
      "metadata": {
        "colab": {
          "base_uri": "https://localhost:8080/"
        },
        "id": "heVy8CeG97CC",
        "outputId": "78fc79c6-e49f-4c6f-b202-1dc3d4cb3cdf"
      },
      "execution_count": null,
      "outputs": [
        {
          "output_type": "execute_result",
          "data": {
            "text/plain": [
              "BertClassification_V2(\n",
              "  (bert): BertModel(\n",
              "    (embeddings): BertEmbeddings(\n",
              "      (word_embeddings): Embedding(30522, 128, padding_idx=0)\n",
              "      (position_embeddings): Embedding(512, 128)\n",
              "      (token_type_embeddings): Embedding(2, 128)\n",
              "      (LayerNorm): LayerNorm((128,), eps=1e-12, elementwise_affine=True)\n",
              "      (dropout): Dropout(p=0.1, inplace=False)\n",
              "    )\n",
              "    (encoder): BertEncoder(\n",
              "      (layer): ModuleList(\n",
              "        (0-1): 2 x BertLayer(\n",
              "          (attention): BertAttention(\n",
              "            (self): BertSelfAttention(\n",
              "              (query): Linear(in_features=128, out_features=128, bias=True)\n",
              "              (key): Linear(in_features=128, out_features=128, bias=True)\n",
              "              (value): Linear(in_features=128, out_features=128, bias=True)\n",
              "              (dropout): Dropout(p=0.1, inplace=False)\n",
              "            )\n",
              "            (output): BertSelfOutput(\n",
              "              (dense): Linear(in_features=128, out_features=128, bias=True)\n",
              "              (LayerNorm): LayerNorm((128,), eps=1e-12, elementwise_affine=True)\n",
              "              (dropout): Dropout(p=0.1, inplace=False)\n",
              "            )\n",
              "          )\n",
              "          (intermediate): BertIntermediate(\n",
              "            (dense): Linear(in_features=128, out_features=512, bias=True)\n",
              "            (intermediate_act_fn): GELUActivation()\n",
              "          )\n",
              "          (output): BertOutput(\n",
              "            (dense): Linear(in_features=512, out_features=128, bias=True)\n",
              "            (LayerNorm): LayerNorm((128,), eps=1e-12, elementwise_affine=True)\n",
              "            (dropout): Dropout(p=0.1, inplace=False)\n",
              "          )\n",
              "        )\n",
              "      )\n",
              "    )\n",
              "    (pooler): BertPooler(\n",
              "      (dense): Linear(in_features=128, out_features=128, bias=True)\n",
              "      (activation): Tanh()\n",
              "    )\n",
              "  )\n",
              "  (fc): Sequential(\n",
              "    (0): Linear(in_features=128, out_features=20, bias=True)\n",
              "    (1): ReLU()\n",
              "    (2): Linear(in_features=20, out_features=6, bias=True)\n",
              "    (3): Sigmoid()\n",
              "  )\n",
              ")"
            ]
          },
          "metadata": {},
          "execution_count": 74
        }
      ]
    },
    {
      "cell_type": "code",
      "source": [
        "# loss_fn, optimizer\n",
        "loss_fn = nn.CrossEntropyLoss()\n",
        "optimizer = Adam(model.parameters(), lr=1e-3)"
      ],
      "metadata": {
        "id": "xXecJdSX22ND"
      },
      "execution_count": null,
      "outputs": []
    },
    {
      "cell_type": "markdown",
      "source": [
        "# Создадим DataLoader"
      ],
      "metadata": {
        "id": "yDRRItov3ksZ"
      }
    },
    {
      "cell_type": "code",
      "source": [
        "len(train_dataset)"
      ],
      "metadata": {
        "colab": {
          "base_uri": "https://localhost:8080/"
        },
        "id": "gAiAwvNCJWlp",
        "outputId": "d1ad3d77-efba-45b0-dc48-92fe29ae5c97"
      },
      "execution_count": null,
      "outputs": [
        {
          "output_type": "execute_result",
          "data": {
            "text/plain": [
              "4906"
            ]
          },
          "metadata": {},
          "execution_count": 96
        }
      ]
    },
    {
      "cell_type": "code",
      "source": [
        "from torch.utils.data import Dataset\n",
        "from torch.utils.data import DataLoader\n",
        "import numpy as np\n",
        "from sklearn.model_selection import train_test_split"
      ],
      "metadata": {
        "id": "J1Digk3T3n9e"
      },
      "execution_count": null,
      "outputs": []
    },
    {
      "cell_type": "code",
      "source": [
        "X = df['Text']\n",
        "Y = df['Classes']"
      ],
      "metadata": {
        "id": "aB0CExA_418s"
      },
      "execution_count": null,
      "outputs": []
    },
    {
      "cell_type": "code",
      "source": [
        "X_train,X_test,y_train,y_test = train_test_split(X,Y,test_size = 0.1)\n",
        "y_train = y_train.astype(int)\n",
        "y_test = y_test.astype(int)"
      ],
      "metadata": {
        "id": "b_Sr3qeB4_ev"
      },
      "execution_count": null,
      "outputs": []
    },
    {
      "cell_type": "code",
      "source": [
        "def tokenize_text(text:str):\n",
        "  tokenized_dict = tokenizer(text, padding = True, return_tensors = \"pt\").to(device)\n",
        "\n",
        "  #tokenized_dict = torch.tensor(tokenized_dict)\n",
        "\n",
        "  return tokenized_dict"
      ],
      "metadata": {
        "id": "duKQorPB5gsk"
      },
      "execution_count": null,
      "outputs": []
    },
    {
      "cell_type": "code",
      "source": [
        "class Custom_DataSet(Dataset):\n",
        "\n",
        "    def __init__(self, x_train,y_train,transform = None):\n",
        "        self.X = x_train.values\n",
        "        self.Y = torch.tensor(y_train.values,dtype = torch.float32)\n",
        "        self.transform = tokenize_text\n",
        "\n",
        "    def __len__(self):\n",
        "        return len(self.Y)\n",
        "\n",
        "    def __getitem__(self, item):\n",
        "      res = self.X[item], self.Y[item]\n",
        "      return self.transform(self.X[item]), self.Y[item]"
      ],
      "metadata": {
        "id": "atbmVNBU4_hF"
      },
      "execution_count": null,
      "outputs": []
    },
    {
      "cell_type": "code",
      "source": [
        "train_dataset = Custom_DataSet(X_train,y_train,transform = tokenize_text)\n",
        "test_dataset = Custom_DataSet(X_test,y_test,transform = tokenize_text)"
      ],
      "metadata": {
        "id": "536YCSVG4_jf"
      },
      "execution_count": null,
      "outputs": []
    },
    {
      "cell_type": "code",
      "source": [
        "# Valuation a qualtiy of our train_datas\n",
        "# Batch is a list of lists[a,b]\n",
        "\n",
        "# def see_batch():\n",
        "#   for batch in train_loader:\n",
        "#     return batch\n",
        "\n",
        "\n",
        "def collate_fn(batch):\n",
        "  batch = np.array(batch, dtype = \"object\")\n",
        "\n",
        "  # working with Y\n",
        "  y = torch.tensor([int(i.item()) for i in batch[:,1]]).to(torch.long)\n",
        "  #y = y.reshape(-1,1)\n",
        "\n",
        "  # working with X\n",
        "  x = batch[:,0].tolist()\n",
        "\n",
        "  return x,y"
      ],
      "metadata": {
        "id": "WM58gcRoA3Q6"
      },
      "execution_count": null,
      "outputs": []
    },
    {
      "cell_type": "code",
      "source": [
        "train_loader = DataLoader(train_dataset, batch_size=130, shuffle=True, num_workers=4, pin_memory=True, collate_fn = collate_fn)\n",
        "test_loader = DataLoader(test_dataset, batch_size=130, shuffle=False, num_workers=4, pin_memory=True, collate_fn = collate_fn)"
      ],
      "metadata": {
        "colab": {
          "base_uri": "https://localhost:8080/"
        },
        "id": "kF5HMqL-9BHs",
        "outputId": "b64331dd-acbb-4513-86f5-0b6b5a888009"
      },
      "execution_count": null,
      "outputs": [
        {
          "output_type": "stream",
          "name": "stderr",
          "text": [
            "/usr/local/lib/python3.10/dist-packages/torch/utils/data/dataloader.py:557: UserWarning: This DataLoader will create 4 worker processes in total. Our suggested max number of worker in current system is 2, which is smaller than what this DataLoader is going to create. Please be aware that excessive worker creation might get DataLoader running slow or even freeze, lower the worker number to avoid potential slowness/freeze if necessary.\n",
            "  warnings.warn(_create_warning_msg(\n"
          ]
        }
      ]
    },
    {
      "cell_type": "markdown",
      "source": [
        "# Функции тренировки и evaluation"
      ],
      "metadata": {
        "id": "LMnbZ4kC9xLS"
      }
    },
    {
      "cell_type": "code",
      "source": [
        "from tqdm import tqdm"
      ],
      "metadata": {
        "id": "0Fo1tGVn-V-y"
      },
      "execution_count": null,
      "outputs": []
    },
    {
      "cell_type": "code",
      "source": [
        "def get_big_x(x):\n",
        "  big_x = None\n",
        "  for tokenized_text in x:\n",
        "    output = model.get_vectors(tokenized_text)\n",
        "    if big_x is None:\n",
        "      big_x = output.reshape(1,-1)\n",
        "    else:\n",
        "        output = output.reshape(1,-1)\n",
        "        big_x = torch.cat((big_x,output), dim = 0)\n",
        "\n",
        "  big_x = big_x.to(torch.float32)\n",
        "\n",
        "  return big_x"
      ],
      "metadata": {
        "id": "r5FWf6bO1s6-"
      },
      "execution_count": null,
      "outputs": []
    },
    {
      "cell_type": "code",
      "source": [
        "def train(model):\n",
        "  model.train()\n",
        "  total_loss = 0\n",
        "\n",
        "  for x,y in tqdm(train_loader, desc = \"Training\"):\n",
        "    optimizer.zero_grad()\n",
        "\n",
        "    # x = x.to(device)\n",
        "    # y = y.to(device)\n",
        "\n",
        "    big_x = get_big_x(x)\n",
        "\n",
        "    #big_x = big_x.unsqueeze(1)\n",
        "\n",
        "    output = model.fc(big_x) # must be tensor fo size 6 # ALLERT! FORWARD IS NOT WORKING\n",
        "\n",
        "    #return y,output\n",
        "\n",
        "    loss = loss_fn(output,y)\n",
        "    loss.backward()\n",
        "    optimizer.step()\n",
        "\n",
        "    total_loss += loss.item()\n",
        "\n",
        "  total_loss = total_loss/len(train_loader)\n",
        "  return total_loss"
      ],
      "metadata": {
        "id": "nM6hKBqy9BMm"
      },
      "execution_count": null,
      "outputs": []
    },
    {
      "cell_type": "code",
      "source": [
        "for e in range(10):\n",
        "  ll = train(model)\n",
        "  print(ll)"
      ],
      "metadata": {
        "colab": {
          "base_uri": "https://localhost:8080/",
          "height": 463
        },
        "id": "HKDr7dR32beS",
        "outputId": "4917ea94-5c88-4353-8d63-61e909b6ce1c"
      },
      "execution_count": null,
      "outputs": [
        {
          "output_type": "stream",
          "name": "stderr",
          "text": [
            "\rTraining:   0%|          | 0/38 [00:00<?, ?it/s]/usr/local/lib/python3.10/dist-packages/torch/utils/data/dataloader.py:557: UserWarning: This DataLoader will create 4 worker processes in total. Our suggested max number of worker in current system is 2, which is smaller than what this DataLoader is going to create. Please be aware that excessive worker creation might get DataLoader running slow or even freeze, lower the worker number to avoid potential slowness/freeze if necessary.\n",
            "  warnings.warn(_create_warning_msg(\n",
            "Training: 100%|██████████| 38/38 [01:38<00:00,  2.60s/it]\n"
          ]
        },
        {
          "output_type": "stream",
          "name": "stdout",
          "text": [
            "1.186347992796647\n"
          ]
        },
        {
          "output_type": "stream",
          "name": "stderr",
          "text": [
            "Training:   0%|          | 0/38 [00:13<?, ?it/s]\n"
          ]
        },
        {
          "output_type": "error",
          "ename": "KeyboardInterrupt",
          "evalue": "",
          "traceback": [
            "\u001b[0;31m---------------------------------------------------------------------------\u001b[0m",
            "\u001b[0;31mKeyboardInterrupt\u001b[0m                         Traceback (most recent call last)",
            "\u001b[0;32m<ipython-input-275-8774cdc851cf>\u001b[0m in \u001b[0;36m<cell line: 1>\u001b[0;34m()\u001b[0m\n\u001b[1;32m      1\u001b[0m \u001b[0;32mfor\u001b[0m \u001b[0me\u001b[0m \u001b[0;32min\u001b[0m \u001b[0mrange\u001b[0m\u001b[0;34m(\u001b[0m\u001b[0;36m5\u001b[0m\u001b[0;34m)\u001b[0m\u001b[0;34m:\u001b[0m\u001b[0;34m\u001b[0m\u001b[0;34m\u001b[0m\u001b[0m\n\u001b[0;32m----> 2\u001b[0;31m   \u001b[0mll\u001b[0m \u001b[0;34m=\u001b[0m \u001b[0mtrain\u001b[0m\u001b[0;34m(\u001b[0m\u001b[0mmodel\u001b[0m\u001b[0;34m)\u001b[0m\u001b[0;34m\u001b[0m\u001b[0;34m\u001b[0m\u001b[0m\n\u001b[0m\u001b[1;32m      3\u001b[0m   \u001b[0mprint\u001b[0m\u001b[0;34m(\u001b[0m\u001b[0mll\u001b[0m\u001b[0;34m)\u001b[0m\u001b[0;34m\u001b[0m\u001b[0;34m\u001b[0m\u001b[0m\n",
            "\u001b[0;32m<ipython-input-270-32c226412ec4>\u001b[0m in \u001b[0;36mtrain\u001b[0;34m(model)\u001b[0m\n\u001b[1;32m      9\u001b[0m     \u001b[0;31m# y = y.to(device)\u001b[0m\u001b[0;34m\u001b[0m\u001b[0;34m\u001b[0m\u001b[0m\n\u001b[1;32m     10\u001b[0m \u001b[0;34m\u001b[0m\u001b[0m\n\u001b[0;32m---> 11\u001b[0;31m     \u001b[0mbig_x\u001b[0m \u001b[0;34m=\u001b[0m \u001b[0mget_big_x\u001b[0m\u001b[0;34m(\u001b[0m\u001b[0mx\u001b[0m\u001b[0;34m)\u001b[0m\u001b[0;34m\u001b[0m\u001b[0;34m\u001b[0m\u001b[0m\n\u001b[0m\u001b[1;32m     12\u001b[0m \u001b[0;34m\u001b[0m\u001b[0m\n\u001b[1;32m     13\u001b[0m     \u001b[0;31m#big_x = big_x.unsqueeze(1)\u001b[0m\u001b[0;34m\u001b[0m\u001b[0;34m\u001b[0m\u001b[0m\n",
            "\u001b[0;32m<ipython-input-269-1bee5e537988>\u001b[0m in \u001b[0;36mget_big_x\u001b[0;34m(x)\u001b[0m\n\u001b[1;32m      2\u001b[0m   \u001b[0mbig_x\u001b[0m \u001b[0;34m=\u001b[0m \u001b[0;32mNone\u001b[0m\u001b[0;34m\u001b[0m\u001b[0;34m\u001b[0m\u001b[0m\n\u001b[1;32m      3\u001b[0m   \u001b[0;32mfor\u001b[0m \u001b[0mtokenized_text\u001b[0m \u001b[0;32min\u001b[0m \u001b[0mx\u001b[0m\u001b[0;34m:\u001b[0m\u001b[0;34m\u001b[0m\u001b[0;34m\u001b[0m\u001b[0m\n\u001b[0;32m----> 4\u001b[0;31m     \u001b[0moutput\u001b[0m \u001b[0;34m=\u001b[0m \u001b[0mmodel\u001b[0m\u001b[0;34m.\u001b[0m\u001b[0mget_vectors\u001b[0m\u001b[0;34m(\u001b[0m\u001b[0mtokenized_text\u001b[0m\u001b[0;34m)\u001b[0m\u001b[0;34m\u001b[0m\u001b[0;34m\u001b[0m\u001b[0m\n\u001b[0m\u001b[1;32m      5\u001b[0m     \u001b[0;32mif\u001b[0m \u001b[0mbig_x\u001b[0m \u001b[0;32mis\u001b[0m \u001b[0;32mNone\u001b[0m\u001b[0;34m:\u001b[0m\u001b[0;34m\u001b[0m\u001b[0;34m\u001b[0m\u001b[0m\n\u001b[1;32m      6\u001b[0m       \u001b[0mbig_x\u001b[0m \u001b[0;34m=\u001b[0m \u001b[0moutput\u001b[0m\u001b[0;34m.\u001b[0m\u001b[0mreshape\u001b[0m\u001b[0;34m(\u001b[0m\u001b[0;36m1\u001b[0m\u001b[0;34m,\u001b[0m\u001b[0;34m-\u001b[0m\u001b[0;36m1\u001b[0m\u001b[0;34m)\u001b[0m\u001b[0;34m\u001b[0m\u001b[0;34m\u001b[0m\u001b[0m\n",
            "\u001b[0;32m<ipython-input-249-8a0016eaf7c5>\u001b[0m in \u001b[0;36mget_vectors\u001b[0;34m(self, x)\u001b[0m\n\u001b[1;32m     14\u001b[0m \u001b[0;34m\u001b[0m\u001b[0m\n\u001b[1;32m     15\u001b[0m   \u001b[0;32mdef\u001b[0m \u001b[0mget_vectors\u001b[0m\u001b[0;34m(\u001b[0m\u001b[0mself\u001b[0m\u001b[0;34m,\u001b[0m\u001b[0mx\u001b[0m\u001b[0;34m:\u001b[0m\u001b[0mdict\u001b[0m\u001b[0;34m)\u001b[0m\u001b[0;34m:\u001b[0m\u001b[0;34m\u001b[0m\u001b[0;34m\u001b[0m\u001b[0m\n\u001b[0;32m---> 16\u001b[0;31m     \u001b[0mvectors\u001b[0m \u001b[0;34m=\u001b[0m \u001b[0mself\u001b[0m\u001b[0;34m.\u001b[0m\u001b[0mbert\u001b[0m\u001b[0;34m(\u001b[0m\u001b[0;34m**\u001b[0m\u001b[0mx\u001b[0m\u001b[0;34m)\u001b[0m\u001b[0;34m[\u001b[0m\u001b[0;34m'pooler_output'\u001b[0m\u001b[0;34m]\u001b[0m\u001b[0;34m[\u001b[0m\u001b[0;36m0\u001b[0m\u001b[0;34m]\u001b[0m\u001b[0;34m\u001b[0m\u001b[0;34m\u001b[0m\u001b[0m\n\u001b[0m\u001b[1;32m     17\u001b[0m     \u001b[0;32mreturn\u001b[0m \u001b[0mvectors\u001b[0m\u001b[0;34m\u001b[0m\u001b[0;34m\u001b[0m\u001b[0m\n\u001b[1;32m     18\u001b[0m \u001b[0;34m\u001b[0m\u001b[0m\n",
            "\u001b[0;32m/usr/local/lib/python3.10/dist-packages/torch/nn/modules/module.py\u001b[0m in \u001b[0;36m_wrapped_call_impl\u001b[0;34m(self, *args, **kwargs)\u001b[0m\n\u001b[1;32m   1516\u001b[0m             \u001b[0;32mreturn\u001b[0m \u001b[0mself\u001b[0m\u001b[0;34m.\u001b[0m\u001b[0m_compiled_call_impl\u001b[0m\u001b[0;34m(\u001b[0m\u001b[0;34m*\u001b[0m\u001b[0margs\u001b[0m\u001b[0;34m,\u001b[0m \u001b[0;34m**\u001b[0m\u001b[0mkwargs\u001b[0m\u001b[0;34m)\u001b[0m  \u001b[0;31m# type: ignore[misc]\u001b[0m\u001b[0;34m\u001b[0m\u001b[0;34m\u001b[0m\u001b[0m\n\u001b[1;32m   1517\u001b[0m         \u001b[0;32melse\u001b[0m\u001b[0;34m:\u001b[0m\u001b[0;34m\u001b[0m\u001b[0;34m\u001b[0m\u001b[0m\n\u001b[0;32m-> 1518\u001b[0;31m             \u001b[0;32mreturn\u001b[0m \u001b[0mself\u001b[0m\u001b[0;34m.\u001b[0m\u001b[0m_call_impl\u001b[0m\u001b[0;34m(\u001b[0m\u001b[0;34m*\u001b[0m\u001b[0margs\u001b[0m\u001b[0;34m,\u001b[0m \u001b[0;34m**\u001b[0m\u001b[0mkwargs\u001b[0m\u001b[0;34m)\u001b[0m\u001b[0;34m\u001b[0m\u001b[0;34m\u001b[0m\u001b[0m\n\u001b[0m\u001b[1;32m   1519\u001b[0m \u001b[0;34m\u001b[0m\u001b[0m\n\u001b[1;32m   1520\u001b[0m     \u001b[0;32mdef\u001b[0m \u001b[0m_call_impl\u001b[0m\u001b[0;34m(\u001b[0m\u001b[0mself\u001b[0m\u001b[0;34m,\u001b[0m \u001b[0;34m*\u001b[0m\u001b[0margs\u001b[0m\u001b[0;34m,\u001b[0m \u001b[0;34m**\u001b[0m\u001b[0mkwargs\u001b[0m\u001b[0;34m)\u001b[0m\u001b[0;34m:\u001b[0m\u001b[0;34m\u001b[0m\u001b[0;34m\u001b[0m\u001b[0m\n",
            "\u001b[0;32m/usr/local/lib/python3.10/dist-packages/torch/nn/modules/module.py\u001b[0m in \u001b[0;36m_call_impl\u001b[0;34m(self, *args, **kwargs)\u001b[0m\n\u001b[1;32m   1525\u001b[0m                 \u001b[0;32mor\u001b[0m \u001b[0m_global_backward_pre_hooks\u001b[0m \u001b[0;32mor\u001b[0m \u001b[0m_global_backward_hooks\u001b[0m\u001b[0;34m\u001b[0m\u001b[0;34m\u001b[0m\u001b[0m\n\u001b[1;32m   1526\u001b[0m                 or _global_forward_hooks or _global_forward_pre_hooks):\n\u001b[0;32m-> 1527\u001b[0;31m             \u001b[0;32mreturn\u001b[0m \u001b[0mforward_call\u001b[0m\u001b[0;34m(\u001b[0m\u001b[0;34m*\u001b[0m\u001b[0margs\u001b[0m\u001b[0;34m,\u001b[0m \u001b[0;34m**\u001b[0m\u001b[0mkwargs\u001b[0m\u001b[0;34m)\u001b[0m\u001b[0;34m\u001b[0m\u001b[0;34m\u001b[0m\u001b[0m\n\u001b[0m\u001b[1;32m   1528\u001b[0m \u001b[0;34m\u001b[0m\u001b[0m\n\u001b[1;32m   1529\u001b[0m         \u001b[0;32mtry\u001b[0m\u001b[0;34m:\u001b[0m\u001b[0;34m\u001b[0m\u001b[0;34m\u001b[0m\u001b[0m\n",
            "\u001b[0;32m/usr/local/lib/python3.10/dist-packages/transformers/models/bert/modeling_bert.py\u001b[0m in \u001b[0;36mforward\u001b[0;34m(self, input_ids, attention_mask, token_type_ids, position_ids, head_mask, inputs_embeds, encoder_hidden_states, encoder_attention_mask, past_key_values, use_cache, output_attentions, output_hidden_states, return_dict)\u001b[0m\n\u001b[1;32m   1011\u001b[0m             \u001b[0mpast_key_values_length\u001b[0m\u001b[0;34m=\u001b[0m\u001b[0mpast_key_values_length\u001b[0m\u001b[0;34m,\u001b[0m\u001b[0;34m\u001b[0m\u001b[0;34m\u001b[0m\u001b[0m\n\u001b[1;32m   1012\u001b[0m         )\n\u001b[0;32m-> 1013\u001b[0;31m         encoder_outputs = self.encoder(\n\u001b[0m\u001b[1;32m   1014\u001b[0m             \u001b[0membedding_output\u001b[0m\u001b[0;34m,\u001b[0m\u001b[0;34m\u001b[0m\u001b[0;34m\u001b[0m\u001b[0m\n\u001b[1;32m   1015\u001b[0m             \u001b[0mattention_mask\u001b[0m\u001b[0;34m=\u001b[0m\u001b[0mextended_attention_mask\u001b[0m\u001b[0;34m,\u001b[0m\u001b[0;34m\u001b[0m\u001b[0;34m\u001b[0m\u001b[0m\n",
            "\u001b[0;32m/usr/local/lib/python3.10/dist-packages/torch/nn/modules/module.py\u001b[0m in \u001b[0;36m_wrapped_call_impl\u001b[0;34m(self, *args, **kwargs)\u001b[0m\n\u001b[1;32m   1516\u001b[0m             \u001b[0;32mreturn\u001b[0m \u001b[0mself\u001b[0m\u001b[0;34m.\u001b[0m\u001b[0m_compiled_call_impl\u001b[0m\u001b[0;34m(\u001b[0m\u001b[0;34m*\u001b[0m\u001b[0margs\u001b[0m\u001b[0;34m,\u001b[0m \u001b[0;34m**\u001b[0m\u001b[0mkwargs\u001b[0m\u001b[0;34m)\u001b[0m  \u001b[0;31m# type: ignore[misc]\u001b[0m\u001b[0;34m\u001b[0m\u001b[0;34m\u001b[0m\u001b[0m\n\u001b[1;32m   1517\u001b[0m         \u001b[0;32melse\u001b[0m\u001b[0;34m:\u001b[0m\u001b[0;34m\u001b[0m\u001b[0;34m\u001b[0m\u001b[0m\n\u001b[0;32m-> 1518\u001b[0;31m             \u001b[0;32mreturn\u001b[0m \u001b[0mself\u001b[0m\u001b[0;34m.\u001b[0m\u001b[0m_call_impl\u001b[0m\u001b[0;34m(\u001b[0m\u001b[0;34m*\u001b[0m\u001b[0margs\u001b[0m\u001b[0;34m,\u001b[0m \u001b[0;34m**\u001b[0m\u001b[0mkwargs\u001b[0m\u001b[0;34m)\u001b[0m\u001b[0;34m\u001b[0m\u001b[0;34m\u001b[0m\u001b[0m\n\u001b[0m\u001b[1;32m   1519\u001b[0m \u001b[0;34m\u001b[0m\u001b[0m\n\u001b[1;32m   1520\u001b[0m     \u001b[0;32mdef\u001b[0m \u001b[0m_call_impl\u001b[0m\u001b[0;34m(\u001b[0m\u001b[0mself\u001b[0m\u001b[0;34m,\u001b[0m \u001b[0;34m*\u001b[0m\u001b[0margs\u001b[0m\u001b[0;34m,\u001b[0m \u001b[0;34m**\u001b[0m\u001b[0mkwargs\u001b[0m\u001b[0;34m)\u001b[0m\u001b[0;34m:\u001b[0m\u001b[0;34m\u001b[0m\u001b[0;34m\u001b[0m\u001b[0m\n",
            "\u001b[0;32m/usr/local/lib/python3.10/dist-packages/torch/nn/modules/module.py\u001b[0m in \u001b[0;36m_call_impl\u001b[0;34m(self, *args, **kwargs)\u001b[0m\n\u001b[1;32m   1525\u001b[0m                 \u001b[0;32mor\u001b[0m \u001b[0m_global_backward_pre_hooks\u001b[0m \u001b[0;32mor\u001b[0m \u001b[0m_global_backward_hooks\u001b[0m\u001b[0;34m\u001b[0m\u001b[0;34m\u001b[0m\u001b[0m\n\u001b[1;32m   1526\u001b[0m                 or _global_forward_hooks or _global_forward_pre_hooks):\n\u001b[0;32m-> 1527\u001b[0;31m             \u001b[0;32mreturn\u001b[0m \u001b[0mforward_call\u001b[0m\u001b[0;34m(\u001b[0m\u001b[0;34m*\u001b[0m\u001b[0margs\u001b[0m\u001b[0;34m,\u001b[0m \u001b[0;34m**\u001b[0m\u001b[0mkwargs\u001b[0m\u001b[0;34m)\u001b[0m\u001b[0;34m\u001b[0m\u001b[0;34m\u001b[0m\u001b[0m\n\u001b[0m\u001b[1;32m   1528\u001b[0m \u001b[0;34m\u001b[0m\u001b[0m\n\u001b[1;32m   1529\u001b[0m         \u001b[0;32mtry\u001b[0m\u001b[0;34m:\u001b[0m\u001b[0;34m\u001b[0m\u001b[0;34m\u001b[0m\u001b[0m\n",
            "\u001b[0;32m/usr/local/lib/python3.10/dist-packages/transformers/models/bert/modeling_bert.py\u001b[0m in \u001b[0;36mforward\u001b[0;34m(self, hidden_states, attention_mask, head_mask, encoder_hidden_states, encoder_attention_mask, past_key_values, use_cache, output_attentions, output_hidden_states, return_dict)\u001b[0m\n\u001b[1;32m    605\u001b[0m                 )\n\u001b[1;32m    606\u001b[0m             \u001b[0;32melse\u001b[0m\u001b[0;34m:\u001b[0m\u001b[0;34m\u001b[0m\u001b[0;34m\u001b[0m\u001b[0m\n\u001b[0;32m--> 607\u001b[0;31m                 layer_outputs = layer_module(\n\u001b[0m\u001b[1;32m    608\u001b[0m                     \u001b[0mhidden_states\u001b[0m\u001b[0;34m,\u001b[0m\u001b[0;34m\u001b[0m\u001b[0;34m\u001b[0m\u001b[0m\n\u001b[1;32m    609\u001b[0m                     \u001b[0mattention_mask\u001b[0m\u001b[0;34m,\u001b[0m\u001b[0;34m\u001b[0m\u001b[0;34m\u001b[0m\u001b[0m\n",
            "\u001b[0;32m/usr/local/lib/python3.10/dist-packages/torch/nn/modules/module.py\u001b[0m in \u001b[0;36m_wrapped_call_impl\u001b[0;34m(self, *args, **kwargs)\u001b[0m\n\u001b[1;32m   1516\u001b[0m             \u001b[0;32mreturn\u001b[0m \u001b[0mself\u001b[0m\u001b[0;34m.\u001b[0m\u001b[0m_compiled_call_impl\u001b[0m\u001b[0;34m(\u001b[0m\u001b[0;34m*\u001b[0m\u001b[0margs\u001b[0m\u001b[0;34m,\u001b[0m \u001b[0;34m**\u001b[0m\u001b[0mkwargs\u001b[0m\u001b[0;34m)\u001b[0m  \u001b[0;31m# type: ignore[misc]\u001b[0m\u001b[0;34m\u001b[0m\u001b[0;34m\u001b[0m\u001b[0m\n\u001b[1;32m   1517\u001b[0m         \u001b[0;32melse\u001b[0m\u001b[0;34m:\u001b[0m\u001b[0;34m\u001b[0m\u001b[0;34m\u001b[0m\u001b[0m\n\u001b[0;32m-> 1518\u001b[0;31m             \u001b[0;32mreturn\u001b[0m \u001b[0mself\u001b[0m\u001b[0;34m.\u001b[0m\u001b[0m_call_impl\u001b[0m\u001b[0;34m(\u001b[0m\u001b[0;34m*\u001b[0m\u001b[0margs\u001b[0m\u001b[0;34m,\u001b[0m \u001b[0;34m**\u001b[0m\u001b[0mkwargs\u001b[0m\u001b[0;34m)\u001b[0m\u001b[0;34m\u001b[0m\u001b[0;34m\u001b[0m\u001b[0m\n\u001b[0m\u001b[1;32m   1519\u001b[0m \u001b[0;34m\u001b[0m\u001b[0m\n\u001b[1;32m   1520\u001b[0m     \u001b[0;32mdef\u001b[0m \u001b[0m_call_impl\u001b[0m\u001b[0;34m(\u001b[0m\u001b[0mself\u001b[0m\u001b[0;34m,\u001b[0m \u001b[0;34m*\u001b[0m\u001b[0margs\u001b[0m\u001b[0;34m,\u001b[0m \u001b[0;34m**\u001b[0m\u001b[0mkwargs\u001b[0m\u001b[0;34m)\u001b[0m\u001b[0;34m:\u001b[0m\u001b[0;34m\u001b[0m\u001b[0;34m\u001b[0m\u001b[0m\n",
            "\u001b[0;32m/usr/local/lib/python3.10/dist-packages/torch/nn/modules/module.py\u001b[0m in \u001b[0;36m_call_impl\u001b[0;34m(self, *args, **kwargs)\u001b[0m\n\u001b[1;32m   1525\u001b[0m                 \u001b[0;32mor\u001b[0m \u001b[0m_global_backward_pre_hooks\u001b[0m \u001b[0;32mor\u001b[0m \u001b[0m_global_backward_hooks\u001b[0m\u001b[0;34m\u001b[0m\u001b[0;34m\u001b[0m\u001b[0m\n\u001b[1;32m   1526\u001b[0m                 or _global_forward_hooks or _global_forward_pre_hooks):\n\u001b[0;32m-> 1527\u001b[0;31m             \u001b[0;32mreturn\u001b[0m \u001b[0mforward_call\u001b[0m\u001b[0;34m(\u001b[0m\u001b[0;34m*\u001b[0m\u001b[0margs\u001b[0m\u001b[0;34m,\u001b[0m \u001b[0;34m**\u001b[0m\u001b[0mkwargs\u001b[0m\u001b[0;34m)\u001b[0m\u001b[0;34m\u001b[0m\u001b[0;34m\u001b[0m\u001b[0m\n\u001b[0m\u001b[1;32m   1528\u001b[0m \u001b[0;34m\u001b[0m\u001b[0m\n\u001b[1;32m   1529\u001b[0m         \u001b[0;32mtry\u001b[0m\u001b[0;34m:\u001b[0m\u001b[0;34m\u001b[0m\u001b[0;34m\u001b[0m\u001b[0m\n",
            "\u001b[0;32m/usr/local/lib/python3.10/dist-packages/transformers/models/bert/modeling_bert.py\u001b[0m in \u001b[0;36mforward\u001b[0;34m(self, hidden_states, attention_mask, head_mask, encoder_hidden_states, encoder_attention_mask, past_key_value, output_attentions)\u001b[0m\n\u001b[1;32m    537\u001b[0m             \u001b[0mpresent_key_value\u001b[0m \u001b[0;34m=\u001b[0m \u001b[0mpresent_key_value\u001b[0m \u001b[0;34m+\u001b[0m \u001b[0mcross_attn_present_key_value\u001b[0m\u001b[0;34m\u001b[0m\u001b[0;34m\u001b[0m\u001b[0m\n\u001b[1;32m    538\u001b[0m \u001b[0;34m\u001b[0m\u001b[0m\n\u001b[0;32m--> 539\u001b[0;31m         layer_output = apply_chunking_to_forward(\n\u001b[0m\u001b[1;32m    540\u001b[0m             \u001b[0mself\u001b[0m\u001b[0;34m.\u001b[0m\u001b[0mfeed_forward_chunk\u001b[0m\u001b[0;34m,\u001b[0m \u001b[0mself\u001b[0m\u001b[0;34m.\u001b[0m\u001b[0mchunk_size_feed_forward\u001b[0m\u001b[0;34m,\u001b[0m \u001b[0mself\u001b[0m\u001b[0;34m.\u001b[0m\u001b[0mseq_len_dim\u001b[0m\u001b[0;34m,\u001b[0m \u001b[0mattention_output\u001b[0m\u001b[0;34m\u001b[0m\u001b[0;34m\u001b[0m\u001b[0m\n\u001b[1;32m    541\u001b[0m         )\n",
            "\u001b[0;32m/usr/local/lib/python3.10/dist-packages/transformers/pytorch_utils.py\u001b[0m in \u001b[0;36mapply_chunking_to_forward\u001b[0;34m(forward_fn, chunk_size, chunk_dim, *input_tensors)\u001b[0m\n\u001b[1;32m    239\u001b[0m         \u001b[0;32mreturn\u001b[0m \u001b[0mtorch\u001b[0m\u001b[0;34m.\u001b[0m\u001b[0mcat\u001b[0m\u001b[0;34m(\u001b[0m\u001b[0moutput_chunks\u001b[0m\u001b[0;34m,\u001b[0m \u001b[0mdim\u001b[0m\u001b[0;34m=\u001b[0m\u001b[0mchunk_dim\u001b[0m\u001b[0;34m)\u001b[0m\u001b[0;34m\u001b[0m\u001b[0;34m\u001b[0m\u001b[0m\n\u001b[1;32m    240\u001b[0m \u001b[0;34m\u001b[0m\u001b[0m\n\u001b[0;32m--> 241\u001b[0;31m     \u001b[0;32mreturn\u001b[0m \u001b[0mforward_fn\u001b[0m\u001b[0;34m(\u001b[0m\u001b[0;34m*\u001b[0m\u001b[0minput_tensors\u001b[0m\u001b[0;34m)\u001b[0m\u001b[0;34m\u001b[0m\u001b[0;34m\u001b[0m\u001b[0m\n\u001b[0m\u001b[1;32m    242\u001b[0m \u001b[0;34m\u001b[0m\u001b[0m\n\u001b[1;32m    243\u001b[0m \u001b[0;34m\u001b[0m\u001b[0m\n",
            "\u001b[0;32m/usr/local/lib/python3.10/dist-packages/transformers/models/bert/modeling_bert.py\u001b[0m in \u001b[0;36mfeed_forward_chunk\u001b[0;34m(self, attention_output)\u001b[0m\n\u001b[1;32m    550\u001b[0m     \u001b[0;32mdef\u001b[0m \u001b[0mfeed_forward_chunk\u001b[0m\u001b[0;34m(\u001b[0m\u001b[0mself\u001b[0m\u001b[0;34m,\u001b[0m \u001b[0mattention_output\u001b[0m\u001b[0;34m)\u001b[0m\u001b[0;34m:\u001b[0m\u001b[0;34m\u001b[0m\u001b[0;34m\u001b[0m\u001b[0m\n\u001b[1;32m    551\u001b[0m         \u001b[0mintermediate_output\u001b[0m \u001b[0;34m=\u001b[0m \u001b[0mself\u001b[0m\u001b[0;34m.\u001b[0m\u001b[0mintermediate\u001b[0m\u001b[0;34m(\u001b[0m\u001b[0mattention_output\u001b[0m\u001b[0;34m)\u001b[0m\u001b[0;34m\u001b[0m\u001b[0;34m\u001b[0m\u001b[0m\n\u001b[0;32m--> 552\u001b[0;31m         \u001b[0mlayer_output\u001b[0m \u001b[0;34m=\u001b[0m \u001b[0mself\u001b[0m\u001b[0;34m.\u001b[0m\u001b[0moutput\u001b[0m\u001b[0;34m(\u001b[0m\u001b[0mintermediate_output\u001b[0m\u001b[0;34m,\u001b[0m \u001b[0mattention_output\u001b[0m\u001b[0;34m)\u001b[0m\u001b[0;34m\u001b[0m\u001b[0;34m\u001b[0m\u001b[0m\n\u001b[0m\u001b[1;32m    553\u001b[0m         \u001b[0;32mreturn\u001b[0m \u001b[0mlayer_output\u001b[0m\u001b[0;34m\u001b[0m\u001b[0;34m\u001b[0m\u001b[0m\n\u001b[1;32m    554\u001b[0m \u001b[0;34m\u001b[0m\u001b[0m\n",
            "\u001b[0;32m/usr/local/lib/python3.10/dist-packages/torch/nn/modules/module.py\u001b[0m in \u001b[0;36m_wrapped_call_impl\u001b[0;34m(self, *args, **kwargs)\u001b[0m\n\u001b[1;32m   1516\u001b[0m             \u001b[0;32mreturn\u001b[0m \u001b[0mself\u001b[0m\u001b[0;34m.\u001b[0m\u001b[0m_compiled_call_impl\u001b[0m\u001b[0;34m(\u001b[0m\u001b[0;34m*\u001b[0m\u001b[0margs\u001b[0m\u001b[0;34m,\u001b[0m \u001b[0;34m**\u001b[0m\u001b[0mkwargs\u001b[0m\u001b[0;34m)\u001b[0m  \u001b[0;31m# type: ignore[misc]\u001b[0m\u001b[0;34m\u001b[0m\u001b[0;34m\u001b[0m\u001b[0m\n\u001b[1;32m   1517\u001b[0m         \u001b[0;32melse\u001b[0m\u001b[0;34m:\u001b[0m\u001b[0;34m\u001b[0m\u001b[0;34m\u001b[0m\u001b[0m\n\u001b[0;32m-> 1518\u001b[0;31m             \u001b[0;32mreturn\u001b[0m \u001b[0mself\u001b[0m\u001b[0;34m.\u001b[0m\u001b[0m_call_impl\u001b[0m\u001b[0;34m(\u001b[0m\u001b[0;34m*\u001b[0m\u001b[0margs\u001b[0m\u001b[0;34m,\u001b[0m \u001b[0;34m**\u001b[0m\u001b[0mkwargs\u001b[0m\u001b[0;34m)\u001b[0m\u001b[0;34m\u001b[0m\u001b[0;34m\u001b[0m\u001b[0m\n\u001b[0m\u001b[1;32m   1519\u001b[0m \u001b[0;34m\u001b[0m\u001b[0m\n\u001b[1;32m   1520\u001b[0m     \u001b[0;32mdef\u001b[0m \u001b[0m_call_impl\u001b[0m\u001b[0;34m(\u001b[0m\u001b[0mself\u001b[0m\u001b[0;34m,\u001b[0m \u001b[0;34m*\u001b[0m\u001b[0margs\u001b[0m\u001b[0;34m,\u001b[0m \u001b[0;34m**\u001b[0m\u001b[0mkwargs\u001b[0m\u001b[0;34m)\u001b[0m\u001b[0;34m:\u001b[0m\u001b[0;34m\u001b[0m\u001b[0;34m\u001b[0m\u001b[0m\n",
            "\u001b[0;32m/usr/local/lib/python3.10/dist-packages/torch/nn/modules/module.py\u001b[0m in \u001b[0;36m_call_impl\u001b[0;34m(self, *args, **kwargs)\u001b[0m\n\u001b[1;32m   1525\u001b[0m                 \u001b[0;32mor\u001b[0m \u001b[0m_global_backward_pre_hooks\u001b[0m \u001b[0;32mor\u001b[0m \u001b[0m_global_backward_hooks\u001b[0m\u001b[0;34m\u001b[0m\u001b[0;34m\u001b[0m\u001b[0m\n\u001b[1;32m   1526\u001b[0m                 or _global_forward_hooks or _global_forward_pre_hooks):\n\u001b[0;32m-> 1527\u001b[0;31m             \u001b[0;32mreturn\u001b[0m \u001b[0mforward_call\u001b[0m\u001b[0;34m(\u001b[0m\u001b[0;34m*\u001b[0m\u001b[0margs\u001b[0m\u001b[0;34m,\u001b[0m \u001b[0;34m**\u001b[0m\u001b[0mkwargs\u001b[0m\u001b[0;34m)\u001b[0m\u001b[0;34m\u001b[0m\u001b[0;34m\u001b[0m\u001b[0m\n\u001b[0m\u001b[1;32m   1528\u001b[0m \u001b[0;34m\u001b[0m\u001b[0m\n\u001b[1;32m   1529\u001b[0m         \u001b[0;32mtry\u001b[0m\u001b[0;34m:\u001b[0m\u001b[0;34m\u001b[0m\u001b[0;34m\u001b[0m\u001b[0m\n",
            "\u001b[0;32m/usr/local/lib/python3.10/dist-packages/transformers/models/bert/modeling_bert.py\u001b[0m in \u001b[0;36mforward\u001b[0;34m(self, hidden_states, input_tensor)\u001b[0m\n\u001b[1;32m    463\u001b[0m     \u001b[0;32mdef\u001b[0m \u001b[0mforward\u001b[0m\u001b[0;34m(\u001b[0m\u001b[0mself\u001b[0m\u001b[0;34m,\u001b[0m \u001b[0mhidden_states\u001b[0m\u001b[0;34m:\u001b[0m \u001b[0mtorch\u001b[0m\u001b[0;34m.\u001b[0m\u001b[0mTensor\u001b[0m\u001b[0;34m,\u001b[0m \u001b[0minput_tensor\u001b[0m\u001b[0;34m:\u001b[0m \u001b[0mtorch\u001b[0m\u001b[0;34m.\u001b[0m\u001b[0mTensor\u001b[0m\u001b[0;34m)\u001b[0m \u001b[0;34m->\u001b[0m \u001b[0mtorch\u001b[0m\u001b[0;34m.\u001b[0m\u001b[0mTensor\u001b[0m\u001b[0;34m:\u001b[0m\u001b[0;34m\u001b[0m\u001b[0;34m\u001b[0m\u001b[0m\n\u001b[1;32m    464\u001b[0m         \u001b[0mhidden_states\u001b[0m \u001b[0;34m=\u001b[0m \u001b[0mself\u001b[0m\u001b[0;34m.\u001b[0m\u001b[0mdense\u001b[0m\u001b[0;34m(\u001b[0m\u001b[0mhidden_states\u001b[0m\u001b[0;34m)\u001b[0m\u001b[0;34m\u001b[0m\u001b[0;34m\u001b[0m\u001b[0m\n\u001b[0;32m--> 465\u001b[0;31m         \u001b[0mhidden_states\u001b[0m \u001b[0;34m=\u001b[0m \u001b[0mself\u001b[0m\u001b[0;34m.\u001b[0m\u001b[0mdropout\u001b[0m\u001b[0;34m(\u001b[0m\u001b[0mhidden_states\u001b[0m\u001b[0;34m)\u001b[0m\u001b[0;34m\u001b[0m\u001b[0;34m\u001b[0m\u001b[0m\n\u001b[0m\u001b[1;32m    466\u001b[0m         \u001b[0mhidden_states\u001b[0m \u001b[0;34m=\u001b[0m \u001b[0mself\u001b[0m\u001b[0;34m.\u001b[0m\u001b[0mLayerNorm\u001b[0m\u001b[0;34m(\u001b[0m\u001b[0mhidden_states\u001b[0m \u001b[0;34m+\u001b[0m \u001b[0minput_tensor\u001b[0m\u001b[0;34m)\u001b[0m\u001b[0;34m\u001b[0m\u001b[0;34m\u001b[0m\u001b[0m\n\u001b[1;32m    467\u001b[0m         \u001b[0;32mreturn\u001b[0m \u001b[0mhidden_states\u001b[0m\u001b[0;34m\u001b[0m\u001b[0;34m\u001b[0m\u001b[0m\n",
            "\u001b[0;32m/usr/local/lib/python3.10/dist-packages/torch/nn/modules/module.py\u001b[0m in \u001b[0;36m_wrapped_call_impl\u001b[0;34m(self, *args, **kwargs)\u001b[0m\n\u001b[1;32m   1516\u001b[0m             \u001b[0;32mreturn\u001b[0m \u001b[0mself\u001b[0m\u001b[0;34m.\u001b[0m\u001b[0m_compiled_call_impl\u001b[0m\u001b[0;34m(\u001b[0m\u001b[0;34m*\u001b[0m\u001b[0margs\u001b[0m\u001b[0;34m,\u001b[0m \u001b[0;34m**\u001b[0m\u001b[0mkwargs\u001b[0m\u001b[0;34m)\u001b[0m  \u001b[0;31m# type: ignore[misc]\u001b[0m\u001b[0;34m\u001b[0m\u001b[0;34m\u001b[0m\u001b[0m\n\u001b[1;32m   1517\u001b[0m         \u001b[0;32melse\u001b[0m\u001b[0;34m:\u001b[0m\u001b[0;34m\u001b[0m\u001b[0;34m\u001b[0m\u001b[0m\n\u001b[0;32m-> 1518\u001b[0;31m             \u001b[0;32mreturn\u001b[0m \u001b[0mself\u001b[0m\u001b[0;34m.\u001b[0m\u001b[0m_call_impl\u001b[0m\u001b[0;34m(\u001b[0m\u001b[0;34m*\u001b[0m\u001b[0margs\u001b[0m\u001b[0;34m,\u001b[0m \u001b[0;34m**\u001b[0m\u001b[0mkwargs\u001b[0m\u001b[0;34m)\u001b[0m\u001b[0;34m\u001b[0m\u001b[0;34m\u001b[0m\u001b[0m\n\u001b[0m\u001b[1;32m   1519\u001b[0m \u001b[0;34m\u001b[0m\u001b[0m\n\u001b[1;32m   1520\u001b[0m     \u001b[0;32mdef\u001b[0m \u001b[0m_call_impl\u001b[0m\u001b[0;34m(\u001b[0m\u001b[0mself\u001b[0m\u001b[0;34m,\u001b[0m \u001b[0;34m*\u001b[0m\u001b[0margs\u001b[0m\u001b[0;34m,\u001b[0m \u001b[0;34m**\u001b[0m\u001b[0mkwargs\u001b[0m\u001b[0;34m)\u001b[0m\u001b[0;34m:\u001b[0m\u001b[0;34m\u001b[0m\u001b[0;34m\u001b[0m\u001b[0m\n",
            "\u001b[0;32m/usr/local/lib/python3.10/dist-packages/torch/nn/modules/module.py\u001b[0m in \u001b[0;36m_call_impl\u001b[0;34m(self, *args, **kwargs)\u001b[0m\n\u001b[1;32m   1525\u001b[0m                 \u001b[0;32mor\u001b[0m \u001b[0m_global_backward_pre_hooks\u001b[0m \u001b[0;32mor\u001b[0m \u001b[0m_global_backward_hooks\u001b[0m\u001b[0;34m\u001b[0m\u001b[0;34m\u001b[0m\u001b[0m\n\u001b[1;32m   1526\u001b[0m                 or _global_forward_hooks or _global_forward_pre_hooks):\n\u001b[0;32m-> 1527\u001b[0;31m             \u001b[0;32mreturn\u001b[0m \u001b[0mforward_call\u001b[0m\u001b[0;34m(\u001b[0m\u001b[0;34m*\u001b[0m\u001b[0margs\u001b[0m\u001b[0;34m,\u001b[0m \u001b[0;34m**\u001b[0m\u001b[0mkwargs\u001b[0m\u001b[0;34m)\u001b[0m\u001b[0;34m\u001b[0m\u001b[0;34m\u001b[0m\u001b[0m\n\u001b[0m\u001b[1;32m   1528\u001b[0m \u001b[0;34m\u001b[0m\u001b[0m\n\u001b[1;32m   1529\u001b[0m         \u001b[0;32mtry\u001b[0m\u001b[0;34m:\u001b[0m\u001b[0;34m\u001b[0m\u001b[0;34m\u001b[0m\u001b[0m\n",
            "\u001b[0;32m/usr/local/lib/python3.10/dist-packages/torch/nn/modules/dropout.py\u001b[0m in \u001b[0;36mforward\u001b[0;34m(self, input)\u001b[0m\n\u001b[1;32m     56\u001b[0m \u001b[0;34m\u001b[0m\u001b[0m\n\u001b[1;32m     57\u001b[0m     \u001b[0;32mdef\u001b[0m \u001b[0mforward\u001b[0m\u001b[0;34m(\u001b[0m\u001b[0mself\u001b[0m\u001b[0;34m,\u001b[0m \u001b[0minput\u001b[0m\u001b[0;34m:\u001b[0m \u001b[0mTensor\u001b[0m\u001b[0;34m)\u001b[0m \u001b[0;34m->\u001b[0m \u001b[0mTensor\u001b[0m\u001b[0;34m:\u001b[0m\u001b[0;34m\u001b[0m\u001b[0;34m\u001b[0m\u001b[0m\n\u001b[0;32m---> 58\u001b[0;31m         \u001b[0;32mreturn\u001b[0m \u001b[0mF\u001b[0m\u001b[0;34m.\u001b[0m\u001b[0mdropout\u001b[0m\u001b[0;34m(\u001b[0m\u001b[0minput\u001b[0m\u001b[0;34m,\u001b[0m \u001b[0mself\u001b[0m\u001b[0;34m.\u001b[0m\u001b[0mp\u001b[0m\u001b[0;34m,\u001b[0m \u001b[0mself\u001b[0m\u001b[0;34m.\u001b[0m\u001b[0mtraining\u001b[0m\u001b[0;34m,\u001b[0m \u001b[0mself\u001b[0m\u001b[0;34m.\u001b[0m\u001b[0minplace\u001b[0m\u001b[0;34m)\u001b[0m\u001b[0;34m\u001b[0m\u001b[0;34m\u001b[0m\u001b[0m\n\u001b[0m\u001b[1;32m     59\u001b[0m \u001b[0;34m\u001b[0m\u001b[0m\n\u001b[1;32m     60\u001b[0m \u001b[0;34m\u001b[0m\u001b[0m\n",
            "\u001b[0;32m/usr/local/lib/python3.10/dist-packages/torch/nn/functional.py\u001b[0m in \u001b[0;36mdropout\u001b[0;34m(input, p, training, inplace)\u001b[0m\n\u001b[1;32m   1264\u001b[0m     \u001b[0;32mif\u001b[0m \u001b[0mp\u001b[0m \u001b[0;34m<\u001b[0m \u001b[0;36m0.0\u001b[0m \u001b[0;32mor\u001b[0m \u001b[0mp\u001b[0m \u001b[0;34m>\u001b[0m \u001b[0;36m1.0\u001b[0m\u001b[0;34m:\u001b[0m\u001b[0;34m\u001b[0m\u001b[0;34m\u001b[0m\u001b[0m\n\u001b[1;32m   1265\u001b[0m         \u001b[0;32mraise\u001b[0m \u001b[0mValueError\u001b[0m\u001b[0;34m(\u001b[0m\u001b[0;34mf\"dropout probability has to be between 0 and 1, but got {p}\"\u001b[0m\u001b[0;34m)\u001b[0m\u001b[0;34m\u001b[0m\u001b[0;34m\u001b[0m\u001b[0m\n\u001b[0;32m-> 1266\u001b[0;31m     \u001b[0;32mreturn\u001b[0m \u001b[0m_VF\u001b[0m\u001b[0;34m.\u001b[0m\u001b[0mdropout_\u001b[0m\u001b[0;34m(\u001b[0m\u001b[0minput\u001b[0m\u001b[0;34m,\u001b[0m \u001b[0mp\u001b[0m\u001b[0;34m,\u001b[0m \u001b[0mtraining\u001b[0m\u001b[0;34m)\u001b[0m \u001b[0;32mif\u001b[0m \u001b[0minplace\u001b[0m \u001b[0;32melse\u001b[0m \u001b[0m_VF\u001b[0m\u001b[0;34m.\u001b[0m\u001b[0mdropout\u001b[0m\u001b[0;34m(\u001b[0m\u001b[0minput\u001b[0m\u001b[0;34m,\u001b[0m \u001b[0mp\u001b[0m\u001b[0;34m,\u001b[0m \u001b[0mtraining\u001b[0m\u001b[0;34m)\u001b[0m\u001b[0;34m\u001b[0m\u001b[0;34m\u001b[0m\u001b[0m\n\u001b[0m\u001b[1;32m   1267\u001b[0m \u001b[0;34m\u001b[0m\u001b[0m\n\u001b[1;32m   1268\u001b[0m \u001b[0;34m\u001b[0m\u001b[0m\n",
            "\u001b[0;32m/usr/local/lib/python3.10/dist-packages/torch/_VF.py\u001b[0m in \u001b[0;36m__getattr__\u001b[0;34m(self, attr)\u001b[0m\n\u001b[1;32m     24\u001b[0m         \u001b[0mself\u001b[0m\u001b[0;34m.\u001b[0m\u001b[0mvf\u001b[0m \u001b[0;34m=\u001b[0m \u001b[0mtorch\u001b[0m\u001b[0;34m.\u001b[0m\u001b[0m_C\u001b[0m\u001b[0;34m.\u001b[0m\u001b[0m_VariableFunctions\u001b[0m\u001b[0;34m\u001b[0m\u001b[0;34m\u001b[0m\u001b[0m\n\u001b[1;32m     25\u001b[0m \u001b[0;34m\u001b[0m\u001b[0m\n\u001b[0;32m---> 26\u001b[0;31m     \u001b[0;32mdef\u001b[0m \u001b[0m__getattr__\u001b[0m\u001b[0;34m(\u001b[0m\u001b[0mself\u001b[0m\u001b[0;34m,\u001b[0m \u001b[0mattr\u001b[0m\u001b[0;34m)\u001b[0m\u001b[0;34m:\u001b[0m\u001b[0;34m\u001b[0m\u001b[0;34m\u001b[0m\u001b[0m\n\u001b[0m\u001b[1;32m     27\u001b[0m         \u001b[0;32mreturn\u001b[0m \u001b[0mgetattr\u001b[0m\u001b[0;34m(\u001b[0m\u001b[0mself\u001b[0m\u001b[0;34m.\u001b[0m\u001b[0mvf\u001b[0m\u001b[0;34m,\u001b[0m \u001b[0mattr\u001b[0m\u001b[0;34m)\u001b[0m\u001b[0;34m\u001b[0m\u001b[0;34m\u001b[0m\u001b[0m\n\u001b[1;32m     28\u001b[0m \u001b[0;34m\u001b[0m\u001b[0m\n",
            "\u001b[0;31mKeyboardInterrupt\u001b[0m: "
          ]
        }
      ]
    },
    {
      "cell_type": "code",
      "source": [
        "x_s,y_s = next(iter(test_loader))"
      ],
      "metadata": {
        "id": "6G9pfMDgEMrk"
      },
      "execution_count": null,
      "outputs": []
    },
    {
      "cell_type": "code",
      "source": [
        "prediction = torch.argmax(model.fc(get_big_x(x_s)), dim = 1)"
      ],
      "metadata": {
        "id": "hvg02ngIEMtk"
      },
      "execution_count": null,
      "outputs": []
    },
    {
      "cell_type": "code",
      "source": [
        "sum(y_s == prediction)"
      ],
      "metadata": {
        "colab": {
          "base_uri": "https://localhost:8080/"
        },
        "id": "ngrzxUOKEMv3",
        "outputId": "598a2461-fa32-4500-a09e-4696dd1275c5"
      },
      "execution_count": null,
      "outputs": [
        {
          "output_type": "execute_result",
          "data": {
            "text/plain": [
              "tensor(109)"
            ]
          },
          "metadata": {},
          "execution_count": 295
        }
      ]
    },
    {
      "cell_type": "code",
      "source": [
        "y_s"
      ],
      "metadata": {
        "colab": {
          "base_uri": "https://localhost:8080/"
        },
        "id": "rQnr8zXTFBmT",
        "outputId": "2bf550c6-e0d3-4c23-f0ac-70d16452a6e8"
      },
      "execution_count": null,
      "outputs": [
        {
          "output_type": "execute_result",
          "data": {
            "text/plain": [
              "tensor([5, 4, 5, 3, 5, 1, 5, 5, 3, 1, 4, 4, 5, 1, 3, 0, 4, 4, 0, 3, 3, 4, 3, 4,\n",
              "        4, 3, 1, 5, 3, 3, 5, 3, 0, 5, 4, 1, 0, 0, 1, 1, 4, 3, 0, 3, 0, 0, 1, 4,\n",
              "        1, 0, 4, 4, 1, 1, 3, 0, 1, 5, 3, 1, 1, 1, 0, 3, 0, 5, 3, 3, 3, 4, 3, 1,\n",
              "        4, 1, 1, 1, 0, 5, 4, 1, 5, 0, 1, 1, 1, 3, 5, 5, 3, 5, 5, 5, 0, 0, 0, 3,\n",
              "        3, 1, 2, 1, 3, 1, 4, 1, 5, 0, 5, 1, 1, 4, 3, 1, 3, 1, 3, 2, 5, 5, 0, 1,\n",
              "        1, 0, 1, 5, 1, 4, 1, 3, 3, 0])"
            ]
          },
          "metadata": {},
          "execution_count": 296
        }
      ]
    },
    {
      "cell_type": "code",
      "source": [
        "prediction"
      ],
      "metadata": {
        "colab": {
          "base_uri": "https://localhost:8080/"
        },
        "id": "OGRpg5dtFBot",
        "outputId": "dcb63552-4404-4a36-aa2a-a5677e82c503"
      },
      "execution_count": null,
      "outputs": [
        {
          "output_type": "execute_result",
          "data": {
            "text/plain": [
              "tensor([5, 3, 3, 1, 3, 4, 0, 5, 1, 5, 3, 5, 3, 0, 4, 0, 3, 3, 5, 5, 1, 1, 3, 4,\n",
              "        1, 3, 5, 4, 3, 0, 1, 0, 4, 3, 5, 4, 3, 5, 5, 1, 0, 1, 1, 5, 4, 5, 1, 1,\n",
              "        4, 1, 5, 0, 5, 0, 5, 0, 0, 5, 0, 4, 5, 4, 1, 4, 4, 4, 3, 4, 0, 1, 0, 0,\n",
              "        3, 5, 0, 4, 5, 4, 4, 3, 0, 4, 3, 5, 0, 0, 1, 1, 0, 5, 4, 3, 1, 4, 3, 1,\n",
              "        3, 1, 3, 5, 1, 4, 5, 3, 5, 4, 4, 0, 3, 5, 5, 0, 1, 3, 4, 3, 5, 4, 1, 3,\n",
              "        0, 5, 0, 4, 0, 3, 1, 3, 5, 0])"
            ]
          },
          "metadata": {},
          "execution_count": 286
        }
      ]
    },
    {
      "cell_type": "code",
      "source": [
        "total_loss"
      ],
      "metadata": {
        "colab": {
          "base_uri": "https://localhost:8080/"
        },
        "id": "xhmcKyjnB1m1",
        "outputId": "2e289364-e34c-4d2a-af8f-04931ce02625"
      },
      "execution_count": null,
      "outputs": [
        {
          "output_type": "execute_result",
          "data": {
            "text/plain": [
              "1.5730945248352854"
            ]
          },
          "metadata": {},
          "execution_count": 272
        }
      ]
    },
    {
      "cell_type": "code",
      "source": [
        "total_loss"
      ],
      "metadata": {
        "colab": {
          "base_uri": "https://localhost:8080/"
        },
        "id": "d7ENnLONCZnO",
        "outputId": "dbb5c158-bb6b-4edf-8118-da1f0472d740"
      },
      "execution_count": null,
      "outputs": [
        {
          "output_type": "execute_result",
          "data": {
            "text/plain": [
              "1.3286040550784062"
            ]
          },
          "metadata": {},
          "execution_count": 274
        }
      ]
    },
    {
      "cell_type": "code",
      "source": [
        "model.forward(get_big_x(x_s))"
      ],
      "metadata": {
        "colab": {
          "base_uri": "https://localhost:8080/"
        },
        "id": "EsC2ABV9CZpf",
        "outputId": "20b9eca0-feb3-411b-d7af-4e14383e7ecd"
      },
      "execution_count": null,
      "outputs": [
        {
          "output_type": "execute_result",
          "data": {
            "text/plain": [
              "BaseModelOutputWithPoolingAndCrossAttentions(last_hidden_state=tensor([[[-1.6194e+00,  4.2557e-01, -3.1865e+00,  ..., -5.8355e-03,\n",
              "          -9.3564e-01, -1.0759e-02],\n",
              "         [-2.2656e+00,  1.1381e+00,  8.3347e-01,  ..., -1.1366e+00,\n",
              "          -7.9659e-01,  1.1612e+00],\n",
              "         [-1.1523e+00,  3.4688e-01,  6.0958e-01,  ..., -1.6412e+00,\n",
              "           4.3674e-02, -1.8458e-01],\n",
              "         ...,\n",
              "         [ 2.0470e-01,  2.6800e-01,  2.3521e-03,  ..., -9.3579e-01,\n",
              "          -1.1946e+00, -3.1875e-01],\n",
              "         [-4.3293e-01,  5.1984e-01,  4.0717e-01,  ..., -1.3465e+00,\n",
              "          -1.2996e+00, -5.9949e-01],\n",
              "         [-1.7133e+00,  5.2311e-01,  4.1584e-01,  ..., -1.3871e+00,\n",
              "          -9.1107e-01,  5.0250e-01]]], grad_fn=<NativeLayerNormBackward0>), pooler_output=tensor([[-1.0000,  0.1268, -0.9992, -0.4620, -0.9979, -0.8092, -0.9974,  0.5125,\n",
              "          0.0925, -0.1791, -0.3463, -0.0690, -0.1103,  1.0000, -0.8554, -0.9489,\n",
              "          0.8608, -0.0280, -0.9388,  0.9993,  0.9701,  0.0961,  0.9991,  0.8984,\n",
              "         -1.0000, -0.0017, -0.9983,  0.8225,  0.9993, -0.0302, -0.1821, -0.0231,\n",
              "         -0.9867, -0.7341,  0.8197,  0.9998, -0.9358, -0.1245,  0.9200, -0.9990,\n",
              "          0.9792,  0.9913, -0.9997,  0.9827, -0.9999, -0.2473, -0.9997,  0.9990,\n",
              "          0.9927,  0.9964,  0.8801, -0.6949, -0.0670,  0.8253,  0.9987,  0.9969,\n",
              "         -0.9286, -0.8519,  0.9287, -0.3063, -0.1007,  0.4718, -0.9725,  0.9945,\n",
              "         -0.8136, -1.0000,  0.2504,  0.9211,  0.9167,  0.9917,  0.9856,  0.1915,\n",
              "         -0.9998, -0.0468,  0.6239, -0.9931, -0.8944,  0.3323, -0.6123,  0.1455,\n",
              "          0.7395, -0.0462, -0.9951, -1.0000,  0.9997, -0.9338,  0.6063,  0.9734,\n",
              "          0.6361,  0.9630, -0.7342,  0.9905, -0.9952,  0.9931, -0.7291,  0.3992,\n",
              "         -0.9362,  0.8055, -0.9999, -0.9045, -0.9980,  0.8073, -0.9998, -0.9835,\n",
              "         -0.9987,  0.7769, -0.9873, -0.9987,  0.3273,  0.8861,  0.9995,  0.3618,\n",
              "         -0.6319,  0.9938, -1.0000, -0.1473,  0.7845,  0.9429,  0.3414, -0.9018,\n",
              "          0.2633, -1.0000, -0.7056,  0.9629, -0.9999,  0.9128,  0.9939,  0.9857]],\n",
              "       grad_fn=<TanhBackward0>), hidden_states=None, past_key_values=None, attentions=None, cross_attentions=None)"
            ]
          },
          "metadata": {},
          "execution_count": 298
        }
      ]
    },
    {
      "cell_type": "code",
      "source": [],
      "metadata": {
        "id": "Laa_0DjgCZsJ"
      },
      "execution_count": null,
      "outputs": []
    },
    {
      "cell_type": "markdown",
      "source": [],
      "metadata": {
        "id": "ASFCmfq0HMfZ"
      }
    },
    {
      "cell_type": "markdown",
      "source": [
        "# Экспереминтирую с новой версией модели"
      ],
      "metadata": {
        "id": "ZybuuZg6HMpd"
      }
    },
    {
      "cell_type": "code",
      "source": [
        "class BertClassification_V2(nn.Module):\n",
        "\n",
        "  def __init__(self,bert_model,num_classes):\n",
        "    super().__init__()\n",
        "    self.bert = bert_model #output of size [1,128]\n",
        "    self.fc = nn.Sequential(nn.Linear(128,20),\n",
        "                            nn.ReLU(),\n",
        "                            nn.Linear(20,num_classes),\n",
        "                            nn.Sigmoid())\n",
        "\n",
        "  def get_vectors(self,x:dict):\n",
        "    vectors = self.bert(**x)['pooler_output'][0]\n",
        "    return vectors\n",
        "\n",
        "  def forward(self,x):\n",
        "    output = self.get_vectors(x)\n",
        "    output = self.fc(output) # must be tensor of size [6]\n",
        "    return output"
      ],
      "metadata": {
        "id": "tdZ58fieK9wB"
      },
      "execution_count": null,
      "outputs": []
    },
    {
      "cell_type": "code",
      "source": [
        "model = BertClassification_V2(tiny_bert,6)\n",
        "# device\n",
        "device = torch.device('cuda' if torch.cuda.is_available() else 'cpu')\n",
        "model.to(device)"
      ],
      "metadata": {
        "colab": {
          "base_uri": "https://localhost:8080/"
        },
        "outputId": "3baf6cae-8596-4923-a5b3-e57b3805e53c",
        "id": "T0LtFtqcK9wC"
      },
      "execution_count": null,
      "outputs": [
        {
          "output_type": "execute_result",
          "data": {
            "text/plain": [
              "BertClassification_V2(\n",
              "  (bert): BertModel(\n",
              "    (embeddings): BertEmbeddings(\n",
              "      (word_embeddings): Embedding(30522, 128, padding_idx=0)\n",
              "      (position_embeddings): Embedding(512, 128)\n",
              "      (token_type_embeddings): Embedding(2, 128)\n",
              "      (LayerNorm): LayerNorm((128,), eps=1e-12, elementwise_affine=True)\n",
              "      (dropout): Dropout(p=0.1, inplace=False)\n",
              "    )\n",
              "    (encoder): BertEncoder(\n",
              "      (layer): ModuleList(\n",
              "        (0-1): 2 x BertLayer(\n",
              "          (attention): BertAttention(\n",
              "            (self): BertSelfAttention(\n",
              "              (query): Linear(in_features=128, out_features=128, bias=True)\n",
              "              (key): Linear(in_features=128, out_features=128, bias=True)\n",
              "              (value): Linear(in_features=128, out_features=128, bias=True)\n",
              "              (dropout): Dropout(p=0.1, inplace=False)\n",
              "            )\n",
              "            (output): BertSelfOutput(\n",
              "              (dense): Linear(in_features=128, out_features=128, bias=True)\n",
              "              (LayerNorm): LayerNorm((128,), eps=1e-12, elementwise_affine=True)\n",
              "              (dropout): Dropout(p=0.1, inplace=False)\n",
              "            )\n",
              "          )\n",
              "          (intermediate): BertIntermediate(\n",
              "            (dense): Linear(in_features=128, out_features=512, bias=True)\n",
              "            (intermediate_act_fn): GELUActivation()\n",
              "          )\n",
              "          (output): BertOutput(\n",
              "            (dense): Linear(in_features=512, out_features=128, bias=True)\n",
              "            (LayerNorm): LayerNorm((128,), eps=1e-12, elementwise_affine=True)\n",
              "            (dropout): Dropout(p=0.1, inplace=False)\n",
              "          )\n",
              "        )\n",
              "      )\n",
              "    )\n",
              "    (pooler): BertPooler(\n",
              "      (dense): Linear(in_features=128, out_features=128, bias=True)\n",
              "      (activation): Tanh()\n",
              "    )\n",
              "  )\n",
              "  (fc): Sequential(\n",
              "    (0): Linear(in_features=128, out_features=20, bias=True)\n",
              "    (1): ReLU()\n",
              "    (2): Linear(in_features=20, out_features=6, bias=True)\n",
              "    (3): Sigmoid()\n",
              "  )\n",
              ")"
            ]
          },
          "metadata": {},
          "execution_count": 86
        }
      ]
    },
    {
      "cell_type": "code",
      "source": [
        "# loss_fn, optimizer\n",
        "loss_fn = nn.CrossEntropyLoss()\n",
        "optimizer = Adam(model.parameters(), lr=1e-3)"
      ],
      "metadata": {
        "id": "y3Pqr30dK9wC"
      },
      "execution_count": null,
      "outputs": []
    },
    {
      "cell_type": "code",
      "source": [
        "def stack_output(x):\n",
        "  stacked_output = None\n",
        "\n",
        "  for tokenized_text in x:\n",
        "    output = model.forward(tokenized_text)\n",
        "\n",
        "    if stacked_output is None:\n",
        "      stacked_output = output.unsqueeze(0)\n",
        "      #return stacked_output\n",
        "    else:\n",
        "      output = output.unsqueeze(0)\n",
        "      stacked_output = torch.cat((stacked_output,output), dim = 0)\n",
        "\n",
        "  stacked_output = stacked_output.to(torch.float32)\n",
        "\n",
        "  return stacked_output"
      ],
      "metadata": {
        "id": "YsdQ4wAAHPMB"
      },
      "execution_count": null,
      "outputs": []
    },
    {
      "cell_type": "code",
      "source": [
        "def train(model):\n",
        "  model.train()\n",
        "  total_loss = 0\n",
        "  total_correct = 0\n",
        "  total_obj = 0\n",
        "\n",
        "  for x,y in tqdm(train_loader, desc = \"Training\"):\n",
        "    optimizer.zero_grad()\n",
        "\n",
        "    # x = x.to(device)\n",
        "    # y = y.to(device)\n",
        "\n",
        "    stacked_output = stack_output(x)\n",
        "    prediction = torch.argmax(stacked_output, dim = 1)\n",
        "\n",
        "    loss = loss_fn(stacked_output,y)\n",
        "    loss.backward()\n",
        "    optimizer.step()\n",
        "\n",
        "    total_obj += len(y)\n",
        "\n",
        "    correct = sum(prediction == y).item()\n",
        "    total_correct += correct\n",
        "\n",
        "    total_loss += loss.item()\n",
        "\n",
        "  total_loss = total_loss/len(train_loader)\n",
        "  epoch_accuracy = total_correct / total_obj\n",
        "\n",
        "  return total_loss, epoch_accuracy"
      ],
      "metadata": {
        "id": "qJwizz2FKNv1"
      },
      "execution_count": null,
      "outputs": []
    },
    {
      "cell_type": "code",
      "source": [
        "loss_epoch = []\n",
        "accuracy_epoch = []\n",
        "\n",
        "for epoch in range(25):\n",
        "  tl,ea = train(model)\n",
        "  loss_epoch += [tl]\n",
        "  accuracy_epoch += [ea]"
      ],
      "metadata": {
        "colab": {
          "base_uri": "https://localhost:8080/"
        },
        "id": "-mO55e8GKNyW",
        "outputId": "8f2d0af4-fadc-47ab-c9c4-9aad3a80f922"
      },
      "execution_count": null,
      "outputs": [
        {
          "output_type": "stream",
          "name": "stderr",
          "text": [
            "\rTraining:   0%|          | 0/38 [00:00<?, ?it/s]/usr/local/lib/python3.10/dist-packages/torch/utils/data/dataloader.py:557: UserWarning: This DataLoader will create 4 worker processes in total. Our suggested max number of worker in current system is 2, which is smaller than what this DataLoader is going to create. Please be aware that excessive worker creation might get DataLoader running slow or even freeze, lower the worker number to avoid potential slowness/freeze if necessary.\n",
            "  warnings.warn(_create_warning_msg(\n",
            "Training: 100%|██████████| 38/38 [01:41<00:00,  2.67s/it]\n",
            "Training: 100%|██████████| 38/38 [01:34<00:00,  2.50s/it]\n",
            "Training: 100%|██████████| 38/38 [01:32<00:00,  2.44s/it]\n",
            "Training: 100%|██████████| 38/38 [01:32<00:00,  2.44s/it]\n",
            "Training: 100%|██████████| 38/38 [01:31<00:00,  2.42s/it]\n",
            "Training: 100%|██████████| 38/38 [01:32<00:00,  2.43s/it]\n",
            "Training: 100%|██████████| 38/38 [01:32<00:00,  2.44s/it]\n",
            "Training: 100%|██████████| 38/38 [01:32<00:00,  2.44s/it]\n",
            "Training: 100%|██████████| 38/38 [01:38<00:00,  2.58s/it]\n",
            "Training: 100%|██████████| 38/38 [01:33<00:00,  2.45s/it]\n",
            "Training: 100%|██████████| 38/38 [01:34<00:00,  2.49s/it]\n",
            "Training: 100%|██████████| 38/38 [01:29<00:00,  2.36s/it]\n",
            "Training: 100%|██████████| 38/38 [01:34<00:00,  2.48s/it]\n",
            "Training: 100%|██████████| 38/38 [01:34<00:00,  2.50s/it]\n",
            "Training: 100%|██████████| 38/38 [01:30<00:00,  2.38s/it]\n",
            "Training: 100%|██████████| 38/38 [01:33<00:00,  2.45s/it]\n",
            "Training: 100%|██████████| 38/38 [01:39<00:00,  2.62s/it]\n",
            "Training: 100%|██████████| 38/38 [01:34<00:00,  2.49s/it]\n",
            "Training: 100%|██████████| 38/38 [01:34<00:00,  2.49s/it]\n",
            "Training: 100%|██████████| 38/38 [01:33<00:00,  2.47s/it]\n",
            "Training: 100%|██████████| 38/38 [01:35<00:00,  2.51s/it]\n",
            "Training: 100%|██████████| 38/38 [01:35<00:00,  2.51s/it]\n",
            "Training: 100%|██████████| 38/38 [01:35<00:00,  2.52s/it]\n",
            "Training: 100%|██████████| 38/38 [01:32<00:00,  2.45s/it]\n",
            "Training: 100%|██████████| 38/38 [01:35<00:00,  2.52s/it]\n"
          ]
        }
      ]
    },
    {
      "cell_type": "code",
      "source": [
        "@torch.inference_mode()\n",
        "def evaluation(model):\n",
        "  model.eval()\n",
        "\n",
        "  all_predictions = []\n",
        "  y_true = []\n",
        "\n",
        "  for x, y in tqdm(test_loader, desc = \"Evaluation\"):\n",
        "    stacked_output = stack_output(x)\n",
        "    prediction = torch.argmax(stacked_output, dim = 1)\n",
        "    all_predictions +=  prediction.tolist()\n",
        "    y_true += y.tolist()\n",
        "\n",
        "  return all_predictions, y_true"
      ],
      "metadata": {
        "id": "yCKwUKM2HP9h"
      },
      "execution_count": null,
      "outputs": []
    },
    {
      "cell_type": "code",
      "source": [
        "all_predictions, y_true = evaluation(model)"
      ],
      "metadata": {
        "colab": {
          "base_uri": "https://localhost:8080/"
        },
        "id": "nGr5Kik8HP_m",
        "outputId": "3b4daa52-53cd-473d-be5a-270571771584"
      },
      "execution_count": null,
      "outputs": [
        {
          "output_type": "stream",
          "name": "stderr",
          "text": [
            "Evaluation: 100%|██████████| 5/5 [00:02<00:00,  1.68it/s]\n"
          ]
        }
      ]
    },
    {
      "cell_type": "code",
      "source": [
        "from sklearn.metrics import classification_report\n",
        "print(classification_report(y_true,all_predictions))"
      ],
      "metadata": {
        "colab": {
          "base_uri": "https://localhost:8080/"
        },
        "id": "7EQEyBuzQ5le",
        "outputId": "95006b67-73e6-4234-ff2a-c5713ae0091b"
      },
      "execution_count": null,
      "outputs": [
        {
          "output_type": "stream",
          "name": "stdout",
          "text": [
            "              precision    recall  f1-score   support\n",
            "\n",
            "           0       0.82      0.80      0.81       118\n",
            "           1       0.77      0.71      0.74       126\n",
            "           2       1.00      0.10      0.18        10\n",
            "           3       0.77      0.88      0.82       131\n",
            "           4       0.89      0.89      0.89        75\n",
            "           5       0.90      0.93      0.91        86\n",
            "\n",
            "    accuracy                           0.82       546\n",
            "   macro avg       0.86      0.72      0.73       546\n",
            "weighted avg       0.82      0.82      0.81       546\n",
            "\n"
          ]
        }
      ]
    }
  ]
}